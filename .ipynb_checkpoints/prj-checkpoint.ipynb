{
 "cells": [
  {
   "cell_type": "markdown",
   "id": "d198fcb8",
   "metadata": {},
   "source": [
    "## streaming"
   ]
  },
  {
   "cell_type": "code",
   "execution_count": 3,
   "id": "bfc11c4d",
   "metadata": {},
   "outputs": [
    {
     "name": "stdout",
     "output_type": "stream",
     "text": [
      "Waiting for TCP connection...\n",
      "Connected... Starting getting tweets.\n"
     ]
    },
    {
     "name": "stderr",
     "output_type": "stream",
     "text": [
      "\r",
      "[Stage 0:>                                                          (0 + 1) / 1]\r"
     ]
    },
    {
     "name": "stdout",
     "output_type": "stream",
     "text": [
      "-------------------------------------------\n",
      "Time: 2021-12-03 02:30:55\n",
      "-------------------------------------------\n",
      "\n"
     ]
    },
    {
     "name": "stderr",
     "output_type": "stream",
     "text": [
      "21/12/03 02:31:03 ERROR ReceiverTracker: Deregistered receiver for stream 0: Stopped by driver\n",
      "Exception in thread \"receiver-supervisor-future-0\" java.lang.Error: java.lang.InterruptedException: sleep interrupted\n",
      "\tat java.util.concurrent.ThreadPoolExecutor.runWorker(ThreadPoolExecutor.java:1155)\n",
      "\tat java.util.concurrent.ThreadPoolExecutor$Worker.run(ThreadPoolExecutor.java:624)\n",
      "\tat java.lang.Thread.run(Thread.java:748)\n",
      "Caused by: java.lang.InterruptedException: sleep interrupted\n",
      "\tat java.lang.Thread.sleep(Native Method)\n",
      "\tat org.apache.spark.streaming.receiver.ReceiverSupervisor.$anonfun$restartReceiver$1(ReceiverSupervisor.scala:196)\n",
      "\tat scala.runtime.java8.JFunction0$mcV$sp.apply(JFunction0$mcV$sp.java:23)\n",
      "\tat scala.concurrent.Future$.$anonfun$apply$1(Future.scala:659)\n",
      "\tat scala.util.Success.$anonfun$map$1(Try.scala:255)\n",
      "\tat scala.util.Success.map(Try.scala:213)\n",
      "\tat scala.concurrent.Future.$anonfun$map$1(Future.scala:292)\n",
      "\tat scala.concurrent.impl.Promise.liftedTree1$1(Promise.scala:33)\n",
      "\tat scala.concurrent.impl.Promise.$anonfun$transform$1(Promise.scala:33)\n",
      "\tat scala.concurrent.impl.CallbackRunnable.run(Promise.scala:64)\n",
      "\tat java.util.concurrent.ThreadPoolExecutor.runWorker(ThreadPoolExecutor.java:1149)\n",
      "\t... 2 more\n",
      "[Stage 1:>                                                          (0 + 1) / 1]\r"
     ]
    },
    {
     "name": "stdout",
     "output_type": "stream",
     "text": [
      "Error on_data: [Errno 32] Broken pipe\n"
     ]
    },
    {
     "name": "stderr",
     "output_type": "stream",
     "text": [
      "\r",
      "                                                                                \r"
     ]
    },
    {
     "name": "stdout",
     "output_type": "stream",
     "text": [
      "-------------------------------------------\n",
      "Time: 2021-12-03 02:31:00\n",
      "-------------------------------------------\n",
      "RT @OccupyDemocrats: BREAKING: January 6 Committee Chair Liz Cheney puts Trump on notice that ALL of his testimony “will be under oath,” an…RT @asiansolequeen: Haven't had a chance to take new content with my red pedi yet so enjoy some more pics from my previous set 🖤 Do you pre…RT @HOONENHYPEN: To engrave memories that can be remembered in the future, we didn't forget to take group photos that have the S+ quality s…Bhavu teri behen\n",
      "Nish humari bhabhi \n",
      "Red saree main? Itne armaan they\n",
      "\n",
      "Why do I feel that the theory is actually wo… https://t.co/htGi6PqHN7@jumeok_bob red flags all over mmmmm 😋😋RT @jon_trickett: We saw the pandemic as a time to pull closer together &amp; help each other through the hardship.\n",
      "\n",
      "The Tories saw the pandemi…10/10 Red NoticeeeRT @AyeshaS63089537: Check the manifesting power mann red saree today ❤ #TejRanLMFAOOO this tweet + video combo is my fave bc both these make me so happy. LMFAOOOORT @MichaelPSenger: The Nuremberg Code is working exactly as intended. It’s a red line humanity drew for itself, carried within every perso…@supposedok @Route2FI They'll notice once $JADE enters Top100 coins@MatrixMartian Show us a pic! This is just 1 of 4 garages I need to re spray redA rose drenced in red\n",
      "\n",
      "#hannahxxrosefanart https://t.co/8gLArifHPYRT @rohwisrose: OMG SF9 IN AAA 2021 RED CARPET!!! THEY LOOK SO GOOD😩💓 https://t.co/noPKsvz7PYTHAT PERSON SHOULD KNEEL AND ASK FOR FORGIVENESSRT @GOT7CBinfo: BTW by JAY B feat. Jay Park is featured in @TIDAL’s Best of Kpop 2021 Playlist!🎉\n",
      "\n",
      "...\n",
      "\n",
      "-------------------------------------------\n",
      "Time: 2021-12-03 02:31:05\n",
      "-------------------------------------------\n",
      "\n",
      "-------------------------------------------\n",
      "Time: 2021-12-03 02:31:10\n",
      "-------------------------------------------\n",
      "\n",
      "-------------------------------------------\n",
      "Time: 2021-12-03 02:31:15\n",
      "-------------------------------------------\n",
      "\n",
      "-------------------------------------------\n",
      "Time: 2021-12-03 02:31:20\n",
      "-------------------------------------------\n",
      "\n",
      "-------------------------------------------\n",
      "Time: 2021-12-03 02:31:25\n",
      "-------------------------------------------\n",
      "\n",
      "-------------------------------------------\n",
      "Time: 2021-12-03 02:31:30\n",
      "-------------------------------------------\n",
      "\n",
      "-------------------------------------------\n",
      "Time: 2021-12-03 02:31:35\n",
      "-------------------------------------------\n",
      "\n",
      "-------------------------------------------\n",
      "Time: 2021-12-03 02:31:40\n",
      "-------------------------------------------\n",
      "\n",
      "-------------------------------------------\n",
      "Time: 2021-12-03 02:31:45\n",
      "-------------------------------------------\n",
      "\n",
      "-------------------------------------------\n",
      "Time: 2021-12-03 02:31:50\n",
      "-------------------------------------------\n",
      "\n",
      "-------------------------------------------\n",
      "Time: 2021-12-03 02:31:55\n",
      "-------------------------------------------\n",
      "\n",
      "-------------------------------------------\n",
      "Time: 2021-12-03 02:32:00\n",
      "-------------------------------------------\n",
      "\n"
     ]
    }
   ],
   "source": [
    "from twitter.twitterHTTPClient import twitter_client\n",
    "from twitter.sparkStreaming import fetch_data\n",
    "from threading import Thread\n",
    "\n",
    "output_directory = './data/red-notice'\n",
    "\n",
    "IP = 'localhost'\n",
    "PORT = 9001\n",
    "STREAMTIME = 10\n",
    "\n",
    "# the tags to track\n",
    "tags = ['red', 'notice']\n",
    "\n",
    "client = twitter_client(IP, PORT)\n",
    "thread = Thread(target=client.run_client, args=(tags))\n",
    "thread.start()\n",
    "\n",
    "fetch_data(STREAMTIME, IP, PORT, output_directory)\n",
    "client.stop_client()"
   ]
  },
  {
   "cell_type": "markdown",
   "id": "031df01d",
   "metadata": {},
   "source": [
    "## reviews"
   ]
  },
  {
   "cell_type": "code",
   "execution_count": 3,
   "id": "fe5e40c6",
   "metadata": {},
   "outputs": [],
   "source": [
    "from tmdbv3api import TMDb, Movie"
   ]
  },
  {
   "cell_type": "code",
   "execution_count": 4,
   "id": "3ff3ad4c",
   "metadata": {},
   "outputs": [],
   "source": [
    "tmdb = TMDb()\n",
    "tmdb.api_key = '94b42385a681053cab08a06553dcfa19'\n",
    "tmdb.language = 'en'\n",
    "tmdb.debug = True"
   ]
  },
  {
   "cell_type": "code",
   "execution_count": null,
   "id": "e133e081",
   "metadata": {},
   "outputs": [],
   "source": [
    "movie = Movie().search('Red Notice')\n",
    "m = movie.details(search[0]['id'])"
   ]
  }
 ],
 "metadata": {
  "interpreter": {
   "hash": "fad867cfa03ebbbf80421dcd380638e027a5b963f86cdc02858bf6d5a7f81183"
  },
  "kernelspec": {
   "display_name": "Python 3.9.7 64-bit ('bd': conda)",
   "language": "python",
   "name": "python397jvsc74a57bd0fad867cfa03ebbbf80421dcd380638e027a5b963f86cdc02858bf6d5a7f81183"
  },
  "language_info": {
   "codemirror_mode": {
    "name": "ipython",
    "version": 3
   },
   "file_extension": ".py",
   "mimetype": "text/x-python",
   "name": "python",
   "nbconvert_exporter": "python",
   "pygments_lexer": "ipython3",
   "version": "3.9.7"
  }
 },
 "nbformat": 4,
 "nbformat_minor": 5
}
