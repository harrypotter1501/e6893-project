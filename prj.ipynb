{
 "cells": [
  {
   "cell_type": "markdown",
   "id": "d198fcb8",
   "metadata": {},
   "source": [
    "## streaming"
   ]
  },
  {
   "cell_type": "code",
   "execution_count": 3,
   "id": "bfc11c4d",
   "metadata": {},
   "outputs": [
    {
     "name": "stdout",
     "output_type": "stream",
     "text": [
      "Waiting for TCP connection...\n",
      "Connected... Starting getting tweets.\n"
     ]
    },
    {
     "name": "stderr",
     "output_type": "stream",
     "text": [
      "\r\n",
      "[Stage 0:>                                                          (0 + 1) / 1]\r"
     ]
    },
    {
     "name": "stdout",
     "output_type": "stream",
     "text": [
      "-------------------------------------------\n",
      "Time: 2021-12-03 02:30:55\n",
      "-------------------------------------------\n",
      "\n"
     ]
    },
    {
     "name": "stderr",
     "output_type": "stream",
     "text": [
      "21/12/03 02:31:03 ERROR ReceiverTracker: Deregistered receiver for stream 0: Stopped by driver\n",
      "Exception in thread \"receiver-supervisor-future-0\" java.lang.Error: java.lang.InterruptedException: sleep interrupted\n",
      "\tat java.util.concurrent.ThreadPoolExecutor.runWorker(ThreadPoolExecutor.java:1155)\n",
      "\tat java.util.concurrent.ThreadPoolExecutor$Worker.run(ThreadPoolExecutor.java:624)\n",
      "\tat java.lang.Thread.run(Thread.java:748)\n",
      "Caused by: java.lang.InterruptedException: sleep interrupted\n",
      "\tat java.lang.Thread.sleep(Native Method)\n",
      "\tat org.apache.spark.streaming.receiver.ReceiverSupervisor.$anonfun$restartReceiver$1(ReceiverSupervisor.scala:196)\n",
      "\tat scala.runtime.java8.JFunction0$mcV$sp.apply(JFunction0$mcV$sp.java:23)\n",
      "\tat scala.concurrent.Future$.$anonfun$apply$1(Future.scala:659)\n",
      "\tat scala.util.Success.$anonfun$map$1(Try.scala:255)\n",
      "\tat scala.util.Success.map(Try.scala:213)\n",
      "\tat scala.concurrent.Future.$anonfun$map$1(Future.scala:292)\n",
      "\tat scala.concurrent.impl.Promise.liftedTree1$1(Promise.scala:33)\n",
      "\tat scala.concurrent.impl.Promise.$anonfun$transform$1(Promise.scala:33)\n",
      "\tat scala.concurrent.impl.CallbackRunnable.run(Promise.scala:64)\n",
      "\tat java.util.concurrent.ThreadPoolExecutor.runWorker(ThreadPoolExecutor.java:1149)\n",
      "\t... 2 more\n",
      "[Stage 1:>                                                          (0 + 1) / 1]\r"
     ]
    },
    {
     "name": "stdout",
     "output_type": "stream",
     "text": [
      "Error on_data: [Errno 32] Broken pipe\n"
     ]
    },
    {
     "name": "stderr",
     "output_type": "stream",
     "text": [
      "\r\n",
      "                                                                                \r"
     ]
    },
    {
     "name": "stdout",
     "output_type": "stream",
     "text": [
      "-------------------------------------------\n",
      "Time: 2021-12-03 02:31:00\n",
      "-------------------------------------------\n",
      "RT @OccupyDemocrats: BREAKING: January 6 Committee Chair Liz Cheney puts Trump on notice that ALL of his testimony “will be under oath,” an…RT @asiansolequeen: Haven't had a chance to take new content with my red pedi yet so enjoy some more pics from my previous set 🖤 Do you pre…RT @HOONENHYPEN: To engrave memories that can be remembered in the future, we didn't forget to take group photos that have the S+ quality s…Bhavu teri behen\n",
      "Nish humari bhabhi \n",
      "Red saree main? Itne armaan they\n",
      "\n",
      "Why do I feel that the theory is actually wo… https://t.co/htGi6PqHN7@jumeok_bob red flags all over mmmmm 😋😋RT @jon_trickett: We saw the pandemic as a time to pull closer together &amp; help each other through the hardship.\n",
      "\n",
      "The Tories saw the pandemi…10/10 Red NoticeeeRT @AyeshaS63089537: Check the manifesting power mann red saree today ❤ #TejRanLMFAOOO this tweet + video combo is my fave bc both these make me so happy. LMFAOOOORT @MichaelPSenger: The Nuremberg Code is working exactly as intended. It’s a red line humanity drew for itself, carried within every perso…@supposedok @Route2FI They'll notice once $JADE enters Top100 coins@MatrixMartian Show us a pic! This is just 1 of 4 garages I need to re spray redA rose drenced in red\n",
      "\n",
      "#hannahxxrosefanart https://t.co/8gLArifHPYRT @rohwisrose: OMG SF9 IN AAA 2021 RED CARPET!!! THEY LOOK SO GOOD😩💓 https://t.co/noPKsvz7PYTHAT PERSON SHOULD KNEEL AND ASK FOR FORGIVENESSRT @GOT7CBinfo: BTW by JAY B feat. Jay Park is featured in @TIDAL’s Best of Kpop 2021 Playlist!🎉\n",
      "\n",
      "...\n",
      "\n",
      "-------------------------------------------\n",
      "Time: 2021-12-03 02:31:05\n",
      "-------------------------------------------\n",
      "\n",
      "-------------------------------------------\n",
      "Time: 2021-12-03 02:31:10\n",
      "-------------------------------------------\n",
      "\n",
      "-------------------------------------------\n",
      "Time: 2021-12-03 02:31:15\n",
      "-------------------------------------------\n",
      "\n",
      "-------------------------------------------\n",
      "Time: 2021-12-03 02:31:20\n",
      "-------------------------------------------\n",
      "\n",
      "-------------------------------------------\n",
      "Time: 2021-12-03 02:31:25\n",
      "-------------------------------------------\n",
      "\n",
      "-------------------------------------------\n",
      "Time: 2021-12-03 02:31:30\n",
      "-------------------------------------------\n",
      "\n",
      "-------------------------------------------\n",
      "Time: 2021-12-03 02:31:35\n",
      "-------------------------------------------\n",
      "\n",
      "-------------------------------------------\n",
      "Time: 2021-12-03 02:31:40\n",
      "-------------------------------------------\n",
      "\n",
      "-------------------------------------------\n",
      "Time: 2021-12-03 02:31:45\n",
      "-------------------------------------------\n",
      "\n",
      "-------------------------------------------\n",
      "Time: 2021-12-03 02:31:50\n",
      "-------------------------------------------\n",
      "\n",
      "-------------------------------------------\n",
      "Time: 2021-12-03 02:31:55\n",
      "-------------------------------------------\n",
      "\n",
      "-------------------------------------------\n",
      "Time: 2021-12-03 02:32:00\n",
      "-------------------------------------------\n",
      "\n"
     ]
    }
   ],
   "source": [
    "from twitter.twitterHTTPClient import twitter_client\n",
    "from twitter.sparkStreaming import fetch_data\n",
    "from threading import Thread\n",
    "\n",
    "output_directory = './data/red-notice'\n",
    "\n",
    "IP = 'localhost'\n",
    "PORT = 9001\n",
    "STREAMTIME = 10\n",
    "\n",
    "# the tags to track\n",
    "tags = ['red', 'notice']\n",
    "\n",
    "client = twitter_client(IP, PORT)\n",
    "thread = Thread(target=client.run_client, args=(tags))\n",
    "thread.start()\n",
    "\n",
    "fetch_data(STREAMTIME, IP, PORT, output_directory)\n",
    "client.stop_client()"
   ]
  },
  {
   "cell_type": "markdown",
   "id": "a38b880f",
   "metadata": {},
   "source": [
    "## reviews"
   ]
  },
  {
   "cell_type": "code",
   "execution_count": 1,
   "id": "2277083e",
   "metadata": {},
   "outputs": [],
   "source": [
    "from tmdbv3api import TMDb, Movie"
   ]
  },
  {
   "cell_type": "code",
   "execution_count": 2,
   "id": "9cbda62e",
   "metadata": {},
   "outputs": [],
   "source": [
    "tmdb = TMDb()\n",
    "tmdb.api_key = '94b42385a681053cab08a06553dcfa19'\n",
    "tmdb.language = 'en'\n",
    "tmdb.debug = True"
   ]
  },
  {
   "cell_type": "code",
   "execution_count": 3,
   "id": "f20430cf",
   "metadata": {},
   "outputs": [
    {
     "data": {
      "text/plain": [
       "{'adult': False, 'backdrop_path': '/5uVhMGsps81CN0S4U9NF0Z4tytG.jpg', 'genre_ids': [28, 35, 80, 53], 'id': 512195, 'original_language': 'en', 'original_title': 'Red Notice', 'overview': \"An Interpol-issued Red Notice is a global alert to hunt and capture the world's most wanted. But when a daring heist brings together the FBI's top profiler and two rival criminals, there's no telling what will happen.\", 'popularity': 3605.814, 'poster_path': '/wdE6ewaKZHr62bLqCn7A2DiGShm.jpg', 'release_date': '2021-11-04', 'title': 'Red Notice', 'video': False, 'vote_average': 6.8, 'vote_count': 1853}"
      ]
     },
     "execution_count": 3,
     "metadata": {},
     "output_type": "execute_result"
    }
   ],
   "source": [
    "movie = Movie()\n",
    "res = movie.search('Red Notice')\n",
    "res[0]"
   ]
  },
  {
   "cell_type": "code",
   "execution_count": 4,
   "id": "962dc985",
   "metadata": {},
   "outputs": [
    {
     "data": {
      "text/plain": [
       "dict_keys(['adult', 'backdrop_path', 'belongs_to_collection', 'budget', 'genres', 'homepage', 'id', 'imdb_id', 'original_language', 'original_title', 'overview', 'popularity', 'poster_path', 'production_companies', 'production_countries', 'release_date', 'revenue', 'runtime', 'spoken_languages', 'status', 'tagline', 'title', 'video', 'vote_average', 'vote_count', 'videos', 'trailers', 'images', 'casts', 'translations', 'keywords', 'release_dates'])"
      ]
     },
     "execution_count": 4,
     "metadata": {},
     "output_type": "execute_result"
    }
   ],
   "source": [
    "detail = movie.details(512195)\n",
    "detail.keys()"
   ]
  },
  {
   "cell_type": "code",
   "execution_count": 20,
   "id": "d61c56d7",
   "metadata": {},
   "outputs": [
    {
     "data": {
      "text/plain": [
       "'Action,Comedy,Crime,Thriller'"
      ]
     },
     "execution_count": 20,
     "metadata": {},
     "output_type": "execute_result"
    }
   ],
   "source": [
    "genres = ','.join([g['name'] for g in detail['genres']])\n",
    "genres"
   ]
  },
  {
   "cell_type": "code",
   "execution_count": 41,
   "id": "93f1060b",
   "metadata": {},
   "outputs": [
    {
     "data": {
      "text/plain": [
       "{'id': 512195,\n",
       " 'title': 'Red Notice',\n",
       " 'release_date': '2021-11-04',\n",
       " 'vote_average': 6.8,\n",
       " 'vote_count': 1884,\n",
       " 'genres': 'Action,Comedy,Crime,Thriller'}"
      ]
     },
     "execution_count": 41,
     "metadata": {},
     "output_type": "execute_result"
    }
   ],
   "source": [
    "feature_keys = ['id', 'title', 'release_date', 'vote_average', 'vote_count']\n",
    "features = {k: detail[k] for k in feature_keys}\n",
    "features['genres'] = genres\n",
    "features"
   ]
  },
  {
   "cell_type": "code",
   "execution_count": 8,
   "id": "425c5f84",
   "metadata": {},
   "outputs": [],
   "source": [
    "import pandas as pd"
   ]
  },
  {
   "cell_type": "code",
   "execution_count": 27,
   "id": "ec8643d2",
   "metadata": {},
   "outputs": [
    {
     "data": {
      "text/plain": [
       "id                                    512195\n",
       "title                             Red Notice\n",
       "release_date                      2021-11-04\n",
       "vote_average                             6.8\n",
       "vote_count                              1884\n",
       "genres          Action,Comedy,Crime,Thriller\n",
       "dtype: object"
      ]
     },
     "execution_count": 27,
     "metadata": {},
     "output_type": "execute_result"
    }
   ],
   "source": [
    "row = pd.Series(features)\n",
    "row"
   ]
  },
  {
   "cell_type": "code",
   "execution_count": 39,
   "id": "5e6f9ee7",
   "metadata": {},
   "outputs": [
    {
     "data": {
      "text/plain": [
       "\"i realize that this movie was not set to be a cinematographic masterpiece, but this is way too primitive of a plot, actor's performance, and overall impression.Heist Movie? Gal Gadot? I’m in.\\r\\n\\r\\nPlus Dwayne Johnson and Ryan Reynolds.\\r\\n\\r\\nI said I’m in! Sounds like a bunch of fun.\\r\\n\\r\\nBut somehow, it’s just not.\\r\\n\\r\\nJohnson is FBI agent John Hartley, and he’s on the trail of Nolan Booth (Reynolds), the 2nd most wanted art thief in the world.\\r\\n\\r\\nWho’s number 1? That would be The Bishop (Gadot), a mysterious criminal who always seems one step ahead of Booth in the quest to reunite three priceless jeweled eggs that Marc Antony once gave to Cleopatra. Yes, Cleopatra.\\r\\n\\r\\nAfter a snappy, parkour-heavy chase to open the film, Hartley offers Booth the chance to move up to the top spot on Interpol’s Red Notice (highest level arrest warrant) list. All he has to do is help Hartley and the Feds nab The Bishop.\\r\\n\\r\\nAnd the game is on!\\r\\n\\r\\nRead the full review on our website. https://www.ukfilmreview.co.uk/reviews/red-notice\""
      ]
     },
     "execution_count": 39,
     "metadata": {},
     "output_type": "execute_result"
    }
   ],
   "source": [
    "reviews_raw = movie.reviews(features['id'])\n",
    "reviews = ''.join(r['content'] for r in reviews_raw)\n",
    "reviews"
   ]
  },
  {
   "cell_type": "code",
   "execution_count": 42,
   "id": "c68f6220",
   "metadata": {},
   "outputs": [
    {
     "data": {
      "text/html": [
       "<div>\n",
       "<style scoped>\n",
       "    .dataframe tbody tr th:only-of-type {\n",
       "        vertical-align: middle;\n",
       "    }\n",
       "\n",
       "    .dataframe tbody tr th {\n",
       "        vertical-align: top;\n",
       "    }\n",
       "\n",
       "    .dataframe thead th {\n",
       "        text-align: right;\n",
       "    }\n",
       "</style>\n",
       "<table border=\"1\" class=\"dataframe\">\n",
       "  <thead>\n",
       "    <tr style=\"text-align: right;\">\n",
       "      <th></th>\n",
       "      <th>id</th>\n",
       "      <th>title</th>\n",
       "      <th>release_date</th>\n",
       "      <th>vote_average</th>\n",
       "      <th>vote_count</th>\n",
       "      <th>genres</th>\n",
       "      <th>reviews</th>\n",
       "    </tr>\n",
       "  </thead>\n",
       "  <tbody>\n",
       "    <tr>\n",
       "      <th>0</th>\n",
       "      <td>512195</td>\n",
       "      <td>Red Notice</td>\n",
       "      <td>2021-11-04</td>\n",
       "      <td>6.8</td>\n",
       "      <td>1884</td>\n",
       "      <td>Action,Comedy,Crime,Thriller</td>\n",
       "      <td>i realize that this movie was not set to be a ...</td>\n",
       "    </tr>\n",
       "  </tbody>\n",
       "</table>\n",
       "</div>"
      ],
      "text/plain": [
       "       id       title release_date  vote_average  vote_count  \\\n",
       "0  512195  Red Notice   2021-11-04           6.8        1884   \n",
       "\n",
       "                         genres  \\\n",
       "0  Action,Comedy,Crime,Thriller   \n",
       "\n",
       "                                             reviews  \n",
       "0  i realize that this movie was not set to be a ...  "
      ]
     },
     "execution_count": 42,
     "metadata": {},
     "output_type": "execute_result"
    }
   ],
   "source": [
    "row['reviews'] = reviews\n",
    "df = pd.DataFrame([row])\n",
    "df"
   ]
  },
  {
   "cell_type": "code",
   "execution_count": 5,
   "id": "03666112",
   "metadata": {},
   "outputs": [],
   "source": [
    "from imdb import IMDb"
   ]
  },
  {
   "cell_type": "code",
   "execution_count": 6,
   "id": "b2456a65",
   "metadata": {},
   "outputs": [
    {
     "data": {
      "text/plain": [
       "[<Movie id:7991608[http] title:_Red Notice (2021)_>,\n",
       " <Movie id:2011746[http] title:_\"Red Notice\" (2011)_>,\n",
       " <Movie id:15944472[http] title:_\"Burning Questions\" Red Notice (2021)_>,\n",
       " <Movie id:16088512[http] title:_Red Notice: Bach Ke Rehna (2021)_>,\n",
       " <Movie id:7555608[http] title:_\"48 Hours\" Red Notice for Murder (2017)_>,\n",
       " <Movie id:16234514[http] title:_\"Screen Rant Pitch Meetings\" Red Notice (2021)_>,\n",
       " <Movie id:4479380[http] title:_SAS: Red Notice (2021)_>,\n",
       " <Movie id:13248590[http] title:_Burn, Noticed Noticed (2019)_>,\n",
       " <Movie id:14228218[http] title:_\"Made in Hollywood\" Trust/Son/SAS: Red Notice (2021)_>,\n",
       " <Movie id:16301272[http] title:_Aline, Eastwood, Red Notice & Pandora (2021) (Podcast Episode)  - Season 1 | Episode 81  - Pardon le cinéma (2020)_>,\n",
       " <Movie id:13249260[http] title:_Burn, Noticed ft. Burn, Noticed Noticed (2020) (Podcast Episode)  - Season 2 | Episode 1  - Burn, Noticed Noticed (2019)_>,\n",
       " <Movie id:0152058[http] title:_Station Master (1941)_>,\n",
       " <Movie id:7181606[http] title:_\"Trops\" Notice Me Wednesday (2017)_>,\n",
       " <Movie id:4704016[http] title:_Grigi: Jednom shvatices (2015)_>,\n",
       " <Movie id:1732672[http] title:_La montre dénonciatrice (1908)_>,\n",
       " <Movie id:16377268[http] title:_\"Pop Culture Crisis\" Netflix's New Movie RED NOTICE Becomes Their MOST WATCHED MOVIE! (2021)_>,\n",
       " <Movie id:8056164[http] title:_How the Moon Fell from the Sky and No One Even Noticed (2018)_>,\n",
       " <Movie id:5851892[http] title:_\"What's Happening\" Red Nose Day - Seat Filler Tickets (2016)_>,\n",
       " <Movie id:9346754[http] title:_Tour Edge Golf: Exotics (2012) (V)_>,\n",
       " <Movie id:15825242[http] title:_\"Fox News: Clips\" Tucker: You're Being Instructed Not to Notice This (2021)_>]"
      ]
     },
     "execution_count": 6,
     "metadata": {},
     "output_type": "execute_result"
    }
   ],
   "source": [
    "ia = IMDb()\n",
    "movies = ia.search_movie('red notice')\n",
    "movies"
   ]
  },
  {
   "cell_type": "code",
   "execution_count": 7,
   "id": "669cc2a8",
   "metadata": {},
   "outputs": [
    {
     "data": {
      "text/plain": [
       "'7991608'"
      ]
     },
     "execution_count": 7,
     "metadata": {},
     "output_type": "execute_result"
    }
   ],
   "source": [
    "movies[0].movieID"
   ]
  },
  {
   "cell_type": "code",
   "execution_count": 8,
   "id": "cf6060ef",
   "metadata": {},
   "outputs": [],
   "source": [
    "rn = ia.get_movie('7991608', ['reviews'])"
   ]
  },
  {
   "cell_type": "code",
   "execution_count": 9,
   "id": "e720ad30",
   "metadata": {},
   "outputs": [
    {
     "data": {
      "text/plain": [
       "['reviews']"
      ]
     },
     "execution_count": 9,
     "metadata": {},
     "output_type": "execute_result"
    }
   ],
   "source": [
    "rn.current_info"
   ]
  },
  {
   "cell_type": "code",
   "execution_count": 10,
   "id": "bc15251c",
   "metadata": {},
   "outputs": [
    {
     "data": {
      "text/plain": [
       "[{'content': \"Mark Antony gave Cleopatra three bejeweled eggs as a wedding gift. One of them has been lost to history. FBI agent John Hartley (Dwayne Johnson) is working with Interpol to catch jewel thieves trying to steal all the eggs. He catches Nolan Booth (Ryan Reynolds) but a tip from the mysterious Bishop (Gal Gadot) has Hartley entangled with the crime.This film costs Netflix $200 million. Maybe it's worthwhile for its streaming purposes. For me, it's not worthwhile for its cinematic purposes. There is no doubt that this has plenty of star power. On its face, this trio should make a fun slick action comedy but it struggles to build chemistry. Right from the start, there is something unreal about this more than its ridiculous superhero action structure. There is something wrong with the character Hartley being imprisoned by the Russians. It doesn't make sense. It may not matter to some but it's hella annoying to me. I started to expect The Rock to turn. In fact, I suspected a full heel turn during the fight in the gunrunner's vault. Even after the turn, this movie still doesn't make sense. Again, most people could not care less but it is very annoying to me.The bigger issue may be a need for better chemistry between Ryan Reynolds and The Rock. It should be the easiest thing in the world but Hartley's character is hounded by my suspicions. That prevents the chemistry to truly take hold. I'd rather they do it straight like 48 Hrs. I would also put Gal Gadot into the Inspector Urvashi Das role. I make The Bishop as the ubervillain and the trio can team up to take him down. This one feels very desperate to be slick fun rather than actually being that. I'm guessing that they expect to do more of these movies but I don't see how.\",\n",
       "  'helpful': 0,\n",
       "  'title': '',\n",
       "  'author': 'ur2898520',\n",
       "  'date': '17 November 2021',\n",
       "  'rating': None,\n",
       "  'not_helpful': 0},\n",
       " {'content': \"Director and writer Rawson Marshall Thurber makes a late bid to direct an Indiana Jones movie. A character even whistles the Indy theme.With the Rock in the cast, it even pays homage to James Cameron's True Lies. There is even sultry Tango dance scene.Red Notice is a caper movie. John Hartley (Dwayne Johnson) is a profiler who is after art thief Nolan Booth (Ryan Reynolds) over three ancient fabled jewelled eggs given to Cleopatra.Getting in their way is the world's most wanted art thief called The Bishop (Gal Gadot) who always seems to be one step ahead.After being framed, Hartley needs to team up with Booth to clear his name.This is a mismatched buddy movie. Reynolds is untrustworthy and quick with the wisecracks. The Rock is there for the action scenes although you might raise an eyebrow when he gets a beating from Gadot.It is high octane and a lot of mindless fun. I rather enjoyed it. The Nazi vehicle car chase is on the silly side. It does have plenty of CGI, mainly due to a lack of international location shooting because of Covid.\",\n",
       "  'helpful': 0,\n",
       "  'title': '',\n",
       "  'author': 'ur4569900',\n",
       "  'date': '20 November 2021',\n",
       "  'rating': None,\n",
       "  'not_helpful': 0},\n",
       " {'content': \"John Hartley (Dwayne Johnson) is an FBI agent working with INTERPOL attempting to locate Nolan Booth (Ryan Reynolds) a thief who is after Cleopatra's eggs. The Bishop (Gal Gadot) enters later as someone also after the eggs.The film is an action-comedy. It is twisty. Very twisty. There is an element of Indian Jones in the feature. Hard not to enjoy.Guide: F-word. No sex or nudity.\",\n",
       "  'helpful': 0,\n",
       "  'title': '',\n",
       "  'author': 'ur77881167',\n",
       "  'date': '7 December 2021',\n",
       "  'rating': None,\n",
       "  'not_helpful': 0},\n",
       " {'content': 'Or is it fifth wheel? I forget the saying - but it doesn\\'t really matter because you only have three main characters here. If you don\\'t count the woman chasing after Ryan Reynolds character. The movie overall seems quite straightforward. Odd choices by characters that don\\'t make sense included - like things they do. I understand they are there to build suspense and tension, but they don\\'t actually make sense.You\\'ll understand once you\\'ve seen the movie. It is the type of movie that is overall \"forgettable\". In the sense that you probably won\\'t think about it much - neither during watching it nor after having seen it. But the actors make it quite an enjoyable ride to take part of. Even Gal Gadot who I like and find quite attractive in general, but have not enjoyed acting wise as much, is quite fitting overall.Ryan Reynolds is his usual funny self - stealing the show if you allow the pun. Even though he wasn\\'t a producer on this and only \"acting\" in this one. He said in interviews that it was quite freeing (a Free guy at last, sorry had to) - experience wise. Any fan of his will be more than excited watching the movie. Add the Rock as a spice and you can not do wrong. Lower your expectations and just go with the flow.',\n",
       "  'helpful': 0,\n",
       "  'title': '',\n",
       "  'author': 'ur5876717',\n",
       "  'date': '17 November 2021',\n",
       "  'rating': None,\n",
       "  'not_helpful': 0},\n",
       " {'content': \"This isn't the greatest caper film by a long shot, but I thought it was pretty entertaining, with lots of humorous dialog between FBI profiler John Hartley (Dwayne Johnson) and world class art thief Nolan Booth (Ryan Reynolds). Throw in Gal Gadot as The Bishop and a foil for both men, and you've got a fast paced flick that darts around the world with the trio pulling off their various antics. With the three of them turning up all over the place these days, I guess it was a natural that they wind up in a film together. The plot makes me wonder though, how long film makers will continue to resort to Nazi treasures from World War II; there can't be too many of those still hanging around by now. In any event, the fairly clichéd story is livened up by the sudden change of locales, the brisk pace, and the effective chemistry between the principal players, even when they find themselves on opposite sides of the plot. Nice work too from Ritu Arya as Inspector Urvashi Das; I'd like to see her turn up in the sequel.\",\n",
       "  'helpful': 0,\n",
       "  'title': '',\n",
       "  'author': 'ur2707735',\n",
       "  'date': '18 November 2021',\n",
       "  'rating': None,\n",
       "  'not_helpful': 0},\n",
       " {'content': \"In the opening prologue we are told that Mark Anthony gave Cleopatra three jewel encrusted eggs as a wedding present. After their deaths the eggs were lost until two were discovered in 1907. One is in a Rome museum, one is owned by Sotto Voce, an arms dealer, and the other is still lost.After a tip off from an art thief known as 'The Bishop, 'FBI Profiler Special Agent John Hartley believes that rival art thief Nolan Booth is planning to steal the first egg so heads to Rome with Interpol agent Urvashi Das and a team of police to arrest him. The operation appears to go well but the egg disappears; Hartley is accused of being involved and finds himself in the same Russian jail cell as Booth. Hartley wants to clear his name and arrest the thieves but to do that he will have to form an unlikely alliance with Booth and seek the eggs. Before the adventure is over they will have visited several countries and faced various dangers. There will also be further twists.It must be stated that this is a fairly silly film that requires the viewer to suspend disbelief and enjoy the ride; if one can do that it is rather fun. There is a lot of action in a series of exciting set pieces; fights; chases, shooting and explosions but nobody is seen to be killed. There are plenty of laughs to be had; usually provided by the banter between Booth and Hartley. The three leads; Dwayne Johnson, Ryan Reynolds and Gal Godot put in solid and enjoyable performances as Hartley, Booth and The Bishop; other notable performances come from Ritu Arya as Urvashi Das and Chris Diamantopoulos as Sotto Voce. Overall I'd say this is well worth watching if you want a brain-in-neutral thrill ride with excitement and laughs but not much to cause offence.\",\n",
       "  'helpful': 0,\n",
       "  'title': '',\n",
       "  'author': 'ur13977076',\n",
       "  'date': '17 November 2021',\n",
       "  'rating': None,\n",
       "  'not_helpful': 0},\n",
       " {'content': 'Of course I had to sit down to watch the 2021 action crime comedy titled \"Red Notice\" given the three leading performers that starred in this movie. Had I heard about the movie prior to finding it on Netflix? Nope. But then again, I don\\'t really bother keeping up with trailers and forthcoming releases.Writer and director Rawson Marshall Thurber definitely managed to put together a very entertaining and wholesome storyline and plot for \"Red Notice\". And it was a story that contains a good amount of action, comedy, thrills and plot twists. So yeah, I was certainly entertained from the very beginning and up to the end. And I must also admit that some of the plot twists were rather enjoyable and some that I hadn\\'t foreseen coming.Needless to say that with a cast that includes Ryan Reynolds, Gal Gadot and Dwayne Johnson, then of course you are in for a stellar time with great performances. And the three lead performers definitely delivered. It should be noted that the performance from Chris Diamantopoulos and Daniel Bernhardt were also good, just wish that the latter had a bigger part to play in the movie.\"Red Notice\" takes you all across the world in a wonderful heist adventure with interesting characters, fast paced action, good comedy and also good dialogue. And the fact that the movie was very dynamic in its cinematography definitely helped to sell the movie.You should certainly sit down to watch \"Red Notice\" if you get the chance.My rating of \"Red Notice\" lands on a very well-deserved eight out of ten stars.',\n",
       "  'helpful': 0,\n",
       "  'title': '',\n",
       "  'author': 'ur22654354',\n",
       "  'date': '12 November 2021',\n",
       "  'rating': None,\n",
       "  'not_helpful': 0},\n",
       " {'content': 'Dwayne Johnson stars with Ryan Reynolds and Gal Gadot in \"Red Notice\" from 2021.Mark Antony gave Cleopatra three bejeweled eggs as a wedding gift. Think Faberge eggs on steroids. Johnson plays John Hartley, who works for the FBI, trying to catch a notorious jewel thief, Nolan Booth (Ryan Reynolds) before he manages to steal them.I\\'ve never seen a Dwayne Johnson movie. For me, this was a lot of fun, with great characters and dialogue, particularly Reynolds. \"This is farm to table, right?\" he asks a prison chef as slop is slapped into a bowl. He and Johnson are very funny together, and the action is non-stop. Gadot is gorgeous.I enjoyed all the clever escapes, the banter, the fights, the parties, the dancing, even the derivative Indiana Jones feel of the movie.Mindless fun - and sometimes that\\'s just what the doctor ordered.',\n",
       "  'helpful': 0,\n",
       "  'title': '',\n",
       "  'author': 'ur0342623',\n",
       "  'date': '24 November 2021',\n",
       "  'rating': None,\n",
       "  'not_helpful': 0},\n",
       " {'content': 'Not as good as I was anticipating. A few good jokes and fight scenes, but the script was bland and the visuals looked fake. An all star cast but no substance to the story or characters.',\n",
       "  'helpful': 0,\n",
       "  'title': '',\n",
       "  'author': 'ur29385135',\n",
       "  'date': '14 November 2021',\n",
       "  'rating': None,\n",
       "  'not_helpful': 0},\n",
       " {'content': 'This film begins with a story about three jewel-encrusted, golden eggs presented to Cleopatra from Mark Antony before their deaths. Needless to say, they are quite valuable with the first being displayed at the Museo Nazionale di Castel Sant\\'Angelo in Rome, the second one owned by a private collector and the third having never been found. So, when the word goes out that a rich Egyptian billionaire will pay $300 million for all three of these eggs to present at his daughter\\'s upcoming wedding, \"Special Agent John Hartley\" of the FBI immediately heads to Rome in anticipation of a heist. However, when he and Interpol agent \"Urvashi Das\" (Ritu Arya) arrive at the museum they discover that the egg has been stolen only minutes before by an infamous jewel thief named \"Nolan Booth\" (Ryan Reynolds). Naturally, a manhunt is immediately ordered but complicating matters is the fact than an even more notorious jewel thief by the name of \"The Bishop\" (Gal Gadot) also wants all three eggs and she is even better at this business than Nolan Booth. Now rather than reveal any more I will just say this was an enjoyable action film for the most part with some good comedy thrown into the mix as well. Admittedly, some of the action scenarios were a bit too far-fetched in my opinion, but all things being considered I found this to be an entertaining movie all the same and I have rated it accordingly. Slightly above average.',\n",
       "  'helpful': 0,\n",
       "  'title': '',\n",
       "  'author': 'ur36357573',\n",
       "  'date': '5 December 2021',\n",
       "  'rating': None,\n",
       "  'not_helpful': 0},\n",
       " {'content': \"Weird flick, even as it has a lot of action and funny moments still it wasn't really my thing.Dis I laugh yes sure I did especially with the car/motorbike chase and in some situations but the problem I had, the acting was well, how do I say. The main leads were all doing what they do best, and espescially with the Ryan jokes it reminded me a lot of Deadpool.It's not that the acting was bad, guess it's the script.So overall a family flick...typical netflixGore 0/5 Nudity 0/5 Effects 4/5 Story 2;5/5 Comedy 1,5/5.\",\n",
       "  'helpful': 0,\n",
       "  'title': '',\n",
       "  'author': 'ur12844960',\n",
       "  'date': '24 November 2021',\n",
       "  'rating': None,\n",
       "  'not_helpful': 0},\n",
       " {'content': 'The title of the movie comes from Interpol\\'s \"most wanted\" list, but in it it\\'s not about the Russian, South American and Muslim folks in the real list, but about art thieves, conning and stealing from everybody and each other. You got Ryan Reynolds with his usual charm and jokes, you get The Rock with his bulk and shiny smile and you get Gal Gadot with her beauty and... overwhelming competence? In movie speak, it\\'s a match made in heaven, and the film is not that bad. So win, win. If you check your brain at the door you will enjoy the movie.The problem is that you\\'ve seen it all before. Ryan Reynolds does the same jokes, The Rock rocks the same way, Gal Gadot is relatively new, but she might as well have been Wonder Woman and you wouldn\\'t have noticed (heh) the difference. Also, the Red Notice thing (already used in another Reynolds film), The Rock in a team of daring thieves that are good at heart (also done), the team of reluctant heroes, the cardboard cops and villains, the formulaic escapes and heist plans that can\\'t work in the real life. Absolutely NOTHING new.And you know at the end there\\'s going to be the mother of all twists, and you wait for it, even if it\\'s a bit obvious. And you enjoy the action, even if it feels like The Rock is the playing character in a video game and he just goes along with the cinematics in order to do the daring feats without dying, even if he has save games. And you like the characters because the actors are so charismatic. But the story and the plot... those get sacrificed yet again.Bottom line: a completely standard film that you\\'ve seen dozens of times before, just with more fashionable stars.',\n",
       "  'helpful': 0,\n",
       "  'title': '',\n",
       "  'author': 'ur3146136',\n",
       "  'date': '12 November 2021',\n",
       "  'rating': None,\n",
       "  'not_helpful': 0},\n",
       " {'content': \"Red Notice is an interesting experiment to see what happens when you put three attractive and charismatic lead actors in a movie with a cookie-cutter plot. As it turns out, it's pretty enjoyable. And while the twists and turns don't really make sense, I still found myself smirking at the jokes and allowing ridiculousness because I was having a good time. Red Notice doesn't break any new ground, but it's a safe bet if you're looking for an action comedy to pass the time.\",\n",
       "  'helpful': 0,\n",
       "  'title': '',\n",
       "  'author': 'ur6201371',\n",
       "  'date': '26 November 2021',\n",
       "  'rating': None,\n",
       "  'not_helpful': 0},\n",
       " {'content': \"Often times people in the house will watch movies like RN. I've seen the trailers and had 0 interest. It looked like another filth movie. So since the movie is playing I might as well watch it and write an honest review.It stars the so called Peoples Champ, horrible Deadpool guy and umm... What looks like that lady who stars as Groot I mean Wonder Man.RN is just another one of those waste of time movies. The CGI looks garbage and Ryan doesn't know how to act like anyone else but Deadpool. Those movies were garbage. Don't worry I'll be reviewing that Free Guy movie very soon.It's an adventure film about 3 guys searching for an egg. Yes. I just watched a 2 hour movie about 3 guys looking for an egg.The movie has those boring shoot outs where the camera man needs to do those annoying cut aways. Then those obnoxious car chase scenes.The movie has the most obvious twists. Even The best car chase scene I've ever seen was in Civil War when the Black Panta was chasing the Winter Soldier.This was my first Rock movie since Rampage and he has gotten better. When I see him in those Kevin Hart movies I question his skills. In this movie they seem on par.It's like the Rock has been in the same adventure, treasure hunt movies.Wonder Man actor still as wooden as ever. How does he or she even get work?Yeah this movie was a waste of time. I Thank the movie God's for not allowing me to spend a dime on Netflix to watch this filthy product just so I can tell the movie saints how bad this movie was.Don't watch this movie.\",\n",
       "  'helpful': 0,\n",
       "  'title': '',\n",
       "  'author': 'ur71305899',\n",
       "  'date': '23 November 2021',\n",
       "  'rating': None,\n",
       "  'not_helpful': 0},\n",
       " {'content': \"Is my main stigmata to this story of highbrow thefts of artifacts of ancient times. Its a globetrotting race in 70 miles per step speed, fetching t-water to the princess, or just for the convinience of it. Its also a hymn to convenient connections among thieves , 3 magpies vs the world eg forza italia and the fbi. Its also a test of the moral code in the criminal underworld, and it seems that the clue to solve all the problems is based on ''the doupt of a lie''its a nonstop action film mixed with loads of special effects and vfx, not all of them are perfect, but in the blur of speed any sidevision dissapear so it works anyway.the main male cast does a fine job, the rest is at an average and not so into the yolk-business as mr reynolds and mr johnson, cause joking around is a great part of the entertainment, and without it it wouldnt have been the same.Some glorious looking lightsetting work in the sunshine, and an editor that hasnt got the best load of shoots to digitize together do give some clue why some of the criticism to this film has risen. Also mr thurbers might and title appearances on the cac-list, gives you the feeling of a onemans egotrip tohit his the burnmark on the sphere of silverscreen horizon.But its high on show, and moves unbelievable fast, it has some adult comments that may not suit the youngest of the juvenile (not infants)viewers, otherwise low on blood and gore factor that may gain my wifes attention, the grumpy old man recommends...\",\n",
       "  'helpful': 0,\n",
       "  'title': '',\n",
       "  'author': 'ur79950921',\n",
       "  'date': '13 November 2021',\n",
       "  'rating': None,\n",
       "  'not_helpful': 0},\n",
       " {'content': \"This is basically a cross between a heist film and an Indiana Jones film namely because the main character is a professional thief who is out to locate three artifacts known as Cleopatra's Eggs. It is also one of those buddy comedy films, though of course with these films the buddies tend to go together like chalk and cheese. Actually, one of the characters is an FBI agent who is trying to track down one of these thieves, while the other is a professional thief, apparently the best in the world, that his until his main rival steps in a manages to outsmart him.I have found heist films to be a little dull and boring of late, namely because a lot of them simply boil down to them basically pulling off a major heist, and then going off and living a life of luxury. This film changes track by mixing a lot of elements that you would expect from an Indiana Jones film, which is why I actually really liked it. Actually, come to think of it, I felt that the chemistry between Dwayne Johnson and Ryan Reynolds was pretty good as well, especially since they team up to try and take down the other thief.The concept of the Red Notice is that it is a notice that is issued by Interpol that the person on the notice is wanted by one of the member state's authorities. It isn't an arrest warrant, it is just a notice, and the authorities can act on it or not. Of course, our heroes happen to be international criminals, which is basically why Interpol is involved - they are really only interested in trans-national crimes, and this is because the thieves that we are interested in are somewhat experts at getting into and out of places that they aren't supposed to.Okay, it does lack the mysticism that the Indiana Jones' films are famous for, and rather it tends to focus mostly on treasures and artwork, and of course the thieves making plans to attempt to break into places that are basically impossible to break into. However, it is actually a pretty cool, and quite an enjoyable film, but then again a lot of Dwayne Johnson's films are like that. Oh, and the other thing is that there are some pretty interesting twists in this film as well. Yeah, it's pretty enjoyable, and certainly does work quite well. Sure, it may not be one of the best films out there, but it is till quite worth watching.\",\n",
       "  'helpful': 0,\n",
       "  'title': '',\n",
       "  'author': 'ur27175177',\n",
       "  'date': '21 November 2021',\n",
       "  'rating': None,\n",
       "  'not_helpful': 0},\n",
       " {'content': '\"Red Notice\" is one of those all-out fun movie that one never gets tired of watching, well, from time to time and in the right mood. The remuneration of the three leads likely took a hurting bite from the total budget. There is another one though, playing the stereotyped law enforcer that has been taken for a ride, right from the beginning, all the way to the end. This is played by lovely Ritu Arya (\"The Umbrella Academy\" TV series), together with her music-like British diction.The main plotline is about stealing three \"Cleopatra\\'s eggs\", the first one from a museum, the second from a private and the third from a location not yet known. We have an odd couple alliance between the two male leads, which they emphasize is not a partnership but a \"marriage of convenience\" in which each wants \"to get a divorce, keeping the kids\".Among many things in this \"Raider genre\", this movie has the must-have round-the-world tour setup. Starting in Rome, no time is lost in introducing the audience to a pair of law enforcers, FBI John Hartley (Dwayne Johnson) and Interpol (Ritu Arya) catch Nolan Booth (Ryan Reynolds), the second best thief in the world, hot in the act of stealing the \"egg\", only to lose him again. Sweeping though Bali, Rome (again) London and Russia, the plotline is firmed up as the abovementioned \"marriage\" between Booth and Hartley (allegedly framed), to steal the second egg for the world\\'s best thief The Bishop (Gal Gadot), who plays them like two puppets on a string.For the rest of the movie, I would just say: enjoy the roller coaster ride. One more thing to mention is that this movie is not shy in referencing, making tribute to other movies/shows. The theme from Raider of the Lost Ark is used, with characters actually mentioning that movie. Ed Sheeran appears in person and make reference to his cameo appearance in Game of Thrones. These are just two of many examples.',\n",
       "  'helpful': 0,\n",
       "  'title': '',\n",
       "  'author': 'ur1606763',\n",
       "  'date': '9 December 2021',\n",
       "  'rating': None,\n",
       "  'not_helpful': 0},\n",
       " {'content': '\"Red Notice\" is an Action - Comedy movie in which we watch an Interpol agent trying to track down the most notorious thief. Everything falls apart due to the occurrence of some unexpected events and something has to be done to change it.I enjoyed this movie because it had an interesting plot, filled with plenty of action scenes and much of suspense. The combination of comedy with action was very good and created a nice atmosphere in the movie. The interpretations of Ryan Reynolds\\' who played as Nolan Booth, Gal Gadot\\'s who played as The Bishop and Dwayne Johnson\\'s who played as John Hartley were very good. The direction which was made by Rawson Marshall Thurber was equally good with the interpretations of the cast, and he presented very well both the plot and his main characters. Finally, I have to say that \"Red Notice\" is a nice, entertaining movie and I recommend you to watch it because you will laugh and you will have a great time.',\n",
       "  'helpful': 0,\n",
       "  'title': '',\n",
       "  'author': 'ur33907744',\n",
       "  'date': '7 December 2021',\n",
       "  'rating': None,\n",
       "  'not_helpful': 0},\n",
       " {'content': \"5 out of 5 stars.Red Notice is an awesome action comedy that brings the fun talent with Dwayne Johnson, Ryan Reynolds, and Gal Gadot. Taking these characters into an action packed ride with a side of laughs.I actually enjoyed the film more than I thought I would. Lots of action and humor. A story about a FBI profiler John (Dwayne Johnson) joining an Interpol agent Das (Ritu Arya) to help track down one of the highest skilled thief con artist Nolan (Ryan Reynolds). Who is on a track of trying to steal three of Cleopatra's golden eggs. When Nolan is caught and John is set up by another skilled con artist known as the Bishop (Gal Gadot). Nolan and John in a Russian prison. They both try to join forces to escape and chase down the Bishop before she can get her hands on the eggs. And John clearing his name.The film is action packed. And a lot of fun seeing Ryan Reynolds and Dwayne Johnson banter at each other throughout. Johnson being a brute and Reynolds being the wise cracking talker. And Gal being a skilled fighter. The film is fast paced. Lots of fun set pieces. And humor.Director Rawson Marshall Thurber knows how to handle the action sequences. Taking these characters into a fun Indiana Jones mixed with a bit of National Treasure ride. Great cast ensemble. The film does have a twist that is fun and entertaining. Which leaves you wanting more after it ends. I would love to see a sequel.Overall, Red Notice is a lot of fun, fast, action packed with some humor.\",\n",
       "  'helpful': 0,\n",
       "  'title': '',\n",
       "  'author': 'ur57691865',\n",
       "  'date': '15 November 2021',\n",
       "  'rating': 1,\n",
       "  'not_helpful': 0},\n",
       " {'content': \"It's been a few days since I sat down and watched Red Notice, yet despite only mere hours passing in time I find myself struggling to recall anything of note in a film that fails to create a spark of imagination or excitement.Costing $200 million to make and starring some of the entertainment industries most well-liked stars, Notice is a flashy Netflix exclusive that recently became the streaming services biggest day one hit but despite its high quality coat of paint, Rawson Marshall Thurber's lifeless and charmless action/comedy romp is an instantly forgettable and an incessantly bland blockbuster that is merely coasting along at all times.Spanning a global collection of locales, that often are infused with a seriously distracting amount of poorly done green screen due to the film having to shoot through the Covid-19 pandemic, Notice should be a fun and frantic jaunt across the globe as we follow Dwayne Johnson's Interpol agent John Hartley (proving once more he loves a dress up more than anyone), Ryan Reynolds (wouldn't have guessed it) smart mouthed thief Nolan Booth and Wonder Woman herself Gal Gadot as the mysterious Bishop as the trio hunt down some priceless egg artefacts and try outsmart each other along the way.Utilising a well-trodden path that was experienced by cinema fans with the likes of the Indiana Jones and early The Mummy franchises, Notice sadly lacks any of the smarts or style those type of entertaining romps possessed as Thurber struggles to bring much to the table when it comes to the action stakes, with many set pieces looking like a glorified video game rather than a top notch cinematic production, while his cast can't salvage the film from the boredom it will induce with fairly pedestrian turns that do nothing to enhance their reputations as Hollywood heavyweights.Recently announcing his break from Hollywood for the foreseeable future after a number of years plying away busily in a number of productions, Notice marks a new low for the career trajectory of Ryan Reynolds in particular who has become a walking and talking caricature of his real life persona mixed with Deadpool's initially charming boundary pushing and wisecracks.Trying little too do anything he hasn't done in his last handful of big films, Reynolds seems content to sleepwalk through his roles of recent times and his lethargy in bringing the potentially entertaining Booth to life here is a key example of just how tiresome and unenthusiastic this heist/adventure is, with Reynolds lame turn but one component of a film that does nothing too distinguish itself from the pack and seems content with merely existing rather than finding a reason to make us care or wish for more of where this came from.Final Say -A sadly typical Netflix waste of money, Red Notice should be a mindlessly entertaining and exciting ride but it's nothing more than a tiresome and trite example of modern day blockbuster film-making, the type of film-making that may get nice numbers to report on in regards to streaming performances but does nothing else worth remembering.1 1/2 Vin Diesel audition tapes out of 5.\",\n",
       "  'helpful': 0,\n",
       "  'title': '',\n",
       "  'author': 'ur8462477',\n",
       "  'date': '21 November 2021',\n",
       "  'rating': None,\n",
       "  'not_helpful': 0},\n",
       " {'content': 'Was this story anything we haven\\'t seen before? Absolutely not. Was it mindless entertainment watching three of Hollywood\\'s top actors having fun? Absolutely yes.This was Netflix\\'s most expensive investment to date (200M, 60M being just the 3 leads salary), and I\\'m sure they will still make a profit, regardless of the negativity from the critics. I mean who the heck won\\'t pay to see any of these three actors individually, let alone all three together.The writing could\\'ve been slicker, instead of pretty much boilerplate cliched for this overused genre, but it was still a fun ride. There were some surprising twists and turns, and Ed Sheeran\\'s cameo appearance was priceless. All three A-listers had excellent chemistry, but Reynolds tipped the scales, as usual, in the laughter department. Reynolds is Hollywood\\'s \"Golden Boy of Humorous Entertainment\", and a gift to the rest of the world. On his own, or paired up with any actor, any film he is in, is fun as hell.The film was incredibly shot with amazing sets and landscapes, excellent cinematography and score, well directed and entertainingly written. The two-hour runtime flew by, I actually wanted more. I\\'m glad they closed out the film ready for a sequel, because I\\'d give anything to see these three together again. Ignore the picky critics; grab your favorite snacks and beverages, sit back and enjoy the fun ride. It\\'s a well deserved 8/10 from me.',\n",
       "  'helpful': 0,\n",
       "  'title': '',\n",
       "  'author': 'ur64798417',\n",
       "  'date': '13 November 2021',\n",
       "  'rating': None,\n",
       "  'not_helpful': 0},\n",
       " {'content': \"It would have been acceptable if they didn't use cliches, fallacious logic and Deus ex machina in almost every scene.The casting is good but I am tired of Dwayne Johnson and Ryan Reynolds.Ryan Reynolds is great as Deadpool but he plays Deadpool in every character. Dwayne Johnson is actually very good in this movie.The movie isn't acceptable. It is actually terrible on every level. It isn't all that funny. It isn't at all logical and it isn't at all realistic.\",\n",
       "  'helpful': 0,\n",
       "  'title': '',\n",
       "  'author': 'ur2582239',\n",
       "  'date': '14 November 2021',\n",
       "  'rating': None,\n",
       "  'not_helpful': 0},\n",
       " {'content': \"Red Notice (2021) : Movie Review -Looking back at heist thrillers made in Hollywood, one can easily pick out best from recent franchise movies. Red Notice is a new attempt to glamorize those typical cliches and it definitely delivers what it promises from the trailer. It is not 'Mission Impossible' or 'Fast And Furious' Franchise Film but it makes a good combination of action packed entertainer and heist-thriller by altering many segments out of them. By the time we are going ahead with other franchise films and digital releases, Red Notice surely makes a fine popcorn entertainer for the weekend.An Interpol-issued red notice is a global alert to hunt and capture the world's most wanted. But when a daring heist brings together the FBI's top profiler John Hartley (Dwayne Johnson) and two rival criminals Nolan and Sarah (Ryan Reynolds and Gal Gadot), there's no telling what will happen. John is on the hunt while Nolan and Sarah are fighting to top each other. All this is just nothing in front of what film has to tell afterwards. Spoilers are strictly condemned here! Mouth shut. There are plenty of twists coming one after another, there's breathtaking action and then there is gripping screenplay. Those 90 minutes never look boring and that's the biggest triumph for Red Notice.When it comes to acting, these commercial potboilers aren't supposed to be tidy. Most of the people don't even care as far as they are enjoying explosive stuff. Red Notice is still decent there as Johnson looks pretty convincing as he carries his best suited macho image. Gadot sizzles in her Red Hot Avatar and in some scenes she beats out both the male forces. Compared to that, Reynold is quite a break as he succeeds to keep the humour alive. Talking about the action scenes and visuals, Red Notice gets a Green Signal. However, it is still red when it comes to using those old clinches. For instance, that smart heist in the beginning. You know how it's gonna happen and how it's gonna end cause all of it has been used hundreds of times before. We should be thankful to the action choreographer for literally taking away our breath a few times as well as the cameraman for those jittering close-up frames and superfast zooms.There isn't much to bash in this film but still if there's in anything, then it's stereotypes. Visually, it's a grand film and the production value is lavish too. Watching this film on Big-Screen will snatch away lot of shortcomings so it should be viewed accordingly. Action lovers have became used to all the tricks by now so, they won't be too harsh on Rawson Marshall Thurber, as a director. As a writer, he could have done better though. Summing up everything in short, Red Notice packs a solid punch of Action, Twists and Suprises in an old healthy heist drama.RATING - 6/10*\",\n",
       "  'helpful': 0,\n",
       "  'title': '',\n",
       "  'author': 'ur50463365',\n",
       "  'date': '4 November 2021',\n",
       "  'rating': None,\n",
       "  'not_helpful': 0},\n",
       " {'content': \"When the jokes are good, you wont hear me complaining!The good: excellent jokes, excellent timing and great actors performing at their comical best. Tons of action. Lighthearted, fastpaced, riveting story. Great dialogues. This is comedy at it's best.Not any bad? It's completely silly and that is how it is suppose to be. It's a mix of James Bond and Mission Impossible, but then way more SILLIER.I loved it. Entertainment for the entire family. Young and old could love this. A perfect holiday movie blockbuster.\",\n",
       "  'helpful': 0,\n",
       "  'title': '',\n",
       "  'author': 'ur84924605',\n",
       "  'date': '26 November 2021',\n",
       "  'rating': None,\n",
       "  'not_helpful': 0},\n",
       " {'content': \"Red Notice is a 2021 Netflix comedy starring Dwanye Johnson,Ryan Reynolds and Gal Gadot. Directed by the man that brought us Central Intelligence the movie is as follows.An FBI agent named John Hartley(Johnson)teams up with a former art theif(Reynolds) to find Cleopatra's egg. But when another theif known as the Bishop (Gadot)is also finding the egg,will John get his name cleared and find the egg before The Bishop gets it?.The story is decent and the actors are great as I love Ryan Reynolds,Dwanye Johnson and Gal Gadot(from Wonder Woman).If you love heist films than check it out. Ed Sheeran makes a surprise cameo near the end of the film.C.\",\n",
       "  'helpful': 0,\n",
       "  'title': '',\n",
       "  'author': 'ur23566468',\n",
       "  'date': '18 November 2021',\n",
       "  'rating': None,\n",
       "  'not_helpful': 0}]"
      ]
     },
     "execution_count": 10,
     "metadata": {},
     "output_type": "execute_result"
    }
   ],
   "source": [
    "rn['reviews']"
   ]
  },
  {
   "cell_type": "code",
   "execution_count": 12,
   "id": "6b67c0c8",
   "metadata": {},
   "outputs": [
    {
     "data": {
      "text/plain": [
       "25"
      ]
     },
     "execution_count": 12,
     "metadata": {},
     "output_type": "execute_result"
    }
   ],
   "source": [
    "len(rn['reviews'])"
   ]
  },
  {
   "cell_type": "markdown",
   "id": "4cebf3db",
   "metadata": {},
   "source": [
    "## sentiment"
   ]
  },
  {
   "cell_type": "code",
   "execution_count": 11,
   "id": "94e46734",
   "metadata": {},
   "outputs": [],
   "source": [
    "import nltk"
   ]
  },
  {
   "cell_type": "code",
   "execution_count": 14,
   "id": "4d432f22",
   "metadata": {},
   "outputs": [
    {
     "data": {
      "text/plain": [
       "[{'neg': 0.143, 'neu': 0.746, 'pos': 0.111, 'compound': -0.8864},\n",
       " {'neg': 0.097, 'neu': 0.836, 'pos': 0.067, 'compound': -0.7184},\n",
       " {'neg': 0.103, 'neu': 0.897, 'pos': 0.0, 'compound': -0.7184},\n",
       " {'neg': 0.098, 'neu': 0.739, 'pos': 0.162, 'compound': 0.9633},\n",
       " {'neg': 0.057, 'neu': 0.796, 'pos': 0.147, 'compound': 0.9605},\n",
       " {'neg': 0.117, 'neu': 0.737, 'pos': 0.146, 'compound': 0.872},\n",
       " {'neg': 0.007, 'neu': 0.701, 'pos': 0.292, 'compound': 0.9982},\n",
       " {'neg': 0.094, 'neu': 0.714, 'pos': 0.192, 'compound': 0.9359},\n",
       " {'neg': 0.292, 'neu': 0.672, 'pos': 0.036, 'compound': -0.8643},\n",
       " {'neg': 0.053, 'neu': 0.817, 'pos': 0.13, 'compound': 0.9559},\n",
       " {'neg': 0.09, 'neu': 0.705, 'pos': 0.205, 'compound': 0.8868},\n",
       " {'neg': 0.07, 'neu': 0.725, 'pos': 0.206, 'compound': 0.9943},\n",
       " {'neg': 0.017, 'neu': 0.776, 'pos': 0.207, 'compound': 0.9306},\n",
       " {'neg': 0.104, 'neu': 0.735, 'pos': 0.161, 'compound': 0.9304},\n",
       " {'neg': 0.058, 'neu': 0.813, 'pos': 0.129, 'compound': 0.9678},\n",
       " {'neg': 0.039, 'neu': 0.804, 'pos': 0.157, 'compound': 0.9942},\n",
       " {'neg': 0.104, 'neu': 0.802, 'pos': 0.094, 'compound': -0.6795},\n",
       " {'neg': 0.034, 'neu': 0.71, 'pos': 0.256, 'compound': 0.9907},\n",
       " {'neg': 0.033, 'neu': 0.76, 'pos': 0.207, 'compound': 0.9934},\n",
       " {'neg': 0.093, 'neu': 0.767, 'pos': 0.14, 'compound': 0.9848},\n",
       " {'neg': 0.039, 'neu': 0.672, 'pos': 0.289, 'compound': 0.9972},\n",
       " {'neg': 0.111, 'neu': 0.702, 'pos': 0.186, 'compound': 0.7537},\n",
       " {'neg': 0.04, 'neu': 0.758, 'pos': 0.202, 'compound': 0.9982},\n",
       " {'neg': 0.019, 'neu': 0.525, 'pos': 0.456, 'compound': 0.9941},\n",
       " {'neg': 0.0, 'neu': 0.795, 'pos': 0.205, 'compound': 0.9783}]"
      ]
     },
     "execution_count": 14,
     "metadata": {},
     "output_type": "execute_result"
    }
   ],
   "source": [
    "from nltk.sentiment import SentimentIntensityAnalyzer\n",
    "sia = SentimentIntensityAnalyzer()\n",
    "[sia.polarity_scores(reviews['content']) for reviews in rn['reviews']]"
   ]
  },
  {
   "cell_type": "code",
   "execution_count": null,
   "id": "6c5e6cd1",
   "metadata": {},
   "outputs": [],
   "source": [
    "sia.polarity_scores('\\n'.join([r['content'] for r in rn['reviews']]))"
   ]
  },
  {
   "cell_type": "markdown",
   "id": "6cf358a2",
   "metadata": {},
   "source": [
    "## lda"
   ]
  },
  {
   "cell_type": "code",
   "execution_count": 43,
   "id": "1dc03cb9",
   "metadata": {},
   "outputs": [],
   "source": [
    "text = \"i realize that this movie was not set to be a cinematographic masterpiece, but this is way too primitive of a plot, actor's performance, and overall impression.Heist Movie? Gal Gadot? I’m in.\\r\\n\\r\\nPlus Dwayne Johnson and Ryan Reynolds.\\r\\n\\r\\nI said I’m in! Sounds like a bunch of fun.\\r\\n\\r\\nBut somehow, it’s just not.\\r\\n\\r\\nJohnson is FBI agent John Hartley, and he’s on the trail of Nolan Booth (Reynolds), the 2nd most wanted art thief in the world.\\r\\n\\r\\nWho’s number 1? That would be The Bishop (Gadot), a mysterious criminal who always seems one step ahead of Booth in the quest to reunite three priceless jeweled eggs that Marc Antony once gave to Cleopatra. Yes, Cleopatra.\\r\\n\\r\\nAfter a snappy, parkour-heavy chase to open the film, Hartley offers Booth the chance to move up to the top spot on Interpol’s Red Notice (highest level arrest warrant) list. All he has to do is help Hartley and the Feds nab The Bishop.\\r\\n\\r\\nAnd the game is on!\\r\\n\\r\\nRead the full review on our website. https://www.ukfilmreview.co.uk/reviews/red-notice\""
   ]
  },
  {
   "cell_type": "code",
   "execution_count": 44,
   "id": "d88e1094",
   "metadata": {},
   "outputs": [
    {
     "name": "stderr",
     "output_type": "stream",
     "text": [
      "21/12/09 18:46:42 WARN NativeCodeLoader: Unable to load native-hadoop library for your platform... using builtin-java classes where applicable\n",
      "Using Spark's default log4j profile: org/apache/spark/log4j-defaults.properties\n",
      "Setting default log level to \"WARN\".\n",
      "To adjust logging level use sc.setLogLevel(newLevel). For SparkR, use setLogLevel(newLevel).\n"
     ]
    }
   ],
   "source": [
    "# importing some libraries\n",
    "import pandas as pd\n",
    "import pyspark\n",
    "from pyspark.sql import SQLContext\n",
    "\n",
    "sc = pyspark.SparkContext()\n",
    "sqlContext = SQLContext(sc)"
   ]
  },
  {
   "cell_type": "code",
   "execution_count": 45,
   "id": "c784b9aa",
   "metadata": {},
   "outputs": [],
   "source": [
    "import nltk"
   ]
  },
  {
   "cell_type": "code",
   "execution_count": 46,
   "id": "81e09d15",
   "metadata": {},
   "outputs": [],
   "source": [
    "# stuff we'll need for text processing\n",
    "from nltk.corpus import stopwords\n",
    "import re as re\n",
    "from pyspark.ml.feature import CountVectorizer , IDF\n",
    "# stuff we'll need for building the model\n",
    "\n",
    "#from pyspark.mllib.linalg import Vector, Vectors\n",
    "from pyspark.ml.clustering import LDA\n",
    "# reading the data"
   ]
  },
  {
   "cell_type": "code",
   "execution_count": 70,
   "id": "a4f77f46",
   "metadata": {},
   "outputs": [],
   "source": [
    "data = sc.parallelize(text.split('\\n'))\n",
    "\n",
    "stopWords = stopwords.words(\"english\")\n",
    "tokens = data.map(lambda document: document.strip().lower()) \\\n",
    "    .map(lambda document: re.split(\" \", document)) \\\n",
    "    .map(lambda word: [x for x in word if x.isalpha()]) \\\n",
    "    .map(lambda word: [x for x in word if len(x) > 0] ) \\\n",
    "    .map(lambda word: [x for x in word if x not in stopWords]) \\\n",
    "    .filter(lambda word: len(word) > 0) \\\n",
    "    .zipWithIndex()"
   ]
  },
  {
   "cell_type": "code",
   "execution_count": 71,
   "id": "4ee8e357",
   "metadata": {},
   "outputs": [
    {
     "data": {
      "text/plain": [
       "[Row(list_of_words=['realize', 'movie', 'set', 'cinematographic', 'way', 'primitive', 'overall', 'gal'], index=0),\n",
       " Row(list_of_words=['plus', 'dwayne', 'johnson', 'ryan'], index=1),\n",
       " Row(list_of_words=['said', 'sounds', 'like', 'bunch'], index=2)]"
      ]
     },
     "execution_count": 71,
     "metadata": {},
     "output_type": "execute_result"
    }
   ],
   "source": [
    "df_txts = sqlContext.createDataFrame(tokens, [\"list_of_words\",'index'])\n",
    "df_txts.take(3)"
   ]
  },
  {
   "cell_type": "code",
   "execution_count": 73,
   "id": "f1855c7c",
   "metadata": {},
   "outputs": [],
   "source": [
    "# TF\n",
    "cv = CountVectorizer(inputCol=\"list_of_words\", outputCol=\"raw_features\", vocabSize=5000, minDF=1.0)\n",
    "cvmodel = cv.fit(df_txts)\n",
    "result_cv = cvmodel.transform(df_txts)\n",
    "\n",
    "# IDF\n",
    "idf = IDF(inputCol=\"raw_features\", outputCol=\"features\")\n",
    "idfModel = idf.fit(result_cv)\n",
    "result_tfidf = idfModel.transform(result_cv)"
   ]
  },
  {
   "cell_type": "code",
   "execution_count": 74,
   "id": "b6aec826",
   "metadata": {},
   "outputs": [
    {
     "name": "stderr",
     "output_type": "stream",
     "text": [
      "21/12/09 18:59:57 WARN BLAS: Failed to load implementation from: com.github.fommil.netlib.NativeSystemBLAS\n",
      "21/12/09 18:59:57 WARN BLAS: Failed to load implementation from: com.github.fommil.netlib.NativeRefBLAS\n"
     ]
    }
   ],
   "source": [
    "num_topics = 3\n",
    "max_iterations = 10\n",
    "lda_model = LDA(k=num_topics)\n",
    "lda_model.setMaxIter(max_iterations)\n",
    "model = lda_model.fit(result_tfidf)"
   ]
  },
  {
   "cell_type": "code",
   "execution_count": 75,
   "id": "b0652763",
   "metadata": {},
   "outputs": [],
   "source": [
    "wordNumbers = 5\n",
    "topicIndices = model.describeTopics(maxTermsPerTopic = wordNumbers)"
   ]
  },
  {
   "cell_type": "code",
   "execution_count": 76,
   "id": "31a3810c",
   "metadata": {},
   "outputs": [],
   "source": [
    "topics_final = topicIndices.select('termIndices').rdd.map(\n",
    "    lambda topic: [i for i in topic.termIndices]\n",
    ").collect()"
   ]
  },
  {
   "cell_type": "code",
   "execution_count": 77,
   "id": "696a8b4b",
   "metadata": {},
   "outputs": [
    {
     "data": {
      "text/plain": [
       "[[20, 43, 26, 54, 36], [18, 52, 3, 16, 21], [59, 1, 45, 37, 38]]"
      ]
     },
     "execution_count": 77,
     "metadata": {},
     "output_type": "execute_result"
    }
   ],
   "source": [
    "topics_final"
   ]
  },
  {
   "cell_type": "code",
   "execution_count": 78,
   "id": "a7c98054",
   "metadata": {},
   "outputs": [
    {
     "name": "stdout",
     "output_type": "stream",
     "text": [
      "Topic0: trail wanted thief fbi game \n",
      "Topic1: eggs marc number reunite mysterious \n",
      "Topic2: level johnson nab review bunch \n"
     ]
    }
   ],
   "source": [
    "for i in range(len(topics_final)):\n",
    "    print(\"Topic\" + str(i) + \":\", end=' ')\n",
    "    for id in topics_final[i]:\n",
    "        print(cvmodel.vocabulary[id], end=' ')\n",
    "    print()"
   ]
  },
  {
   "cell_type": "code",
   "execution_count": null,
   "id": "fc3bfe27",
   "metadata": {},
   "outputs": [
    {
     "data": {
      "text/plain": [
       "[Row(list_of_words=['veux', 'raconte', 'comment', 'deux', 'mois', 'failli', 'mourir', 'parce', 'mange', 'assez', 'drop', 'dmrt', 'yeah', 'love', 'movie', 'already', 'refusal', 'media', 'actually', 'showcase', 'center', 'black', 'characters', 'freely', 'lost'], index=0, raw_features=SparseVector(3037, {0: 1.0, 22: 1.0, 151: 1.0, 211: 1.0, 240: 1.0, 250: 1.0, 290: 1.0, 339: 1.0, 341: 1.0, 374: 1.0, 486: 1.0, 728: 1.0, 845: 1.0, 1002: 1.0, 1140: 1.0, 1322: 1.0, 1495: 1.0, 1497: 1.0, 1613: 1.0, 2296: 1.0}), features=SparseVector(3037, {0: 1.8978, 22: 4.2842, 151: 5.3256, 211: 5.5468, 240: 5.6186, 250: 5.6846, 290: 5.7675, 339: 5.8579, 341: 5.8715, 374: 5.9424, 486: 6.1189, 728: 6.4243, 845: 6.5784, 1002: 6.6962, 1140: 6.8297, 1322: 7.0709, 1495: 7.0709, 1497: 7.0709, 1613: 7.1662, 2296: 7.5229}))]"
      ]
     },
     "metadata": {},
     "output_type": "display_data"
    }
   ],
   "source": [
    "result_tfidf.take(1)"
   ]
  },
  {
   "cell_type": "code",
   "execution_count": null,
   "id": "96660787",
   "metadata": {},
   "outputs": [],
   "source": []
  }
 ],
 "metadata": {
  "interpreter": {
   "hash": "fad867cfa03ebbbf80421dcd380638e027a5b963f86cdc02858bf6d5a7f81183"
  },
  "kernelspec": {
   "display_name": "Python 3.9.7 64-bit ('bd': conda)",
   "language": "python",
   "name": "python3"
  },
  "language_info": {
   "codemirror_mode": {
    "name": "ipython",
    "version": 3
   },
   "file_extension": ".py",
   "mimetype": "text/x-python",
   "name": "python",
   "nbconvert_exporter": "python",
   "pygments_lexer": "ipython3",
   "version": "3.9.7"
  }
 },
 "nbformat": 4,
 "nbformat_minor": 5
}
