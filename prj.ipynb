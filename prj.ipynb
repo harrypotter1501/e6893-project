{
 "cells": [
  {
   "cell_type": "markdown",
   "id": "c9bb9f1d",
   "metadata": {},
   "source": [
    "## import"
   ]
  },
  {
   "cell_type": "code",
   "execution_count": 1,
   "id": "3f6cb246",
   "metadata": {},
   "outputs": [],
   "source": [
    "from utils.twitter import get_streaming\n",
    "from utils.movies import search\n",
    "from utils.preprocess import preprocess\n",
    "from utils.train import train\n",
    "\n",
    "%reload_ext autoreload\n",
    "%autoreload 2"
   ]
  },
  {
   "cell_type": "markdown",
   "id": "d198fcb8",
   "metadata": {},
   "source": [
    "## streaming"
   ]
  },
  {
   "cell_type": "code",
   "execution_count": 4,
   "id": "bfc11c4d",
   "metadata": {},
   "outputs": [
    {
     "name": "stdout",
     "output_type": "stream",
     "text": [
      "Waiting for TCP connection...\n",
      "Connected... Starting getting tweets.\n"
     ]
    },
    {
     "name": "stderr",
     "output_type": "stream",
     "text": [
      "                                                                                \r"
     ]
    },
    {
     "name": "stdout",
     "output_type": "stream",
     "text": [
      "-------------------------------------------\n",
      "Time: 2021-12-12 10:59:40\n",
      "-------------------------------------------\n",
      "RT @SF9__Unofficial: 🦁: I'm thinking about watching the movie \"Dune\". What do you think?\n",
      "🦁: Then, what to eat for late night snack\n",
      "🦁: Cry (…RT @photonblasters: a bad movie that’s entertaining is better than a good movie that’s boringRT @mrjohndarby: me: how can I impress your dad?\n",
      "\n",
      "gf: he's really into cars\n",
      "\n",
      "me: ok\n",
      "\n",
      "[later]\n",
      "her dad: nice to meet you\n",
      "...\n",
      "\n"
     ]
    },
    {
     "name": "stderr",
     "output_type": "stream",
     "text": [
      "21/12/12 10:59:45 ERROR ReceiverTracker: Deregistered receiver for stream 0: Stopped by driver\n",
      "                                                                                \r"
     ]
    },
    {
     "name": "stdout",
     "output_type": "stream",
     "text": [
      "Error on_data: [Errno 32] Broken pipe\n",
      "Waiting for TCP connection...\n",
      "-------------------------------------------\n",
      "Time: 2021-12-12 10:59:45\n",
      "-------------------------------------------\n",
      "#LoveIsColorBlindRT @ShanaticAddi: The movie is all about never giving up, Shahid in reality never gives up. He is truly a dedicated actor, who keeps on fig…I just finished watching #VacationFriends . Not going to lie, I ASSUMED it was gonna be corny BUTTTTTTTTTTTTTTTTTTT… https://t.co/xypdMw17xe@PepperOceanna The movie that gets quoted the most in my family is definitely What We Do in the ShadowsRT @karlogan_: This movie is more important than “Titanic” and “Gone With the Wind” and should be considered essential viewing material for…RT @CrypticNoHoes: Marvel designers crafting the worst movie posters you've ever seen https://t.co/cqMheXtX4BRT @loooveissah: petition for got7 to make a movie. their story deserves to be told to the whole world 🙇🏻‍♀️RT @Rizzo: Happy anniversary to The Muppet Christmas Carol, released on this day in 1992! You may know it as the movie that features the cr…RT @680sPH: [GIVEAWAY]\n",
      "\n",
      "RT and reply with a movie you've watched more than once! 🤩\n",
      "\n",
      "*Shipping fee will be shouldered by winner\n",
      "\n",
      "Ends tomorr…He is rulling  the industry since last  33 years  not bcoz  of his stardom but bcoz of his larger than life persona… https://t.co/ZuKMigOyuv@wilrett Also, I was ready for it to be way more unhinged and I felt there was a similar playing it down the line v… https://t.co/J68JjldQcGRT @Nn84Naganatha_: #EtharkkumThunindhavan next weeks.After that he will join the #VaadiVaasal Shoot @Suriya_offl @VetriMaaran 💥 Then there…@Madisontx76 @iamAstarseed55 Great movie https://t.co/QXnJQu4u3ART @Hepzi90753725: 12/12 , a beautiful memory!!! #Lift, #Day1.What better date than #Thalaivar's birth date to commence a new movie shoot w…If I can wear the shirt I got 20 years ago for the movie I'm about to watch for the umpteenth time then I can wear… https://t.co/NjXJ3SySmdIf a movie is boring it’s not good lmao@ChristJC2 @chuuzus Most, if not all of Carnage’s comics have been PG-13 or below. An R rating would be nice, but i… https://t.co/ADg7qMj4zYRT @_ShivvV__: ThangaMagan Movie Templates:/\n",
      "\n",
      "Thread : 1/5 https://t.co/chxRnx4Y1GRT @holeinterrupted: Not enough money in the world you could give me to watch a marvel movieRT @SpaceTravelersC: First Travel Events for January announced! 🚀\n",
      "\n",
      "...\n",
      "\n"
     ]
    },
    {
     "name": "stderr",
     "output_type": "stream",
     "text": [
      "Exception in thread \"receiver-supervisor-future-0\" java.lang.Error: java.lang.InterruptedException: sleep interrupted\n",
      "\tat java.util.concurrent.ThreadPoolExecutor.runWorker(ThreadPoolExecutor.java:1155)\n",
      "\tat java.util.concurrent.ThreadPoolExecutor$Worker.run(ThreadPoolExecutor.java:624)\n",
      "\tat java.lang.Thread.run(Thread.java:748)\n",
      "Caused by: java.lang.InterruptedException: sleep interrupted\n",
      "\tat java.lang.Thread.sleep(Native Method)\n",
      "\tat org.apache.spark.streaming.receiver.ReceiverSupervisor.$anonfun$restartReceiver$1(ReceiverSupervisor.scala:196)\n",
      "\tat scala.runtime.java8.JFunction0$mcV$sp.apply(JFunction0$mcV$sp.java:23)\n",
      "\tat scala.concurrent.Future$.$anonfun$apply$1(Future.scala:659)\n",
      "\tat scala.util.Success.$anonfun$map$1(Try.scala:255)\n",
      "\tat scala.util.Success.map(Try.scala:213)\n",
      "\tat scala.concurrent.Future.$anonfun$map$1(Future.scala:292)\n",
      "\tat scala.concurrent.impl.Promise.liftedTree1$1(Promise.scala:33)\n",
      "\tat scala.concurrent.impl.Promise.$anonfun$transform$1(Promise.scala:33)\n",
      "\tat scala.concurrent.impl.CallbackRunnable.run(Promise.scala:64)\n",
      "\tat java.util.concurrent.ThreadPoolExecutor.runWorker(ThreadPoolExecutor.java:1149)\n",
      "\t... 2 more\n"
     ]
    },
    {
     "name": "stdout",
     "output_type": "stream",
     "text": [
      "-------------------------------------------\n",
      "Time: 2021-12-12 10:59:50\n",
      "-------------------------------------------\n",
      "\n",
      "-------------------------------------------\n",
      "Time: 2021-12-12 10:59:55\n",
      "-------------------------------------------\n",
      "\n"
     ]
    },
    {
     "name": "stderr",
     "output_type": "stream",
     "text": [
      "Exception in thread Thread-9:\n",
      "Traceback (most recent call last):\n",
      "  File \"/Users/harrypotter/opt/anaconda3/envs/bd/lib/python3.9/threading.py\", line 973, in _bootstrap_inner\n",
      "    self.run()\n",
      "  File \"/Users/harrypotter/opt/anaconda3/envs/bd/lib/python3.9/threading.py\", line 910, in run\n",
      "    self._target(*self._args, **self._kwargs)\n",
      "  File \"/Users/harrypotter/Documents/courses/bigdata/project/code/utils/twitterHTTPClient.py\", line 78, in run_client\n",
      "    conn, _ = self.s.accept()\n",
      "  File \"/Users/harrypotter/opt/anaconda3/envs/bd/lib/python3.9/socket.py\", line 293, in accept\n",
      "    fd, addr = self._accept()\n",
      "ConnectionAbortedError: [Errno 53] Software caused connection abort\n"
     ]
    }
   ],
   "source": [
    "get_streaming(['movie'], 10)"
   ]
  },
  {
   "cell_type": "markdown",
   "id": "a38b880f",
   "metadata": {},
   "source": [
    "## reviews"
   ]
  },
  {
   "cell_type": "code",
   "execution_count": 2,
   "id": "3ced688a",
   "metadata": {},
   "outputs": [
    {
     "name": "stdout",
     "output_type": "stream",
     "text": [
      "Searching for red notice...\n",
      "Searching for venom...\n",
      "Searching for titanic...\n",
      "Searching for black widow...\n",
      "Searching for last christmas...\n",
      "Saved to ./data/movies.csv\n"
     ]
    },
    {
     "data": {
      "text/plain": [
       "'./data/movies.csv'"
      ]
     },
     "execution_count": 2,
     "metadata": {},
     "output_type": "execute_result"
    }
   ],
   "source": [
    "wish_list = ['red notice', 'venom', 'titanic', 'black widow', 'last christmas']\n",
    "search(wish_list)"
   ]
  },
  {
   "cell_type": "markdown",
   "id": "c0680467",
   "metadata": {},
   "source": [
    "## preprocess"
   ]
  },
  {
   "cell_type": "code",
   "execution_count": 56,
   "id": "f9871e8e",
   "metadata": {},
   "outputs": [],
   "source": [
    "from utils.preprocess import read_and_process, sia\n",
    "df=sia(read_and_process())"
   ]
  },
  {
   "cell_type": "code",
   "execution_count": null,
   "id": "9bb54dfa",
   "metadata": {},
   "outputs": [],
   "source": [
    "from utils.preprocess import reviews_lda"
   ]
  },
  {
   "cell_type": "code",
   "execution_count": 104,
   "id": "2237235b",
   "metadata": {},
   "outputs": [
    {
     "name": "stdout",
     "output_type": "stream",
     "text": [
      "Reading from ./data/movies.csv...\n",
      "Analyzing Sentiment...\n",
      "Performing LDA...\n",
      "Data persisted to ./data/movies_pp.csv\n"
     ]
    },
    {
     "data": {
      "text/html": [
       "<div>\n",
       "<style scoped>\n",
       "    .dataframe tbody tr th:only-of-type {\n",
       "        vertical-align: middle;\n",
       "    }\n",
       "\n",
       "    .dataframe tbody tr th {\n",
       "        vertical-align: top;\n",
       "    }\n",
       "\n",
       "    .dataframe thead th {\n",
       "        text-align: right;\n",
       "    }\n",
       "</style>\n",
       "<table border=\"1\" class=\"dataframe\">\n",
       "  <thead>\n",
       "    <tr style=\"text-align: right;\">\n",
       "      <th></th>\n",
       "      <th>id</th>\n",
       "      <th>title</th>\n",
       "      <th>release_date</th>\n",
       "      <th>vote_average</th>\n",
       "      <th>vote_count</th>\n",
       "      <th>genres</th>\n",
       "      <th>budget</th>\n",
       "      <th>popularity</th>\n",
       "      <th>revenue</th>\n",
       "      <th>neg</th>\n",
       "      <th>neu</th>\n",
       "      <th>pos</th>\n",
       "      <th>compound</th>\n",
       "      <th>lda</th>\n",
       "    </tr>\n",
       "  </thead>\n",
       "  <tbody>\n",
       "    <tr>\n",
       "      <th>0</th>\n",
       "      <td>512195</td>\n",
       "      <td>Red Notice</td>\n",
       "      <td>1635998400</td>\n",
       "      <td>6.8</td>\n",
       "      <td>1945</td>\n",
       "      <td>[action, comedy, crime, thriller]</td>\n",
       "      <td>200000000</td>\n",
       "      <td>4173.995</td>\n",
       "      <td>0</td>\n",
       "      <td>0.083</td>\n",
       "      <td>0.723</td>\n",
       "      <td>0.194</td>\n",
       "      <td>1.0000</td>\n",
       "      <td>[watch, man, due, done, entertaining, booth, s...</td>\n",
       "    </tr>\n",
       "    <tr>\n",
       "      <th>1</th>\n",
       "      <td>580489</td>\n",
       "      <td>Venom: Let There Be Carnage</td>\n",
       "      <td>1632974400</td>\n",
       "      <td>7.2</td>\n",
       "      <td>4358</td>\n",
       "      <td>[science fiction, action, adventure]</td>\n",
       "      <td>110000000</td>\n",
       "      <td>7534.804</td>\n",
       "      <td>482000000</td>\n",
       "      <td>0.111</td>\n",
       "      <td>0.734</td>\n",
       "      <td>0.155</td>\n",
       "      <td>0.9999</td>\n",
       "      <td>[fox, disney, drake, mcu, wants, host, excelle...</td>\n",
       "    </tr>\n",
       "    <tr>\n",
       "      <th>2</th>\n",
       "      <td>597</td>\n",
       "      <td>Titanic</td>\n",
       "      <td>879829200</td>\n",
       "      <td>7.9</td>\n",
       "      <td>20165</td>\n",
       "      <td>[drama, romance]</td>\n",
       "      <td>200000000</td>\n",
       "      <td>102.277</td>\n",
       "      <td>2187463944</td>\n",
       "      <td>0.089</td>\n",
       "      <td>0.722</td>\n",
       "      <td>0.188</td>\n",
       "      <td>1.0000</td>\n",
       "      <td>[class, young, thought, seems, figure, exactly...</td>\n",
       "    </tr>\n",
       "    <tr>\n",
       "      <th>3</th>\n",
       "      <td>497698</td>\n",
       "      <td>Black Widow</td>\n",
       "      <td>1625630400</td>\n",
       "      <td>7.6</td>\n",
       "      <td>6254</td>\n",
       "      <td>[action, adventure, science fiction]</td>\n",
       "      <td>200000000</td>\n",
       "      <td>541.436</td>\n",
       "      <td>378328978</td>\n",
       "      <td>0.084</td>\n",
       "      <td>0.758</td>\n",
       "      <td>0.158</td>\n",
       "      <td>1.0000</td>\n",
       "      <td>[hard, come, little, actually, people, effects...</td>\n",
       "    </tr>\n",
       "    <tr>\n",
       "      <th>4</th>\n",
       "      <td>549053</td>\n",
       "      <td>Last Christmas</td>\n",
       "      <td>1573102800</td>\n",
       "      <td>7.3</td>\n",
       "      <td>1705</td>\n",
       "      <td>[comedy, romance, drama]</td>\n",
       "      <td>30000000</td>\n",
       "      <td>43.046</td>\n",
       "      <td>121550750</td>\n",
       "      <td>0.083</td>\n",
       "      <td>0.717</td>\n",
       "      <td>0.199</td>\n",
       "      <td>1.0000</td>\n",
       "      <td>[get, like, plot, really, due, lovely, tom, ka...</td>\n",
       "    </tr>\n",
       "  </tbody>\n",
       "</table>\n",
       "</div>"
      ],
      "text/plain": [
       "       id                        title  release_date  vote_average  \\\n",
       "0  512195                   Red Notice    1635998400           6.8   \n",
       "1  580489  Venom: Let There Be Carnage    1632974400           7.2   \n",
       "2     597                      Titanic     879829200           7.9   \n",
       "3  497698                  Black Widow    1625630400           7.6   \n",
       "4  549053               Last Christmas    1573102800           7.3   \n",
       "\n",
       "   vote_count                                genres     budget  popularity  \\\n",
       "0        1945     [action, comedy, crime, thriller]  200000000    4173.995   \n",
       "1        4358  [science fiction, action, adventure]  110000000    7534.804   \n",
       "2       20165                      [drama, romance]  200000000     102.277   \n",
       "3        6254  [action, adventure, science fiction]  200000000     541.436   \n",
       "4        1705              [comedy, romance, drama]   30000000      43.046   \n",
       "\n",
       "      revenue    neg    neu    pos  compound  \\\n",
       "0           0  0.083  0.723  0.194    1.0000   \n",
       "1   482000000  0.111  0.734  0.155    0.9999   \n",
       "2  2187463944  0.089  0.722  0.188    1.0000   \n",
       "3   378328978  0.084  0.758  0.158    1.0000   \n",
       "4   121550750  0.083  0.717  0.199    1.0000   \n",
       "\n",
       "                                                 lda  \n",
       "0  [watch, man, due, done, entertaining, booth, s...  \n",
       "1  [fox, disney, drake, mcu, wants, host, excelle...  \n",
       "2  [class, young, thought, seems, figure, exactly...  \n",
       "3  [hard, come, little, actually, people, effects...  \n",
       "4  [get, like, plot, really, due, lovely, tom, ka...  "
      ]
     },
     "execution_count": 104,
     "metadata": {},
     "output_type": "execute_result"
    }
   ],
   "source": [
    "df=preprocess()\n",
    "df"
   ]
  },
  {
   "cell_type": "markdown",
   "id": "5e7373b4",
   "metadata": {},
   "source": [
    "## vectorize"
   ]
  },
  {
   "cell_type": "code",
   "execution_count": 107,
   "id": "6bce891b",
   "metadata": {},
   "outputs": [
    {
     "data": {
      "text/plain": [
       "[Row(id=512195, title='Red Notice', release_date=1635998400, vote_average=6.800000190734863, vote_count=1945, genres=['action', 'comedy', 'crime', 'thriller'], budget=200000000, popularity=4173.9951171875, revenue=0, neg=0.08299999684095383, neu=0.7229999899864197, pos=0.1940000057220459, compound=1.0, lda=['watch', 'man', 'due', 'done', 'entertaining', 'booth', 'seems', 'number', 'arrest', 'nothing', 'second', 'two', 'one', 'played', 'plotline'], genres_vec=SparseVector(8, {0: 1.0, 1: 1.0, 6: 1.0, 7: 1.0}), lda_vec=SparseVector(70, {2: 1.0, 3: 1.0, 6: 1.0, 8: 1.0, 11: 1.0, 19: 1.0, 25: 1.0, 26: 1.0, 41: 1.0, 42: 1.0, 50: 1.0, 52: 1.0, 54: 1.0, 60: 1.0, 64: 1.0}), features=SparseVector(88, {0: 1635998400.0, 1: 6.8, 2: 1945.0, 3: 1.0, 4: 1.0, 9: 1.0, 10: 1.0, 11: 200000000.0, 12: 4173.9951, 14: 0.083, 15: 0.723, 16: 0.194, 17: 1.0, 20: 1.0, 21: 1.0, 24: 1.0, 26: 1.0, 29: 1.0, 37: 1.0, 43: 1.0, 44: 1.0, 59: 1.0, 60: 1.0, 68: 1.0, 70: 1.0, 72: 1.0, 78: 1.0, 82: 1.0}))]"
      ]
     },
     "execution_count": 107,
     "metadata": {},
     "output_type": "execute_result"
    }
   ],
   "source": [
    "sdf = train(df)\n",
    "sdf.take(1)"
   ]
  },
  {
   "cell_type": "code",
   "execution_count": 117,
   "id": "e77f494c",
   "metadata": {},
   "outputs": [
    {
     "data": {
      "text/plain": [
       "[Row(id=512195, title='Red Notice', release_date=1635998400, vote_average=6.800000190734863, vote_count=1945, genres=['action', 'comedy', 'crime', 'thriller'], budget=200000000, popularity=4173.9951171875, revenue=0, neg=0.08299999684095383, neu=0.7229999899864197, pos=0.1940000057220459, compound=1.0, lda=['watch', 'man', 'due', 'done', 'entertaining', 'booth', 'seems', 'number', 'arrest', 'nothing', 'second', 'two', 'one', 'played', 'plotline'], genres_vec=SparseVector(8, {0: 1.0, 1: 1.0, 6: 1.0, 7: 1.0}), lda_vec=SparseVector(70, {2: 1.0, 3: 1.0, 6: 1.0, 8: 1.0, 11: 1.0, 19: 1.0, 25: 1.0, 26: 1.0, 41: 1.0, 42: 1.0, 50: 1.0, 52: 1.0, 54: 1.0, 60: 1.0, 64: 1.0}), features=SparseVector(88, {0: 1635998400.0, 1: 6.8, 2: 1945.0, 3: 1.0, 4: 1.0, 9: 1.0, 10: 1.0, 11: 200000000.0, 12: 4173.9951, 14: 0.083, 15: 0.723, 16: 0.194, 17: 1.0, 20: 1.0, 21: 1.0, 24: 1.0, 26: 1.0, 29: 1.0, 37: 1.0, 43: 1.0, 44: 1.0, 59: 1.0, 60: 1.0, 68: 1.0, 70: 1.0, 72: 1.0, 78: 1.0, 82: 1.0}), prediction=6.819036683732804),\n",
       " Row(id=580489, title='Venom: Let There Be Carnage', release_date=1632974400, vote_average=7.199999809265137, vote_count=4358, genres=['science fiction', 'action', 'adventure'], budget=110000000, popularity=7534.80419921875, revenue=482000000, neg=0.11100000143051147, neu=0.734000027179718, pos=0.1550000011920929, compound=0.9998999834060669, lda=['fox', 'disney', 'drake', 'mcu', 'wants', 'host', 'excellent', 'fired', 'already', 'really', 'show', 'son', 'story', 'movie', 'like'], genres_vec=SparseVector(8, {0: 1.0, 2: 1.0, 3: 1.0}), lda_vec=SparseVector(70, {1: 1.0, 4: 1.0, 5: 1.0, 7: 1.0, 9: 1.0, 13: 1.0, 22: 1.0, 36: 1.0, 37: 1.0, 38: 1.0, 43: 1.0, 51: 1.0, 57: 1.0, 67: 1.0, 68: 1.0}), features=SparseVector(88, {0: 1632974400.0, 1: 7.2, 2: 4358.0, 3: 1.0, 5: 1.0, 6: 1.0, 11: 110000000.0, 12: 7534.8042, 13: 482000000.0, 14: 0.111, 15: 0.734, 16: 0.155, 17: 0.9999, 19: 1.0, 22: 1.0, 23: 1.0, 25: 1.0, 27: 1.0, 31: 1.0, 40: 1.0, 54: 1.0, 55: 1.0, 56: 1.0, 61: 1.0, 69: 1.0, 75: 1.0, 85: 1.0, 86: 1.0}), prediction=7.205237129918089),\n",
       " Row(id=597, title='Titanic', release_date=879829200, vote_average=7.900000095367432, vote_count=20165, genres=['drama', 'romance'], budget=200000000, popularity=102.2770004272461, revenue=2187463944, neg=0.08900000154972076, neu=0.722000002861023, pos=0.18799999356269836, compound=1.0, lda=['class', 'young', 'thought', 'seems', 'figure', 'exactly', 'without', 'seeing', 'looks', 'viewed', 'marvelous', 'high', 'women', 'day', 'incredible'], genres_vec=SparseVector(8, {4: 1.0, 5: 1.0}), lda_vec=SparseVector(70, {0: 1.0, 3: 1.0, 10: 1.0, 20: 1.0, 21: 1.0, 29: 1.0, 33: 1.0, 34: 1.0, 35: 1.0, 39: 1.0, 46: 1.0, 62: 1.0, 65: 1.0, 66: 1.0, 69: 1.0}), features=SparseVector(88, {0: 879829200.0, 1: 7.9, 2: 20165.0, 7: 1.0, 8: 1.0, 11: 200000000.0, 12: 102.277, 13: 2187463944.0, 14: 0.089, 15: 0.722, 16: 0.188, 17: 1.0, 18: 1.0, 21: 1.0, 28: 1.0, 38: 1.0, 39: 1.0, 47: 1.0, 51: 1.0, 52: 1.0, 53: 1.0, 57: 1.0, 64: 1.0, 80: 1.0, 83: 1.0, 84: 1.0, 87: 1.0}), prediction=7.882617871759521),\n",
       " Row(id=497698, title='Black Widow', release_date=1625630400, vote_average=7.599999904632568, vote_count=6254, genres=['action', 'adventure', 'science fiction'], budget=200000000, popularity=541.4359741210938, revenue=378328978, neg=0.08399999886751175, neu=0.7580000162124634, pos=0.15800000727176666, compound=1.0, lda=['hard', 'come', 'little', 'actually', 'people', 'effects', 'towards', 'avengers', 'marvel', 'stuff', 'johansson', 'coming', 'red', 'women', 'comedy'], genres_vec=SparseVector(8, {0: 1.0, 2: 1.0, 3: 1.0}), lda_vec=SparseVector(70, {0: 1.0, 12: 1.0, 15: 1.0, 16: 1.0, 23: 1.0, 24: 1.0, 28: 1.0, 32: 1.0, 45: 1.0, 47: 1.0, 53: 1.0, 55: 1.0, 58: 1.0, 59: 1.0, 63: 1.0}), features=SparseVector(88, {0: 1625630400.0, 1: 7.6, 2: 6254.0, 3: 1.0, 5: 1.0, 6: 1.0, 11: 200000000.0, 12: 541.436, 13: 378328978.0, 14: 0.084, 15: 0.758, 16: 0.158, 17: 1.0, 18: 1.0, 30: 1.0, 33: 1.0, 34: 1.0, 41: 1.0, 42: 1.0, 46: 1.0, 50: 1.0, 63: 1.0, 65: 1.0, 71: 1.0, 73: 1.0, 76: 1.0, 77: 1.0, 81: 1.0}), prediction=7.5916852929296255),\n",
       " Row(id=549053, title='Last Christmas', release_date=1573102800, vote_average=7.300000190734863, vote_count=1705, genres=['comedy', 'romance', 'drama'], budget=30000000, popularity=43.04600143432617, revenue=121550750, neg=0.08299999684095383, neu=0.7170000076293945, pos=0.19900000095367432, compound=1.0, lda=['get', 'like', 'plot', 'really', 'due', 'lovely', 'tom', 'kate', 'wonderful', 'life', 'real', 'movies', 'romance', 'making', 'appreciated'], genres_vec=SparseVector(8, {1: 1.0, 4: 1.0, 5: 1.0}), lda_vec=SparseVector(70, {1: 1.0, 2: 1.0, 4: 1.0, 14: 1.0, 17: 1.0, 18: 1.0, 27: 1.0, 30: 1.0, 31: 1.0, 40: 1.0, 44: 1.0, 48: 1.0, 49: 1.0, 56: 1.0, 61: 1.0}), features=SparseVector(88, {0: 1573102800.0, 1: 7.3, 2: 1705.0, 4: 1.0, 7: 1.0, 8: 1.0, 11: 30000000.0, 12: 43.046, 13: 121550750.0, 14: 0.083, 15: 0.717, 16: 0.199, 17: 1.0, 19: 1.0, 20: 1.0, 22: 1.0, 32: 1.0, 35: 1.0, 36: 1.0, 45: 1.0, 48: 1.0, 49: 1.0, 58: 1.0, 62: 1.0, 66: 1.0, 67: 1.0, 74: 1.0, 79: 1.0}), prediction=7.301423212395363)]"
      ]
     },
     "execution_count": 117,
     "metadata": {},
     "output_type": "execute_result"
    }
   ],
   "source": [
    "from utils.models import lr\n",
    "lr(sdf).select(['vote_average', 'prediction'])"
   ]
  },
  {
   "cell_type": "code",
   "execution_count": null,
   "id": "ecc80f8c",
   "metadata": {},
   "outputs": [],
   "source": []
  }
 ],
 "metadata": {
  "interpreter": {
   "hash": "fad867cfa03ebbbf80421dcd380638e027a5b963f86cdc02858bf6d5a7f81183"
  },
  "kernelspec": {
   "display_name": "Python 3.9.7 64-bit ('bd': conda)",
   "language": "python",
   "name": "python3"
  },
  "language_info": {
   "codemirror_mode": {
    "name": "ipython",
    "version": 3
   },
   "file_extension": ".py",
   "mimetype": "text/x-python",
   "name": "python",
   "nbconvert_exporter": "python",
   "pygments_lexer": "ipython3",
   "version": "3.9.7"
  }
 },
 "nbformat": 4,
 "nbformat_minor": 5
}
