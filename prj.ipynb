{
 "cells": [
  {
   "cell_type": "markdown",
   "id": "c9bb9f1d",
   "metadata": {},
   "source": [
    "## import"
   ]
  },
  {
   "cell_type": "code",
   "execution_count": 2,
   "id": "3f6cb246",
   "metadata": {},
   "outputs": [],
   "source": [
    "from utils.twitter import get_streaming\n",
    "from utils.movies import search\n",
    "from utils.preprocess import preprocess\n",
    "\n",
    "\n",
    "%reload_ext autoreload\n",
    "%autoreload 2"
   ]
  },
  {
   "cell_type": "markdown",
   "id": "d198fcb8",
   "metadata": {},
   "source": [
    "## streaming"
   ]
  },
  {
   "cell_type": "code",
   "execution_count": 7,
   "id": "bfc11c4d",
   "metadata": {},
   "outputs": [
    {
     "name": "stdout",
     "output_type": "stream",
     "text": [
      "Waiting for TCP connection...\n"
     ]
    },
    {
     "name": "stderr",
     "output_type": "stream",
     "text": [
      "[Stage 0:>                                                          (0 + 1) / 1]\r"
     ]
    },
    {
     "name": "stdout",
     "output_type": "stream",
     "text": [
      "-------------------------------------------\n",
      "Time: 2021-12-12 02:18:50\n",
      "-------------------------------------------\n",
      "\n"
     ]
    },
    {
     "name": "stderr",
     "output_type": "stream",
     "text": [
      "                                                                                \r"
     ]
    },
    {
     "name": "stdout",
     "output_type": "stream",
     "text": [
      "Connected... Starting getting tweets.\n"
     ]
    },
    {
     "name": "stderr",
     "output_type": "stream",
     "text": [
      "21/12/12 02:18:59 ERROR ReceiverTracker: Deregistered receiver for stream 0: Stopped by driver\n",
      "Exception in thread \"receiver-supervisor-future-0\" java.lang.Error: java.lang.InterruptedException: sleep interrupted\n",
      "\tat java.util.concurrent.ThreadPoolExecutor.runWorker(ThreadPoolExecutor.java:1155)\n",
      "\tat java.util.concurrent.ThreadPoolExecutor$Worker.run(ThreadPoolExecutor.java:624)\n",
      "\tat java.lang.Thread.run(Thread.java:748)\n",
      "Caused by: java.lang.InterruptedException: sleep interrupted\n",
      "\tat java.lang.Thread.sleep(Native Method)\n",
      "\tat org.apache.spark.streaming.receiver.ReceiverSupervisor.$anonfun$restartReceiver$1(ReceiverSupervisor.scala:196)\n",
      "\tat scala.runtime.java8.JFunction0$mcV$sp.apply(JFunction0$mcV$sp.java:23)\n",
      "\tat scala.concurrent.Future$.$anonfun$apply$1(Future.scala:659)\n",
      "\tat scala.util.Success.$anonfun$map$1(Try.scala:255)\n",
      "\tat scala.util.Success.map(Try.scala:213)\n",
      "\tat scala.concurrent.Future.$anonfun$map$1(Future.scala:292)\n",
      "\tat scala.concurrent.impl.Promise.liftedTree1$1(Promise.scala:33)\n",
      "\tat scala.concurrent.impl.Promise.$anonfun$transform$1(Promise.scala:33)\n",
      "\tat scala.concurrent.impl.CallbackRunnable.run(Promise.scala:64)\n",
      "\tat java.util.concurrent.ThreadPoolExecutor.runWorker(ThreadPoolExecutor.java:1149)\n",
      "\t... 2 more\n"
     ]
    },
    {
     "name": "stdout",
     "output_type": "stream",
     "text": [
      "Error on_data: [Errno 32] Broken pipe\n",
      "Waiting for TCP connection...\n"
     ]
    },
    {
     "name": "stderr",
     "output_type": "stream",
     "text": [
      "                                                                                \r"
     ]
    },
    {
     "name": "stdout",
     "output_type": "stream",
     "text": [
      "-------------------------------------------\n",
      "Time: 2021-12-12 02:18:55\n",
      "-------------------------------------------\n",
      "RT @YashTrends: Only Kannada Movie In The List\n",
      "\n",
      "#KGFChapter2 😎🔥🔥\n",
      "\n",
      "@TheNameIsYash #YashBOSSRT @jav_m1lf: [JUL-403]My Friend's Strict And Serious Mother Momoko Keeps Milking My Dick Like I've Never Experienced Before Until My Balls…RT @Jav_grandpa: [MEYD-698] My Lustful Wife Wants To Be Fucked On Her Special Day\n",
      ".\n",
      "👩‍🦰Actress : MAYUKI ITO\n",
      "Genre : perselingkuhan\n",
      ".\n",
      "🔗FULL…Best Action Movie Japan Chinese war Full movie https://t.co/bqEAE9N9yzRT @photonblasters: a bad movie that’s entertaining is better than a good movie that’s boringRT @urstruly__kiran: Last yr TOP lo pettam ,\n",
      "...\n",
      "\n"
     ]
    },
    {
     "name": "stderr",
     "output_type": "stream",
     "text": [
      "                                                                                \r"
     ]
    },
    {
     "name": "stdout",
     "output_type": "stream",
     "text": [
      "-------------------------------------------\n",
      "Time: 2021-12-12 02:19:00\n",
      "-------------------------------------------\n",
      "\n",
      "-------------------------------------------\n",
      "Time: 2021-12-12 02:19:05\n",
      "-------------------------------------------\n",
      "\n",
      "-------------------------------------------\n",
      "Time: 2021-12-12 02:19:10\n",
      "-------------------------------------------\n",
      "\n",
      "-------------------------------------------\n",
      "Time: 2021-12-12 02:19:15\n",
      "-------------------------------------------\n",
      "\n",
      "-------------------------------------------\n",
      "Time: 2021-12-12 02:19:20\n",
      "-------------------------------------------\n",
      "\n",
      "-------------------------------------------\n",
      "Time: 2021-12-12 02:19:25\n",
      "-------------------------------------------\n",
      "\n",
      "-------------------------------------------\n",
      "Time: 2021-12-12 02:19:30\n",
      "-------------------------------------------\n",
      "\n",
      "-------------------------------------------\n",
      "Time: 2021-12-12 02:19:35\n",
      "-------------------------------------------\n",
      "\n",
      "-------------------------------------------\n",
      "Time: 2021-12-12 02:19:40\n",
      "-------------------------------------------\n",
      "\n",
      "-------------------------------------------\n",
      "Time: 2021-12-12 02:19:45\n",
      "-------------------------------------------\n",
      "\n",
      "-------------------------------------------\n",
      "Time: 2021-12-12 02:19:50\n",
      "-------------------------------------------\n",
      "\n",
      "-------------------------------------------\n",
      "Time: 2021-12-12 02:19:55\n",
      "-------------------------------------------\n",
      "\n"
     ]
    },
    {
     "name": "stderr",
     "output_type": "stream",
     "text": [
      "Exception in thread Thread-11:\n",
      "Traceback (most recent call last):\n",
      "  File \"/Users/harrypotter/opt/anaconda3/envs/bd/lib/python3.9/threading.py\", line 973, in _bootstrap_inner\n",
      "    self.run()\n",
      "  File \"/Users/harrypotter/opt/anaconda3/envs/bd/lib/python3.9/threading.py\", line 910, in run\n",
      "    self._target(*self._args, **self._kwargs)\n",
      "  File \"/Users/harrypotter/Documents/courses/bigdata/project/code/utils/twitterHTTPClient.py\", line 78, in run_client\n",
      "    conn, _ = self.s.accept()\n",
      "  File \"/Users/harrypotter/opt/anaconda3/envs/bd/lib/python3.9/socket.py\", line 293, in accept\n",
      "    fd, addr = self._accept()\n",
      "ConnectionAbortedError: [Errno 53] Software caused connection abort\n"
     ]
    }
   ],
   "source": [
    "get_streaming(['movie'], 10)"
   ]
  },
  {
   "cell_type": "markdown",
   "id": "a38b880f",
   "metadata": {},
   "source": [
    "## reviews"
   ]
  },
  {
   "cell_type": "code",
   "execution_count": 8,
   "id": "3ced688a",
   "metadata": {},
   "outputs": [
    {
     "name": "stdout",
     "output_type": "stream",
     "text": [
      "Searching for red notice...\n",
      "Searching for venom...\n",
      "Searching for titanic...\n",
      "Saved to ./data/movies.csv\n"
     ]
    },
    {
     "data": {
      "text/plain": [
       "'./data/movies.csv'"
      ]
     },
     "execution_count": 8,
     "metadata": {},
     "output_type": "execute_result"
    }
   ],
   "source": [
    "wish_list = ['red notice', 'venom', 'titanic']\n",
    "search(wish_list)"
   ]
  },
  {
   "cell_type": "markdown",
   "id": "c0680467",
   "metadata": {},
   "source": [
    "## preprocess"
   ]
  },
  {
   "cell_type": "code",
   "execution_count": 3,
   "id": "2237235b",
   "metadata": {},
   "outputs": [
    {
     "name": "stderr",
     "output_type": "stream",
     "text": [
      "21/12/12 03:30:11 WARN Utils: Your hostname, harrypotterdeMacBook-Air.local resolves to a loopback address: 127.0.0.1; using 192.168.1.104 instead (on interface en0)\n",
      "21/12/12 03:30:11 WARN Utils: Set SPARK_LOCAL_IP if you need to bind to another address\n",
      "21/12/12 03:30:12 WARN NativeCodeLoader: Unable to load native-hadoop library for your platform... using builtin-java classes where applicable\n",
      "Using Spark's default log4j profile: org/apache/spark/log4j-defaults.properties\n",
      "Setting default log level to \"WARN\".\n",
      "To adjust logging level use sc.setLogLevel(newLevel). For SparkR, use setLogLevel(newLevel).\n",
      "21/12/12 03:30:28 WARN BLAS: Failed to load implementation from: com.github.fommil.netlib.NativeSystemBLAS\n",
      "21/12/12 03:30:28 WARN BLAS: Failed to load implementation from: com.github.fommil.netlib.NativeRefBLAS\n"
     ]
    },
    {
     "data": {
      "text/html": [
       "<div>\n",
       "<style scoped>\n",
       "    .dataframe tbody tr th:only-of-type {\n",
       "        vertical-align: middle;\n",
       "    }\n",
       "\n",
       "    .dataframe tbody tr th {\n",
       "        vertical-align: top;\n",
       "    }\n",
       "\n",
       "    .dataframe thead th {\n",
       "        text-align: right;\n",
       "    }\n",
       "</style>\n",
       "<table border=\"1\" class=\"dataframe\">\n",
       "  <thead>\n",
       "    <tr style=\"text-align: right;\">\n",
       "      <th></th>\n",
       "      <th>id</th>\n",
       "      <th>title</th>\n",
       "      <th>release_date</th>\n",
       "      <th>vote_average</th>\n",
       "      <th>vote_count</th>\n",
       "      <th>genres</th>\n",
       "      <th>budget</th>\n",
       "      <th>popularity</th>\n",
       "      <th>revenue</th>\n",
       "      <th>reviews</th>\n",
       "      <th>neg</th>\n",
       "      <th>neu</th>\n",
       "      <th>pos</th>\n",
       "      <th>compound</th>\n",
       "      <th>lda</th>\n",
       "    </tr>\n",
       "  </thead>\n",
       "  <tbody>\n",
       "    <tr>\n",
       "      <th>0</th>\n",
       "      <td>512195</td>\n",
       "      <td>Red Notice</td>\n",
       "      <td>2021-11-04</td>\n",
       "      <td>6.8</td>\n",
       "      <td>1930</td>\n",
       "      <td>[action, comedy, crime, thriller]</td>\n",
       "      <td>200000000</td>\n",
       "      <td>3934.321</td>\n",
       "      <td>0</td>\n",
       "      <td>i realize that this movie was not set to be a ...</td>\n",
       "      <td>0.083</td>\n",
       "      <td>0.723</td>\n",
       "      <td>0.194</td>\n",
       "      <td>1.0000</td>\n",
       "      <td>[eddie, titanic, rose, kate, romance]</td>\n",
       "    </tr>\n",
       "    <tr>\n",
       "      <th>1</th>\n",
       "      <td>580489</td>\n",
       "      <td>Venom: Let There Be Carnage</td>\n",
       "      <td>2021-09-30</td>\n",
       "      <td>7.2</td>\n",
       "      <td>4337</td>\n",
       "      <td>[science fiction, action, adventure]</td>\n",
       "      <td>110000000</td>\n",
       "      <td>7534.804</td>\n",
       "      <td>482000000</td>\n",
       "      <td>When audiences last saw Eddie Brock (Tom Hardy...</td>\n",
       "      <td>0.111</td>\n",
       "      <td>0.734</td>\n",
       "      <td>0.155</td>\n",
       "      <td>0.9999</td>\n",
       "      <td>[titanic, rose, jack, winslet, kate]</td>\n",
       "    </tr>\n",
       "    <tr>\n",
       "      <th>2</th>\n",
       "      <td>597</td>\n",
       "      <td>Titanic</td>\n",
       "      <td>1997-11-18</td>\n",
       "      <td>7.9</td>\n",
       "      <td>20163</td>\n",
       "      <td>[drama, romance]</td>\n",
       "      <td>200000000</td>\n",
       "      <td>102.277</td>\n",
       "      <td>2187463944</td>\n",
       "      <td>Beautiful Romance - Tragedy Unbound.\\r\\n\\r\\nIt...</td>\n",
       "      <td>0.089</td>\n",
       "      <td>0.722</td>\n",
       "      <td>0.188</td>\n",
       "      <td>1.0000</td>\n",
       "      <td>[venom, eddie, marvel, hardy, anne]</td>\n",
       "    </tr>\n",
       "  </tbody>\n",
       "</table>\n",
       "</div>"
      ],
      "text/plain": [
       "       id                        title release_date  vote_average  vote_count  \\\n",
       "0  512195                   Red Notice   2021-11-04           6.8        1930   \n",
       "1  580489  Venom: Let There Be Carnage   2021-09-30           7.2        4337   \n",
       "2     597                      Titanic   1997-11-18           7.9       20163   \n",
       "\n",
       "                                 genres     budget  popularity     revenue  \\\n",
       "0     [action, comedy, crime, thriller]  200000000    3934.321           0   \n",
       "1  [science fiction, action, adventure]  110000000    7534.804   482000000   \n",
       "2                      [drama, romance]  200000000     102.277  2187463944   \n",
       "\n",
       "                                             reviews    neg    neu    pos  \\\n",
       "0  i realize that this movie was not set to be a ...  0.083  0.723  0.194   \n",
       "1  When audiences last saw Eddie Brock (Tom Hardy...  0.111  0.734  0.155   \n",
       "2  Beautiful Romance - Tragedy Unbound.\\r\\n\\r\\nIt...  0.089  0.722  0.188   \n",
       "\n",
       "   compound                                    lda  \n",
       "0    1.0000  [eddie, titanic, rose, kate, romance]  \n",
       "1    0.9999   [titanic, rose, jack, winslet, kate]  \n",
       "2    1.0000    [venom, eddie, marvel, hardy, anne]  "
      ]
     },
     "execution_count": 3,
     "metadata": {},
     "output_type": "execute_result"
    }
   ],
   "source": [
    "preprocess()"
   ]
  },
  {
   "cell_type": "code",
   "execution_count": null,
   "id": "8571766b",
   "metadata": {},
   "outputs": [],
   "source": []
  }
 ],
 "metadata": {
  "interpreter": {
   "hash": "fad867cfa03ebbbf80421dcd380638e027a5b963f86cdc02858bf6d5a7f81183"
  },
  "kernelspec": {
   "display_name": "Python 3.9.7 64-bit ('bd': conda)",
   "language": "python",
   "name": "python3"
  },
  "language_info": {
   "codemirror_mode": {
    "name": "ipython",
    "version": 3
   },
   "file_extension": ".py",
   "mimetype": "text/x-python",
   "name": "python",
   "nbconvert_exporter": "python",
   "pygments_lexer": "ipython3",
   "version": "3.9.7"
  }
 },
 "nbformat": 4,
 "nbformat_minor": 5
}
