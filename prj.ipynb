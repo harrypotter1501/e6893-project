{
 "cells": [
  {
   "cell_type": "markdown",
   "id": "d198fcb8",
   "metadata": {},
   "source": [
    "## streaming"
   ]
  },
  {
   "cell_type": "code",
   "execution_count": 3,
   "id": "bfc11c4d",
   "metadata": {},
   "outputs": [
    {
     "name": "stdout",
     "output_type": "stream",
     "text": [
      "Waiting for TCP connection...\n",
      "Connected... Starting getting tweets.\n"
     ]
    },
    {
     "name": "stderr",
     "output_type": "stream",
     "text": [
      "\r\n",
      "[Stage 0:>                                                          (0 + 1) / 1]\r"
     ]
    },
    {
     "name": "stdout",
     "output_type": "stream",
     "text": [
      "-------------------------------------------\n",
      "Time: 2021-12-03 02:30:55\n",
      "-------------------------------------------\n",
      "\n"
     ]
    },
    {
     "name": "stderr",
     "output_type": "stream",
     "text": [
      "21/12/03 02:31:03 ERROR ReceiverTracker: Deregistered receiver for stream 0: Stopped by driver\n",
      "Exception in thread \"receiver-supervisor-future-0\" java.lang.Error: java.lang.InterruptedException: sleep interrupted\n",
      "\tat java.util.concurrent.ThreadPoolExecutor.runWorker(ThreadPoolExecutor.java:1155)\n",
      "\tat java.util.concurrent.ThreadPoolExecutor$Worker.run(ThreadPoolExecutor.java:624)\n",
      "\tat java.lang.Thread.run(Thread.java:748)\n",
      "Caused by: java.lang.InterruptedException: sleep interrupted\n",
      "\tat java.lang.Thread.sleep(Native Method)\n",
      "\tat org.apache.spark.streaming.receiver.ReceiverSupervisor.$anonfun$restartReceiver$1(ReceiverSupervisor.scala:196)\n",
      "\tat scala.runtime.java8.JFunction0$mcV$sp.apply(JFunction0$mcV$sp.java:23)\n",
      "\tat scala.concurrent.Future$.$anonfun$apply$1(Future.scala:659)\n",
      "\tat scala.util.Success.$anonfun$map$1(Try.scala:255)\n",
      "\tat scala.util.Success.map(Try.scala:213)\n",
      "\tat scala.concurrent.Future.$anonfun$map$1(Future.scala:292)\n",
      "\tat scala.concurrent.impl.Promise.liftedTree1$1(Promise.scala:33)\n",
      "\tat scala.concurrent.impl.Promise.$anonfun$transform$1(Promise.scala:33)\n",
      "\tat scala.concurrent.impl.CallbackRunnable.run(Promise.scala:64)\n",
      "\tat java.util.concurrent.ThreadPoolExecutor.runWorker(ThreadPoolExecutor.java:1149)\n",
      "\t... 2 more\n",
      "[Stage 1:>                                                          (0 + 1) / 1]\r"
     ]
    },
    {
     "name": "stdout",
     "output_type": "stream",
     "text": [
      "Error on_data: [Errno 32] Broken pipe\n"
     ]
    },
    {
     "name": "stderr",
     "output_type": "stream",
     "text": [
      "\r\n",
      "                                                                                \r"
     ]
    },
    {
     "name": "stdout",
     "output_type": "stream",
     "text": [
      "-------------------------------------------\n",
      "Time: 2021-12-03 02:31:00\n",
      "-------------------------------------------\n",
      "RT @OccupyDemocrats: BREAKING: January 6 Committee Chair Liz Cheney puts Trump on notice that ALL of his testimony “will be under oath,” an…RT @asiansolequeen: Haven't had a chance to take new content with my red pedi yet so enjoy some more pics from my previous set 🖤 Do you pre…RT @HOONENHYPEN: To engrave memories that can be remembered in the future, we didn't forget to take group photos that have the S+ quality s…Bhavu teri behen\n",
      "Nish humari bhabhi \n",
      "Red saree main? Itne armaan they\n",
      "\n",
      "Why do I feel that the theory is actually wo… https://t.co/htGi6PqHN7@jumeok_bob red flags all over mmmmm 😋😋RT @jon_trickett: We saw the pandemic as a time to pull closer together &amp; help each other through the hardship.\n",
      "\n",
      "The Tories saw the pandemi…10/10 Red NoticeeeRT @AyeshaS63089537: Check the manifesting power mann red saree today ❤ #TejRanLMFAOOO this tweet + video combo is my fave bc both these make me so happy. LMFAOOOORT @MichaelPSenger: The Nuremberg Code is working exactly as intended. It’s a red line humanity drew for itself, carried within every perso…@supposedok @Route2FI They'll notice once $JADE enters Top100 coins@MatrixMartian Show us a pic! This is just 1 of 4 garages I need to re spray redA rose drenced in red\n",
      "\n",
      "#hannahxxrosefanart https://t.co/8gLArifHPYRT @rohwisrose: OMG SF9 IN AAA 2021 RED CARPET!!! THEY LOOK SO GOOD😩💓 https://t.co/noPKsvz7PYTHAT PERSON SHOULD KNEEL AND ASK FOR FORGIVENESSRT @GOT7CBinfo: BTW by JAY B feat. Jay Park is featured in @TIDAL’s Best of Kpop 2021 Playlist!🎉\n",
      "\n",
      "...\n",
      "\n",
      "-------------------------------------------\n",
      "Time: 2021-12-03 02:31:05\n",
      "-------------------------------------------\n",
      "\n",
      "-------------------------------------------\n",
      "Time: 2021-12-03 02:31:10\n",
      "-------------------------------------------\n",
      "\n",
      "-------------------------------------------\n",
      "Time: 2021-12-03 02:31:15\n",
      "-------------------------------------------\n",
      "\n",
      "-------------------------------------------\n",
      "Time: 2021-12-03 02:31:20\n",
      "-------------------------------------------\n",
      "\n",
      "-------------------------------------------\n",
      "Time: 2021-12-03 02:31:25\n",
      "-------------------------------------------\n",
      "\n",
      "-------------------------------------------\n",
      "Time: 2021-12-03 02:31:30\n",
      "-------------------------------------------\n",
      "\n",
      "-------------------------------------------\n",
      "Time: 2021-12-03 02:31:35\n",
      "-------------------------------------------\n",
      "\n",
      "-------------------------------------------\n",
      "Time: 2021-12-03 02:31:40\n",
      "-------------------------------------------\n",
      "\n",
      "-------------------------------------------\n",
      "Time: 2021-12-03 02:31:45\n",
      "-------------------------------------------\n",
      "\n",
      "-------------------------------------------\n",
      "Time: 2021-12-03 02:31:50\n",
      "-------------------------------------------\n",
      "\n",
      "-------------------------------------------\n",
      "Time: 2021-12-03 02:31:55\n",
      "-------------------------------------------\n",
      "\n",
      "-------------------------------------------\n",
      "Time: 2021-12-03 02:32:00\n",
      "-------------------------------------------\n",
      "\n"
     ]
    }
   ],
   "source": [
    "from twitter.twitterHTTPClient import twitter_client\n",
    "from twitter.sparkStreaming import fetch_data\n",
    "from threading import Thread\n",
    "\n",
    "output_directory = './data/red-notice'\n",
    "\n",
    "IP = 'localhost'\n",
    "PORT = 9001\n",
    "STREAMTIME = 10\n",
    "\n",
    "# the tags to track\n",
    "tags = ['red', 'notice']\n",
    "\n",
    "client = twitter_client(IP, PORT)\n",
    "thread = Thread(target=client.run_client, args=(tags))\n",
    "thread.start()\n",
    "\n",
    "fetch_data(STREAMTIME, IP, PORT, output_directory)\n",
    "client.stop_client()"
   ]
  },
  {
   "cell_type": "markdown",
   "id": "a38b880f",
   "metadata": {},
   "source": [
    "## reviews"
   ]
  },
  {
   "cell_type": "code",
   "execution_count": 1,
   "id": "2277083e",
   "metadata": {},
   "outputs": [],
   "source": [
    "from tmdbv3api import TMDb, Movie"
   ]
  },
  {
   "cell_type": "code",
   "execution_count": 2,
   "id": "9cbda62e",
   "metadata": {},
   "outputs": [],
   "source": [
    "tmdb = TMDb()\n",
    "tmdb.api_key = '94b42385a681053cab08a06553dcfa19'\n",
    "tmdb.language = 'en'\n",
    "tmdb.debug = True"
   ]
  },
  {
   "cell_type": "code",
   "execution_count": 3,
   "id": "f20430cf",
   "metadata": {},
   "outputs": [
    {
     "data": {
      "text/plain": [
       "[{'adult': False, 'backdrop_path': '/5uVhMGsps81CN0S4U9NF0Z4tytG.jpg', 'genre_ids': [28, 35, 80, 53], 'id': 512195, 'original_language': 'en', 'original_title': 'Red Notice', 'overview': \"An Interpol-issued Red Notice is a global alert to hunt and capture the world's most wanted. But when a daring heist brings together the FBI's top profiler and two rival criminals, there's no telling what will happen.\", 'popularity': 3605.814, 'poster_path': '/wdE6ewaKZHr62bLqCn7A2DiGShm.jpg', 'release_date': '2021-11-04', 'title': 'Red Notice', 'video': False, 'vote_average': 6.8, 'vote_count': 1853},\n",
       " {'adult': False, 'backdrop_path': '/zHHcindG4uVZLPLuYWoo4rnv6Ti.jpg', 'genre_ids': [18, 28, 53], 'id': 595743, 'original_language': 'en', 'original_title': 'SAS: Red Notice', 'overview': 'An off-duty SAS soldier, Tom Buckingham, must thwart a terror attack on a train running through the Channel Tunnel. As the action escalates on the train, events transpire in the corridors of power that may make the difference as to whether Buckingham and the civilian passengers make it out of the tunnel alive.', 'popularity': 207.23, 'poster_path': '/6Y9fl8tD1xtyUrOHV2MkCYTpzgi.jpg', 'release_date': '2021-08-11', 'title': 'SAS: Red Notice', 'video': False, 'vote_average': 5.9, 'vote_count': 287}]"
      ]
     },
     "execution_count": 3,
     "metadata": {},
     "output_type": "execute_result"
    }
   ],
   "source": [
    "movie = Movie()\n",
    "res = movie.search('Red Notice')\n",
    "res"
   ]
  },
  {
   "cell_type": "code",
   "execution_count": 11,
   "id": "962dc985",
   "metadata": {},
   "outputs": [
    {
     "data": {
      "text/plain": [
       "{'adult': False, 'backdrop_path': '/dK12GIdhGP6NPGFssK2Fh265jyr.jpg', 'belongs_to_collection': None, 'budget': 200000000, 'genres': [{'id': 28, 'name': 'Action'}, {'id': 35, 'name': 'Comedy'}, {'id': 80, 'name': 'Crime'}, {'id': 53, 'name': 'Thriller'}], 'homepage': 'https://www.netflix.com/us/title/81161626', 'id': 512195, 'imdb_id': 'tt7991608', 'original_language': 'en', 'original_title': 'Red Notice', 'overview': \"An Interpol-issued Red Notice is a global alert to hunt and capture the world's most wanted. But when a daring heist brings together the FBI's top profiler and two rival criminals, there's no telling what will happen.\", 'popularity': 3981.915, 'poster_path': '/wdE6ewaKZHr62bLqCn7A2DiGShm.jpg', 'production_companies': [{'id': 34081, 'logo_path': None, 'name': 'Flynn Picture Company', 'origin_country': 'US'}, {'id': 73669, 'logo_path': '/7tmSGstK3KwgcDIuBYLTAayjit9.png', 'name': 'Seven Bucks Productions', 'origin_country': 'US'}, {'id': 923, 'logo_path': '/5UQsZrfbfG2dYJbx8DxfoTr2Bvu.png', 'name': 'Legendary Pictures', 'origin_country': 'US'}, {'id': 102182, 'logo_path': None, 'name': 'Bad Version, Inc.', 'origin_country': ''}], 'production_countries': [{'iso_3166_1': 'US', 'name': 'United States of America'}], 'release_date': '2021-11-04', 'revenue': 0, 'runtime': 116, 'spoken_languages': [{'english_name': 'English', 'iso_639_1': 'en', 'name': 'English'}, {'english_name': 'Italian', 'iso_639_1': 'it', 'name': 'Italiano'}, {'english_name': 'Russian', 'iso_639_1': 'ru', 'name': 'Pусский'}], 'status': 'Released', 'tagline': 'Pro and cons.', 'title': 'Red Notice', 'video': False, 'vote_average': 6.8, 'vote_count': 1673, 'videos': {'results': [{'iso_639_1': 'en', 'iso_3166_1': 'US', 'name': 'Official Trailer', 'key': 'Pj0wz7zu3Ms', 'site': 'YouTube', 'size': 1080, 'type': 'Trailer', 'official': True, 'published_at': '2021-10-21 13:10:02 UTC', 'id': '61716e7b6d4c97004484722c'}, {'iso_639_1': 'en', 'iso_3166_1': 'US', 'name': 'TUDUM Exclusive Clip', 'key': 'Yhodo7vwC6E', 'site': 'YouTube', 'size': 1080, 'type': 'Clip', 'official': True, 'published_at': '2021-09-25 16:11:01 UTC', 'id': '614f6663a5d849002b088c4d'}, {'iso_639_1': 'en', 'iso_3166_1': 'US', 'name': 'Official Teaser', 'key': 'T6l3mM7AWew', 'site': 'YouTube', 'size': 1080, 'type': 'Teaser', 'official': True, 'published_at': '2021-09-02 13:30:00 UTC', 'id': '6130e3006a34480043d8ea74'}]}, 'trailers': {'quicktime': [], 'youtube': [{'name': 'Official Teaser', 'size': 'HD', 'source': 'T6l3mM7AWew', 'type': 'Teaser'}, {'name': 'TUDUM Exclusive Clip', 'size': 'HD', 'source': 'Yhodo7vwC6E', 'type': 'Clip'}, {'name': 'Official Trailer', 'size': 'HD', 'source': 'Pj0wz7zu3Ms', 'type': 'Trailer'}]}, 'images': {'backdrops': [{'aspect_ratio': 1.778, 'height': 1152, 'iso_639_1': 'en', 'file_path': '/vP7OeX0s9DjVBlOkqEy8FVEXEnM.jpg', 'vote_average': 5.312, 'vote_count': 1, 'width': 2048}], 'logos': [{'aspect_ratio': 3.012, 'height': 409, 'iso_639_1': 'en', 'file_path': '/oMoWfoIYfFDr1RGQflEydfbDX7G.png', 'vote_average': 5.312, 'vote_count': 1, 'width': 1232}, {'aspect_ratio': 11.935, 'height': 107, 'iso_639_1': 'en', 'file_path': '/1CeLECHAGc7bD5JBIu2hggo5jZr.png', 'vote_average': 5.172, 'vote_count': 1, 'width': 1277}], 'posters': [{'aspect_ratio': 0.667, 'height': 1500, 'iso_639_1': 'en', 'file_path': '/wdE6ewaKZHr62bLqCn7A2DiGShm.jpg', 'vote_average': 5.522, 'vote_count': 6, 'width': 1000}, {'aspect_ratio': 0.667, 'height': 1500, 'iso_639_1': 'en', 'file_path': '/29LQnNV9l5IprbcVNHTha4Q72Tn.jpg', 'vote_average': 5.258, 'vote_count': 6, 'width': 1000}, {'aspect_ratio': 0.675, 'height': 1111, 'iso_639_1': 'en', 'file_path': '/8qn3mMLwVqqIJCOPu9TXZy4Gdv8.jpg', 'vote_average': 5.252, 'vote_count': 4, 'width': 750}, {'aspect_ratio': 0.675, 'height': 2222, 'iso_639_1': 'en', 'file_path': '/q2d56YvJ3s9W73lqrk16Nzcc7xD.jpg', 'vote_average': 5.246, 'vote_count': 2, 'width': 1500}, {'aspect_ratio': 0.667, 'height': 2880, 'iso_639_1': 'en', 'file_path': '/6k8z7ZQmEjn1B6ntOBTJoEIP1z2.jpg', 'vote_average': 5.19, 'vote_count': 5, 'width': 1920}, {'aspect_ratio': 0.666, 'height': 1313, 'iso_639_1': 'en', 'file_path': '/63zB9o74Zb4Ot1whlHMLUHYu9oR.jpg', 'vote_average': 5.172, 'vote_count': 1, 'width': 875}, {'aspect_ratio': 0.675, 'height': 1111, 'iso_639_1': 'en', 'file_path': '/pqXjplxpL46XWzp8VpjWiu45tpX.jpg', 'vote_average': 5.172, 'vote_count': 1, 'width': 750}, {'aspect_ratio': 0.667, 'height': 750, 'iso_639_1': 'en', 'file_path': '/l6z4HkCtjIxdEHjj9nCKOta8Idw.jpg', 'vote_average': 5.146, 'vote_count': 10, 'width': 500}, {'aspect_ratio': 0.667, 'height': 1350, 'iso_639_1': 'en', 'file_path': '/AviYDX3NuuyVQdZoLmLxNKp3zm8.jpg', 'vote_average': 5.128, 'vote_count': 6, 'width': 900}, {'aspect_ratio': 0.675, 'height': 1111, 'iso_639_1': 'en', 'file_path': '/8Er2lcPJPCawQfQOdp2zHCpPvaZ.jpg', 'vote_average': 5.106, 'vote_count': 2, 'width': 750}, {'aspect_ratio': 0.667, 'height': 1500, 'iso_639_1': 'en', 'file_path': '/q4kemt46zXXMwIEo7pDH1yKtr1p.jpg', 'vote_average': 5.106, 'vote_count': 2, 'width': 1000}, {'aspect_ratio': 0.667, 'height': 1500, 'iso_639_1': 'en', 'file_path': '/yB3vsASUYb0f3C3Tdv6lGrosyjn.jpg', 'vote_average': 5.106, 'vote_count': 2, 'width': 1000}, {'aspect_ratio': 0.667, 'height': 899, 'iso_639_1': 'en', 'file_path': '/A6ixhMWQknwhcJ0eQdqaSbDhTva.jpg', 'vote_average': 5.044, 'vote_count': 3, 'width': 600}, {'aspect_ratio': 0.675, 'height': 1111, 'iso_639_1': 'en', 'file_path': '/hdgxTEOyGLz5AIbCvidFZHOIrOZ.jpg', 'vote_average': 5.044, 'vote_count': 3, 'width': 750}, {'aspect_ratio': 0.667, 'height': 900, 'iso_639_1': 'en', 'file_path': '/u6sIqzYZ8rvLFOWTqvLV6pI574S.jpg', 'vote_average': 0.0, 'vote_count': 0, 'width': 600}, {'aspect_ratio': 0.675, 'height': 2222, 'iso_639_1': 'en', 'file_path': '/hmtBsVJT3yqJ0Tzvsskh2mEBL8i.jpg', 'vote_average': 0.0, 'vote_count': 0, 'width': 1500}]}, 'casts': {'cast': [{'adult': False, 'gender': 2, 'id': 18918, 'known_for_department': 'Acting', 'name': 'Dwayne Johnson', 'original_name': 'Dwayne Johnson', 'popularity': 41.871, 'profile_path': '/kuqFzlYMc2IrsOyPznMd1FroeGq.jpg', 'cast_id': 2, 'character': 'John Hartley', 'credit_id': '5aac343892514116b7004626', 'order': 0}, {'adult': False, 'gender': 2, 'id': 10859, 'known_for_department': 'Acting', 'name': 'Ryan Reynolds', 'original_name': 'Ryan Reynolds', 'popularity': 44.448, 'profile_path': '/4SYTH5FdB0dAORV98Nwg3llgVnY.jpg', 'cast_id': 13, 'character': 'Nolan Booth', 'credit_id': '5d23cf7069d2800010011045', 'order': 1}, {'adult': False, 'gender': 1, 'id': 90633, 'known_for_department': 'Acting', 'name': 'Gal Gadot', 'original_name': 'Gal Gadot', 'popularity': 28.695, 'profile_path': '/fysvehTvU6bE3JgxaOTRfvQJzJ4.jpg', 'cast_id': 9, 'character': 'Sarah Black / The Bishop', 'credit_id': '5b1ea4290e0a261010008a2d', 'order': 2}, {'adult': False, 'gender': 1, 'id': 1742596, 'known_for_department': 'Acting', 'name': 'Ritu Arya', 'original_name': 'Ritu Arya', 'popularity': 33.2, 'profile_path': '/ihrpR4DeBgxYgpU7b1I0tFKckm1.jpg', 'cast_id': 16, 'character': 'Inspector Urvashi Das', 'credit_id': '5e4204000c271000137fe6fd', 'order': 3}, {'adult': False, 'gender': 2, 'id': 1217648, 'known_for_department': 'Acting', 'name': 'Chris Diamantopoulos', 'original_name': 'Chris Diamantopoulos', 'popularity': 4.56, 'profile_path': '/t1jxWnGMkCTJ8kpvxdHlxNhlBt5.jpg', 'cast_id': 17, 'character': 'Sotto Voce', 'credit_id': '5e42040b41465c0018ce67e2', 'order': 4}, {'adult': False, 'gender': 2, 'id': 2777637, 'known_for_department': 'Acting', 'name': 'Ivan Mbakop', 'original_name': 'Ivan Mbakop', 'popularity': 2.118, 'profile_path': '/6X8bfrpJlDJUIQj9nt5IV1HfQGM.jpg', 'cast_id': 20, 'character': 'Tambwe', 'credit_id': '5f5f9fc493388b00395b9a43', 'order': 5}, {'adult': False, 'gender': 2, 'id': 20588, 'known_for_department': 'Acting', 'name': 'Vincenzo Amato', 'original_name': 'Vincenzo Amato', 'popularity': 2.407, 'profile_path': '/h1cwmBKjFxGgIX4RcPhdcjJGpBa.jpg', 'cast_id': 87, 'character': 'Director Gallo', 'credit_id': '618f9669e93e95008ea04bf9', 'order': 6}, {'adult': False, 'gender': 2, 'id': 1507080, 'known_for_department': 'Acting', 'name': 'Rafael Petardi', 'original_name': 'Rafael Petardi', 'popularity': 1.912, 'profile_path': '/1ychureLvmyTVYYKI41pN13efFr.jpg', 'cast_id': 25, 'character': 'Security Chief Ricci', 'credit_id': '60e836994ca676005e1d0096', 'order': 7}, {'adult': False, 'gender': 2, 'id': 1039097, 'known_for_department': 'Acting', 'name': 'Seth Michaels', 'original_name': 'Seth Michaels', 'popularity': 1.613, 'profile_path': None, 'cast_id': 88, 'character': 'Souvenir Stand Owner', 'credit_id': '618f968a66a7c30092d34cb5', 'order': 8}, {'adult': False, 'gender': 0, 'id': 2045045, 'known_for_department': 'Acting', 'name': 'Sebastien Large', 'original_name': 'Sebastien Large', 'popularity': 0.6, 'profile_path': None, 'cast_id': 89, 'character': 'Gelato Truck Driver', 'credit_id': '618f969863e6fb0063733f7e', 'order': 9}, {'adult': False, 'gender': 2, 'id': 1517535, 'known_for_department': 'Acting', 'name': 'Guy Nardulli', 'original_name': 'Guy Nardulli', 'popularity': 0.6, 'profile_path': None, 'cast_id': 90, 'character': 'Museum Reporter / Italian VIP', 'credit_id': '618f96aad55e4d0045bc651a', 'order': 10}, {'adult': False, 'gender': 2, 'id': 2646853, 'known_for_department': 'Acting', 'name': 'Andrew Hunter', 'original_name': 'Andrew Hunter', 'popularity': 0.6, 'profile_path': '/qo257KJR4WpjHrQfnEeUY3JdZ2P.jpg', 'cast_id': 91, 'character': 'Moped Tourist', 'credit_id': '618f96bca313b8002a9c645c', 'order': 11}, {'adult': False, 'gender': 2, 'id': 1822373, 'known_for_department': 'Acting', 'name': 'George Tsai', 'original_name': 'George Tsai', 'popularity': 0.6, 'profile_path': '/4l05ulUteEk6Gdp2opdHlnfzvtn.jpg', 'cast_id': 92, 'character': 'Bali Van Driver', 'credit_id': '618f96c65f2b8d0026662899', 'order': 12}, {'adult': False, 'gender': 2, 'id': 57633, 'known_for_department': 'Directing', 'name': 'Rawson Marshall Thurber', 'original_name': 'Rawson Marshall Thurber', 'popularity': 6.032, 'profile_path': '/4gpzB12oy73qr5nWNNyZICz9nFB.jpg', 'cast_id': 93, 'character': 'Exhausted Film Director in Bar', 'credit_id': '618f96d666a7c30064c17fa6', 'order': 13}, {'adult': False, 'gender': 0, 'id': 1723574, 'known_for_department': 'Acting', 'name': 'Anthony Belevtsov', 'original_name': 'Anthony Belevtsov', 'popularity': 1.246, 'profile_path': '/8oghqsjK6Pyvc1r9Zndilgl3EOV.jpg', 'cast_id': 86, 'character': 'Prison Guard Sergeant', 'credit_id': '6186dcba75f1ad008e4209d0', 'order': 14}, {'adult': False, 'gender': 2, 'id': 9452, 'known_for_department': 'Acting', 'name': 'Daniel Bernhardt', 'original_name': 'Daniel Bernhardt', 'popularity': 6.745, 'profile_path': '/b59qhg5VJOCypx9eMXrXHAjauLd.jpg', 'cast_id': 85, 'character': 'Drago Grande', 'credit_id': '6186dc6d8ed03f006373e765', 'order': 15}, {'adult': False, 'gender': 0, 'id': 3148386, 'known_for_department': 'Acting', 'name': 'Yosef Podolski', 'original_name': 'Yosef Podolski', 'popularity': 0.6, 'profile_path': None, 'cast_id': 94, 'character': 'Lead Guard', 'credit_id': '618f96eba313b8006254f88e', 'order': 16}, {'adult': False, 'gender': 0, 'id': 1233178, 'known_for_department': 'Acting', 'name': 'Alexander Perkins', 'original_name': 'Alexander Perkins', 'popularity': 0.631, 'profile_path': '/aJ3uqgRXPW0Jvxp6MbgQS8vLfBL.jpg', 'cast_id': 95, 'character': 'Intelligence Analyst', 'credit_id': '618f979166a7c30043755655', 'order': 17}, {'adult': False, 'gender': 2, 'id': 1157627, 'known_for_department': 'Acting', 'name': 'Joseph A. Garcia', 'original_name': 'Joseph A. Garcia', 'popularity': 0.84, 'profile_path': '/kaNFRoFLjHxeEVntTSrb5xeRPW.jpg', 'cast_id': 102, 'character': 'Old Tech', 'credit_id': '61903a147ac8290061d8bf3e', 'order': 18}, {'adult': False, 'gender': 2, 'id': 1970046, 'known_for_department': 'Acting', 'name': 'Nathan Theis', 'original_name': 'Nathan Theis', 'popularity': 0.722, 'profile_path': '/wUhiaVclV1urgNpopDhvdS31pRR.jpg', 'cast_id': 96, 'character': 'Young Tech', 'credit_id': '618f97a50f2fbd002e474470', 'order': 19}, {'adult': False, 'gender': 0, 'id': 2156029, 'known_for_department': 'Visual Effects', 'name': 'Gonzalo Escudero', 'original_name': 'Gonzalo Escudero', 'popularity': 0.6, 'profile_path': None, 'cast_id': 97, 'character': 'Head Waiter', 'credit_id': '618f97b288634800437a2284', 'order': 20}, {'adult': False, 'gender': 2, 'id': 200109, 'known_for_department': 'Acting', 'name': 'Tom Choi', 'original_name': 'Tom Choi', 'popularity': 2.286, 'profile_path': '/48uNKlsPufa5NMcaFGYv01ZbGXA.jpg', 'cast_id': 27, 'character': 'Mongolian Captain', 'credit_id': '60e8374d4ca67600462a0d9d', 'order': 21}, {'adult': False, 'gender': 2, 'id': 1952010, 'known_for_department': 'Acting', 'name': 'Nick Arapoglou', 'original_name': 'Nick Arapoglou', 'popularity': 1.22, 'profile_path': '/3ZM2dRRRFrz1nLsshETs6egpKYX.jpg', 'cast_id': 98, 'character': 'Officer on Yacht', 'credit_id': '618f97d6cf62cd002a01f41d', 'order': 22}, {'adult': False, 'gender': 2, 'id': 35172, 'known_for_department': 'Acting', 'name': 'Robert Clotworthy', 'original_name': 'Robert Clotworthy', 'popularity': 0.833, 'profile_path': '/ya6d3Nkp28AYIQ9TFDfwh8lshxg.jpg', 'cast_id': 99, 'character': 'Opening Narrator (voice)', 'credit_id': '618f97e3cf62cd00421f5eb8', 'order': 23}, {'adult': False, 'gender': 2, 'id': 1199292, 'known_for_department': 'Acting', 'name': 'Martin Harris', 'original_name': 'Martin Harris', 'popularity': 1.4, 'profile_path': '/3CRHqBr5U8pexQdtB42P0ZzK9x0.jpg', 'cast_id': 101, 'character': 'Tower Guard', 'credit_id': '61903976f18ce7008acccc06', 'order': 24}, {'adult': False, 'gender': 0, 'id': 1915018, 'known_for_department': 'Acting', 'name': 'Ethan Herschenfeld', 'original_name': 'Ethan Herschenfeld', 'popularity': 0.6, 'profile_path': None, 'cast_id': 103, 'character': 'Aranoub Magdy', 'credit_id': '61903ab8e93e95008ea13147', 'order': 25}, {'adult': False, 'gender': 2, 'id': 998387, 'known_for_department': 'Acting', 'name': 'Ed Sheeran', 'original_name': 'Ed Sheeran', 'popularity': 3.002, 'profile_path': '/w7zbWC9AV0WfIEl8L38otal7mwS.jpg', 'cast_id': 100, 'character': 'Ed Sheeran (uncredited)', 'credit_id': '618fb9770f2fbd002e475f89', 'order': 26}, {'adult': False, 'gender': 0, 'id': 1773168, 'known_for_department': 'Acting', 'name': 'Steve Eifert', 'original_name': 'Steve Eifert', 'popularity': 0.84, 'profile_path': '/2cmouno9Lz9hVuQvrb350epJZw9.jpg', 'cast_id': 104, 'character': 'Prison Captain', 'credit_id': '61915d5c63a69500618d7ed4', 'order': 27}], 'crew': [{'adult': False, 'gender': 2, 'id': 9543, 'known_for_department': 'Production', 'name': 'Beau Flynn', 'original_name': 'Beau Flynn', 'popularity': 2.959, 'profile_path': None, 'credit_id': '5aac346f0e0a267833004d58', 'department': 'Production', 'job': 'Producer'}, {'adult': False, 'gender': 2, 'id': 9820, 'known_for_department': 'Art', 'name': 'Andy Nicholson', 'original_name': 'Andy Nicholson', 'popularity': 0.6, 'profile_path': None, 'credit_id': '6115d70499d5c30075dd042d', 'department': 'Art', 'job': 'Production Design'}, {'adult': False, 'gender': 2, 'id': 9820, 'known_for_department': 'Art', 'name': 'Andy Nicholson', 'original_name': 'Andy Nicholson', 'popularity': 0.6, 'profile_path': None, 'credit_id': '5da2cf211967570011a9bcc0', 'department': 'Production', 'job': 'Production Designer'}, {'adult': False, 'gender': 2, 'id': 13179, 'known_for_department': 'Sound', 'name': 'Tony Lamberti', 'original_name': 'Tony Lamberti', 'popularity': 0.6, 'profile_path': None, 'credit_id': '6115d7ea3dc313005c33eee5', 'department': 'Sound', 'job': 'Sound Designer'}, {'adult': False, 'gender': 2, 'id': 13179, 'known_for_department': 'Sound', 'name': 'Tony Lamberti', 'original_name': 'Tony Lamberti', 'popularity': 0.6, 'profile_path': None, 'credit_id': '6115d7e3a097dc002cd053e4', 'department': 'Sound', 'job': 'Sound Re-Recording Mixer'}, {'adult': False, 'gender': 2, 'id': 42035, 'known_for_department': 'Sound', 'name': 'Sean McCormack', 'original_name': 'Sean McCormack', 'popularity': 0.66, 'profile_path': None, 'credit_id': '61722404abdec00029ace329', 'department': 'Sound', 'job': 'Supervising Sound Editor'}, {'adult': False, 'gender': 2, 'id': 42036, 'known_for_department': 'Sound', 'name': 'Kami Asgar', 'original_name': 'Kami Asgar', 'popularity': 1.4, 'profile_path': None, 'credit_id': '6115d7bf3dc313002c6be341', 'department': 'Sound', 'job': 'Supervising Sound Editor'}, {'adult': False, 'gender': 2, 'id': 18264, 'known_for_department': 'Sound', 'name': 'Steve Jablonsky', 'original_name': 'Steve Jablonsky', 'popularity': 0.84, 'profile_path': '/aJntUZkZzlHRszlxzSaztAN9N7O.jpg', 'credit_id': '6115d6ee0f0da50080b18303', 'department': 'Sound', 'job': 'Original Music Composer'}, {'adult': False, 'gender': 2, 'id': 18918, 'known_for_department': 'Acting', 'name': 'Dwayne Johnson', 'original_name': 'Dwayne Johnson', 'popularity': 41.871, 'profile_path': '/kuqFzlYMc2IrsOyPznMd1FroeGq.jpg', 'credit_id': '5aac347dc3a36846ea004d2f', 'department': 'Production', 'job': 'Producer'}, {'adult': False, 'gender': 2, 'id': 21984, 'known_for_department': 'Art', 'name': 'Larry Dias', 'original_name': 'Larry Dias', 'popularity': 0.6, 'profile_path': None, 'credit_id': '6115d77c151c5c00732674b7', 'department': 'Art', 'job': 'Set Decoration'}, {'adult': False, 'gender': 2, 'id': 57633, 'known_for_department': 'Directing', 'name': 'Rawson Marshall Thurber', 'original_name': 'Rawson Marshall Thurber', 'popularity': 6.032, 'profile_path': '/4gpzB12oy73qr5nWNNyZICz9nFB.jpg', 'credit_id': '6115d874006b010046a04bf2', 'department': 'Writing', 'job': 'Screenplay'}, {'adult': False, 'gender': 2, 'id': 57633, 'known_for_department': 'Directing', 'name': 'Rawson Marshall Thurber', 'original_name': 'Rawson Marshall Thurber', 'popularity': 6.032, 'profile_path': '/4gpzB12oy73qr5nWNNyZICz9nFB.jpg', 'credit_id': '5aac342192514116b10047e9', 'department': 'Directing', 'job': 'Director'}, {'adult': False, 'gender': 2, 'id': 57633, 'known_for_department': 'Directing', 'name': 'Rawson Marshall Thurber', 'original_name': 'Rawson Marshall Thurber', 'popularity': 6.032, 'profile_path': '/4gpzB12oy73qr5nWNNyZICz9nFB.jpg', 'credit_id': '5ada8acf9251410ad50015a7', 'department': 'Production', 'job': 'Producer'}, {'adult': False, 'gender': 1, 'id': 75391, 'known_for_department': 'Art', 'name': 'Danielle Berman', 'original_name': 'Danielle Berman', 'popularity': 0.706, 'profile_path': None, 'credit_id': '6115d76c957e6d0044329e89', 'department': 'Art', 'job': 'Set Decoration'}, {'adult': False, 'gender': 2, 'id': 111456, 'known_for_department': 'Editing', 'name': 'Michael L. Sale', 'original_name': 'Michael L. Sale', 'popularity': 0.84, 'profile_path': None, 'credit_id': '5b6eaf0cc3a36818971504c0', 'department': 'Editing', 'job': 'Editor'}, {'adult': False, 'gender': 2, 'id': 574092, 'known_for_department': 'Directing', 'name': 'James Bitonti', 'original_name': 'James Bitonti', 'popularity': 0.6, 'profile_path': None, 'credit_id': '5b1f1029c3a36808ac01165d', 'department': 'Directing', 'job': 'First Assistant Director'}, {'adult': False, 'gender': 2, 'id': 962164, 'known_for_department': 'Art', 'name': 'Jason Knox-Johnston', 'original_name': 'Jason Knox-Johnston', 'popularity': 0.694, 'profile_path': None, 'credit_id': '5d80fce0d5dbc2001bed55b6', 'department': 'Art', 'job': 'Supervising Art Director'}, {'adult': False, 'gender': 1, 'id': 1039217, 'known_for_department': 'Production', 'name': 'Dany Garcia', 'original_name': 'Dany Garcia', 'popularity': 6.824, 'profile_path': '/nZnQuskqDYmm9BDfsgRjDyVakCR.jpg', 'credit_id': '5aac348e0e0a267833004d7e', 'department': 'Production', 'job': 'Producer'}, {'adult': False, 'gender': 0, 'id': 1275131, 'known_for_department': 'Camera', 'name': 'Markus Förderer', 'original_name': 'Markus Förderer', 'popularity': 0.6, 'profile_path': '/c10BcOo5hGiTpTW8PbzkQ6ZLEy2.jpg', 'credit_id': '603840258b959e006a99062d', 'department': 'Camera', 'job': 'Director of Photography'}, {'adult': False, 'gender': 2, 'id': 1340132, 'known_for_department': 'Visual Effects', 'name': 'Blondel Aidoo', 'original_name': 'Blondel Aidoo', 'popularity': 0.624, 'profile_path': None, 'credit_id': '617224410d5d8500915cbb8a', 'department': 'Visual Effects', 'job': 'Visual Effects Producer'}, {'adult': False, 'gender': 0, 'id': 1373700, 'known_for_department': 'Art', 'name': 'Will Coubrough', 'original_name': 'Will Coubrough', 'popularity': 0.6, 'profile_path': None, 'credit_id': '6115d73399d5c3005e7f4389', 'department': 'Art', 'job': 'Art Direction'}, {'adult': False, 'gender': 2, 'id': 1378171, 'known_for_department': 'Sound', 'name': 'Kevin O’Connell', 'original_name': 'Kevin O’Connell', 'popularity': 0.786, 'profile_path': None, 'credit_id': '61722414156cc7008630de89', 'department': 'Sound', 'job': 'Sound Re-Recording Mixer'}, {'adult': False, 'gender': 2, 'id': 1393382, 'known_for_department': 'Sound', 'name': 'David Werntz', 'original_name': 'David Werntz', 'popularity': 0.766, 'profile_path': None, 'credit_id': '6115d7aaf1759c0044365ea5', 'department': 'Sound', 'job': 'Sound Designer'}, {'adult': False, 'gender': 0, 'id': 1400555, 'known_for_department': 'Art', 'name': 'George Lee', 'original_name': 'George Lee', 'popularity': 0.6, 'profile_path': None, 'credit_id': '617223980d5d85002ae7db33', 'department': 'Art', 'job': 'Set Designer'}, {'adult': False, 'gender': 0, 'id': 1412998, 'known_for_department': 'Costume & Make-Up', 'name': 'Ginger Knussmann', 'original_name': 'Ginger Knussmann', 'popularity': 0.6, 'profile_path': None, 'credit_id': '617225158ddc340044b1293e', 'department': 'Costume & Make-Up', 'job': 'Set Costumer'}, {'adult': False, 'gender': 0, 'id': 1413000, 'known_for_department': 'Costume & Make-Up', 'name': 'Richard Schoen', 'original_name': 'Richard Schoen', 'popularity': 0.694, 'profile_path': None, 'credit_id': '617224a2176a940085377e8c', 'department': 'Costume & Make-Up', 'job': 'Costume Supervisor'}, {'adult': False, 'gender': 0, 'id': 1415020, 'known_for_department': 'Costume & Make-Up', 'name': 'Kate Duke', 'original_name': 'Kate Duke', 'popularity': 0.6, 'profile_path': None, 'credit_id': '617224e80d5d8500915cbd4b', 'department': 'Costume & Make-Up', 'job': 'Set Costumer'}, {'adult': False, 'gender': 0, 'id': 1442119, 'known_for_department': 'Art', 'name': \"Justin O'Neal Miller\", 'original_name': \"Justin O'Neal Miller\", 'popularity': 0.6, 'profile_path': None, 'credit_id': '6115d753a097dc0044b99d21', 'department': 'Art', 'job': 'Art Direction'}, {'adult': False, 'gender': 0, 'id': 1463272, 'known_for_department': 'Costume & Make-Up', 'name': 'Jennifer Hodges', 'original_name': 'Jennifer Hodges', 'popularity': 0.6, 'profile_path': None, 'credit_id': '617222af7e348300634df305', 'department': 'Costume & Make-Up', 'job': 'Key Hair Stylist'}, {'adult': False, 'gender': 0, 'id': 1466097, 'known_for_department': 'Production', 'name': 'Hiram Garcia', 'original_name': 'Hiram Garcia', 'popularity': 0.698, 'profile_path': None, 'credit_id': '5aac349c92514116c0004aaf', 'department': 'Production', 'job': 'Producer'}, {'adult': False, 'gender': 0, 'id': 1500412, 'known_for_department': 'Production', 'name': 'Wendy Jacobson', 'original_name': 'Wendy Jacobson', 'popularity': 0.6, 'profile_path': None, 'credit_id': '5aac34b1c3a36846bd0046ce', 'department': 'Production', 'job': 'Executive Producer'}, {'adult': False, 'gender': 0, 'id': 1510431, 'known_for_department': 'Costume & Make-Up', 'name': 'Stefano De Nardis', 'original_name': 'Stefano De Nardis', 'popularity': 0.6, 'profile_path': None, 'credit_id': '617224f4d18b24006385322c', 'department': 'Costume & Make-Up', 'job': 'Costume Supervisor'}, {'adult': False, 'gender': 1, 'id': 1520695, 'known_for_department': 'Art', 'name': 'Andi Crumbley', 'original_name': 'Andi Crumbley', 'popularity': 0.6, 'profile_path': None, 'credit_id': '6115d74287f3f200755e0949', 'department': 'Art', 'job': 'Art Direction'}, {'adult': False, 'gender': 0, 'id': 1521454, 'known_for_department': 'Costume & Make-Up', 'name': 'Nancy Cummings', 'original_name': 'Nancy Cummings', 'popularity': 0.6, 'profile_path': None, 'credit_id': '617222a38ddc34006241eade', 'department': 'Costume & Make-Up', 'job': 'Makeup Artist'}, {'adult': False, 'gender': 0, 'id': 1536209, 'known_for_department': 'Visual Effects', 'name': 'Mathieu Raynault', 'original_name': 'Mathieu Raynault', 'popularity': 0.6, 'profile_path': None, 'credit_id': '617a26475294e7002a46ef2f', 'department': 'Visual Effects', 'job': 'Visual Effects Supervisor'}, {'adult': False, 'gender': 0, 'id': 1543203, 'known_for_department': 'Art', 'name': 'Rachel Block', 'original_name': 'Rachel Block', 'popularity': 0.6, 'profile_path': None, 'credit_id': '6115d71c151c5c007326735c', 'department': 'Art', 'job': 'Art Direction'}, {'adult': False, 'gender': 0, 'id': 1548474, 'known_for_department': 'Visual Effects', 'name': 'Rebecca West', 'original_name': 'Rebecca West', 'popularity': 0.67, 'profile_path': None, 'credit_id': '61722486d18b240063852ff3', 'department': 'Visual Effects', 'job': 'Visual Effects Producer'}, {'adult': False, 'gender': 0, 'id': 1556970, 'known_for_department': 'Art', 'name': 'Rory Bruen', 'original_name': 'Rory Bruen', 'popularity': 0.679, 'profile_path': None, 'credit_id': '6115d727151c5c00732673ac', 'department': 'Art', 'job': 'Supervising Art Director'}, {'adult': False, 'gender': 2, 'id': 1570986, 'known_for_department': 'Acting', 'name': 'Chris Hahn', 'original_name': 'Chris Hahn', 'popularity': 0.677, 'profile_path': '/yk1PyDpecsqybv9mepCYylKks0k.jpg', 'credit_id': '619346a4498bc200938c35f4', 'department': 'Crew', 'job': 'Stunts'}, {'adult': False, 'gender': 0, 'id': 1573037, 'known_for_department': 'Costume & Make-Up', 'name': 'Suzanna Boykin', 'original_name': 'Suzanna Boykin', 'popularity': 0.6, 'profile_path': None, 'credit_id': '617222848ddc34002d42e65e', 'department': 'Costume & Make-Up', 'job': 'Hairstylist'}, {'adult': False, 'gender': 0, 'id': 1576849, 'known_for_department': 'Sound', 'name': 'Dan Kenyon', 'original_name': 'Dan Kenyon', 'popularity': 0.84, 'profile_path': None, 'credit_id': '6115d7ccb686b900452bdc90', 'department': 'Sound', 'job': 'Sound Effects Editor'}, {'adult': False, 'gender': 1, 'id': 1605599, 'known_for_department': 'Visual Effects', 'name': 'Virginie Wintrebert', 'original_name': 'Virginie Wintrebert', 'popularity': 0.6, 'profile_path': None, 'credit_id': '617a2669e323f30045b734b3', 'department': 'Visual Effects', 'job': 'Visual Effects Producer'}, {'adult': False, 'gender': 2, 'id': 1650813, 'known_for_department': 'Art', 'name': 'Adam Squires', 'original_name': 'Adam Squires', 'popularity': 0.6, 'profile_path': None, 'credit_id': '6115d75cb686b9005dbf7dcb', 'department': 'Art', 'job': 'Art Direction'}, {'adult': False, 'gender': 0, 'id': 1713057, 'known_for_department': 'Crew', 'name': 'Hubert Maston', 'original_name': 'Hubert Maston', 'popularity': 0.84, 'profile_path': None, 'credit_id': '617a261ed388ae008aff3369', 'department': 'Visual Effects', 'job': 'Visual Effects Supervisor'}, {'adult': False, 'gender': 0, 'id': 1725772, 'known_for_department': 'Visual Effects', 'name': 'Tony Lupoi', 'original_name': 'Tony Lupoi', 'popularity': 0.6, 'profile_path': None, 'credit_id': '617224690d5d850065e569f3', 'department': 'Visual Effects', 'job': 'Visual Effects Supervisor'}, {'adult': False, 'gender': 0, 'id': 1740529, 'known_for_department': 'Crew', 'name': 'Sean Pollack', 'original_name': 'Sean Pollack', 'popularity': 0.694, 'profile_path': None, 'credit_id': '617a2637c14fee008cc4221a', 'department': 'Visual Effects', 'job': 'Visual Effects Supervisor'}, {'adult': False, 'gender': 2, 'id': 1779512, 'known_for_department': 'Acting', 'name': 'Jackson Spidell', 'original_name': 'Jackson Spidell', 'popularity': 1.564, 'profile_path': '/7cozKHcmO4MOOViAMqE4FXd0Bmf.jpg', 'credit_id': '5e8a9a76ffd44d00131a22d3', 'department': 'Crew', 'job': 'Fight Choreographer'}, {'adult': False, 'gender': 0, 'id': 1856158, 'known_for_department': 'Art', 'name': 'Sam Carter', 'original_name': 'Sam Carter', 'popularity': 0.6, 'profile_path': None, 'credit_id': '617223235c5cc80042099514', 'department': 'Art', 'job': 'Set Dresser'}, {'adult': False, 'gender': 0, 'id': 1856161, 'known_for_department': 'Art', 'name': 'Terry Hill', 'original_name': 'Terry Hill', 'popularity': 0.694, 'profile_path': None, 'credit_id': '617223625c5cc80065bc65e2', 'department': 'Art', 'job': 'Set Dresser'}, {'adult': False, 'gender': 0, 'id': 1894754, 'known_for_department': 'Costume & Make-Up', 'name': 'Stephanie Powers', 'original_name': 'Stephanie Powers', 'popularity': 0.6, 'profile_path': None, 'credit_id': '617a26c5eee186002c0ee18a', 'department': 'Costume & Make-Up', 'job': 'Set Costumer'}, {'adult': False, 'gender': 0, 'id': 1908585, 'known_for_department': 'Costume & Make-Up', 'name': 'Cassie Russek', 'original_name': 'Cassie Russek', 'popularity': 0.755, 'profile_path': None, 'credit_id': '617222eb156cc700421e979c', 'department': 'Costume & Make-Up', 'job': 'Key Hair Stylist'}, {'adult': False, 'gender': 0, 'id': 1918484, 'known_for_department': 'Visual Effects', 'name': 'Jacinthe Côté', 'original_name': 'Jacinthe Côté', 'popularity': 0.6, 'profile_path': None, 'credit_id': '617a25f6678259008fd62e39', 'department': 'Visual Effects', 'job': 'Visual Effects Producer'}, {'adult': False, 'gender': 0, 'id': 2007587, 'known_for_department': 'Costume & Make-Up', 'name': 'Leay Cangelosi', 'original_name': 'Leay Cangelosi', 'popularity': 0.6, 'profile_path': None, 'credit_id': '6172228d894ed600646bae2d', 'department': 'Costume & Make-Up', 'job': 'Hairstylist'}, {'adult': False, 'gender': 0, 'id': 2007614, 'known_for_department': 'Art', 'name': 'Maxfield Ladish', 'original_name': 'Maxfield Ladish', 'popularity': 0.6, 'profile_path': None, 'credit_id': '6172238dac4161006291d0fc', 'department': 'Art', 'job': 'Set Dresser'}, {'adult': False, 'gender': 0, 'id': 2026870, 'known_for_department': 'Production', 'name': 'Scott Sheldon', 'original_name': 'Scott Sheldon', 'popularity': 0.828, 'profile_path': None, 'credit_id': '617a270ff8595800435547a1', 'department': 'Production', 'job': 'Executive Producer'}, {'adult': False, 'gender': 1, 'id': 2028806, 'known_for_department': 'Art', 'name': 'Kristen Jenkins', 'original_name': 'Kristen Jenkins', 'popularity': 0.694, 'profile_path': None, 'credit_id': '6172237f176a940042b7bae1', 'department': 'Art', 'job': 'Set Designer'}, {'adult': False, 'gender': 0, 'id': 2031435, 'known_for_department': 'Costume & Make-Up', 'name': 'Jacqueline Noel', 'original_name': 'Jacqueline Noel', 'popularity': 0.6, 'profile_path': None, 'credit_id': '617222ca0d5d850043737077', 'department': 'Costume & Make-Up', 'job': 'Hairstylist'}, {'adult': False, 'gender': 0, 'id': 2060941, 'known_for_department': 'Art', 'name': 'Eitan Sonnenberg', 'original_name': 'Eitan Sonnenberg', 'popularity': 0.6, 'profile_path': None, 'credit_id': '617223c16d4c9700653b6082', 'department': 'Art', 'job': 'Set Dresser'}, {'adult': False, 'gender': 0, 'id': 2137390, 'known_for_department': 'Art', 'name': 'Britain Illingworth-Cramer', 'original_name': 'Britain Illingworth-Cramer', 'popularity': 0.6, 'profile_path': None, 'credit_id': '61722373bf09d1004462009b', 'department': 'Art', 'job': 'Set Designer'}, {'adult': False, 'gender': 0, 'id': 2781964, 'known_for_department': 'Art', 'name': 'Eric Sherlin', 'original_name': 'Eric Sherlin', 'popularity': 0.6, 'profile_path': None, 'credit_id': '617223b5c8f85800677741b3', 'department': 'Art', 'job': 'Set Dresser'}, {'adult': False, 'gender': 0, 'id': 2873565, 'known_for_department': 'Costume & Make-Up', 'name': 'Mark James Ross', 'original_name': 'Mark James Ross', 'popularity': 0.6, 'profile_path': None, 'credit_id': '617222dfdf86a8006674325b', 'department': 'Costume & Make-Up', 'job': 'Makeup Artist'}, {'adult': False, 'gender': 0, 'id': 2889535, 'known_for_department': 'Costume & Make-Up', 'name': 'Morgon Lindskog', 'original_name': 'Morgon Lindskog', 'popularity': 0.6, 'profile_path': None, 'credit_id': '617222be5294e7002a363b9f', 'department': 'Costume & Make-Up', 'job': 'Makeup Artist'}, {'adult': False, 'gender': 0, 'id': 2969737, 'known_for_department': 'Art', 'name': 'Ashley Fidalgo Fogleman', 'original_name': 'Ashley Fidalgo Fogleman', 'popularity': 0.6, 'profile_path': None, 'credit_id': '6172233f5c5cc8004209954b', 'department': 'Art', 'job': 'Set Designer'}, {'adult': False, 'gender': 0, 'id': 2973669, 'known_for_department': 'Costume & Make-Up', 'name': 'Matt Sprunger', 'original_name': 'Matt Sprunger', 'popularity': 0.6, 'profile_path': None, 'credit_id': '617222f8156cc7008630daeb', 'department': 'Costume & Make-Up', 'job': 'Makeup Artist'}, {'adult': False, 'gender': 0, 'id': 3129120, 'known_for_department': 'Art', 'name': 'Chris McGlamery', 'original_name': 'Chris McGlamery', 'popularity': 0.6, 'profile_path': None, 'credit_id': '617223a4cadb6b0062d32c45', 'department': 'Art', 'job': 'Set Dresser'}, {'adult': False, 'gender': 0, 'id': 3162820, 'known_for_department': 'Costume & Make-Up', 'name': 'Heather Benson', 'original_name': 'Heather Benson', 'popularity': 0.6, 'profile_path': None, 'credit_id': '6172227a156cc7005e76276c', 'department': 'Costume & Make-Up', 'job': 'Makeup Artist'}, {'adult': False, 'gender': 0, 'id': 3165994, 'known_for_department': 'Costume & Make-Up', 'name': 'Jessica Craig', 'original_name': 'Jessica Craig', 'popularity': 0.6, 'profile_path': None, 'credit_id': '61722298df86a800436bbc77', 'department': 'Costume & Make-Up', 'job': 'Makeup Artist'}, {'adult': False, 'gender': 0, 'id': 3279951, 'known_for_department': 'Costume & Make-Up', 'name': 'Haile Werntz', 'original_name': 'Haile Werntz', 'popularity': 0.6, 'profile_path': None, 'credit_id': '61722302bf09d1002d805929', 'department': 'Costume & Make-Up', 'job': 'Makeup Artist'}, {'adult': False, 'gender': 0, 'id': 3287415, 'known_for_department': 'Costume & Make-Up', 'name': 'Tiuana Bell', 'original_name': 'Tiuana Bell', 'popularity': 0.6, 'profile_path': None, 'credit_id': '617a26845294e7002a46f020', 'department': 'Costume & Make-Up', 'job': 'Costumer'}, {'adult': False, 'gender': 0, 'id': 3287416, 'known_for_department': 'Costume & Make-Up', 'name': 'Whit Cornwall', 'original_name': 'Whit Cornwall', 'popularity': 0.6, 'profile_path': None, 'credit_id': '617a2690d236e60043384cf2', 'department': 'Costume & Make-Up', 'job': 'Costumer'}, {'adult': False, 'gender': 0, 'id': 3287417, 'known_for_department': 'Costume & Make-Up', 'name': 'Enrica Iacoboni', 'original_name': 'Enrica Iacoboni', 'popularity': 0.6, 'profile_path': None, 'credit_id': '617a26afbb070d006200ebc9', 'department': 'Costume & Make-Up', 'job': 'Set Costumer'}]}, 'translations': {'translations': [{'iso_3166_1': 'AE', 'iso_639_1': 'ar', 'name': 'العربية', 'english_name': 'Arabic', 'data': {'homepage': 'https://www.netflix.com/iq/title/81161626?preventIntent=true', 'overview': 'يلاحق محلّل فيدرالي أكثر لصوص الأعمال الفنّية المطلوبين في العالم، فيصبح شريكه في الجريمة على مضض ليمسك بمحتالة مراوغة تسبقهما دائمًا بخطوة.', 'runtime': 0, 'tagline': 'مزايا و عيوب', 'title': 'النشرة الحمراء'}}, {'iso_3166_1': 'SA', 'iso_639_1': 'ar', 'name': 'العربية', 'english_name': 'Arabic', 'data': {'homepage': '', 'overview': 'النشرة الحمراء\\r يلاحق محلّل فيدرالي أكثر لصوص الأعمال الفنّية المطلوبين في العالم، فيصبح شريكه في الجريمة على مضض ليمسك بمحتالة مراوغة تسبقهما دائمًا بخطوة', 'runtime': 0, 'tagline': '', 'title': 'النشرة الحمراء'}}, {'iso_3166_1': 'BG', 'iso_639_1': 'bg', 'name': 'български език', 'english_name': 'Bulgarian', 'data': {'homepage': '', 'overview': 'Филмът разказва за преследването на най-търсения крадец на произведения на изкуството в целия свят.', 'runtime': 0, 'tagline': '', 'title': 'Червена бюлетина'}}, {'iso_3166_1': 'CZ', 'iso_639_1': 'cs', 'name': 'Český', 'english_name': 'Czech', 'data': {'homepage': '', 'overview': 'Odvážná loupež svede dohromady nejlepšího experta FBI na chování zločinců a dva znepřátelené gangstery. Tady půjde do tuhého.', 'runtime': 0, 'tagline': '', 'title': ''}}, {'iso_3166_1': 'DK', 'iso_639_1': 'da', 'name': 'Dansk', 'english_name': 'Danish', 'data': {'homepage': '', 'overview': \"En Interpol-udstedt Red Notice er en global alarm til at jage og fange verdens mest eftersøgte. Men når et dristig røveri samler FBI's topprofiler og to rivaliserende kriminelle, er der ingen at sige, hvad der vil ske.\", 'runtime': 0, 'tagline': '', 'title': ''}}, {'iso_3166_1': 'DE', 'iso_639_1': 'de', 'name': 'Deutsch', 'english_name': 'German', 'data': {'homepage': 'https://www.rednoticemovie.com/', 'overview': 'Stilvoll zu rauben, ist eine Kunst! Den Täter zu fangen, ein wahres Meisterwerk. Besonders, wenn die gesuchte Diebin (Gal Gadot) eine der berüchtigtsten Kunsträuberinnen der Welt ist. Für den FBI-Profiler und Agenten John Hartley (Dwayne Johnson) eine große Herausforderung, die ihm bei seinem Ehrgeiz packt. Allerdings muss er feststellen, dass er gegen die clevere Kriminelle allein keine Chance hat. Hilfe holt er sich von dem Profi Nolan Booth (Ryan Reynolds), der genau weiß, wie das Spiel mit dem Raub und Betrügen funktioniert. Zusammen wollen sie die Diebin auf frischer Tat ertappen, doch die Jagd scheint jedes Mal aufs Neue ins Leere zu laufen. Kann John seinem unfreiwilligen Partner vertrauen oder spielt der Trickbetrüger ein falsches Spiel mit dem FBI-Agenten? Tatsache ist, dass der nächste Schritt auf dieser Mission mit Bedacht und Vorsicht gesetzt werden sollte.', 'runtime': 0, 'tagline': 'Professionell und betrügerisch', 'title': 'Red Notice'}}, {'iso_3166_1': 'GR', 'iso_639_1': 'el', 'name': 'ελληνικά', 'english_name': 'Greek', 'data': {'homepage': '', 'overview': 'Ένας αναλυτής του FBI καταδιώκει τον πιο περιζήτητο ληστή έργων τέχνης, αλλά γίνεται άθελά του συνεργός του στο κυνήγι μιας απατεώνισσας που είναι πάντα ένα βήμα μπροστά.', 'runtime': 0, 'tagline': '', 'title': ''}}, {'iso_3166_1': 'US', 'iso_639_1': 'en', 'name': 'English', 'english_name': 'English', 'data': {'homepage': 'https://www.netflix.com/us/title/81161626', 'overview': \"An Interpol-issued Red Notice is a global alert to hunt and capture the world's most wanted. But when a daring heist brings together the FBI's top profiler and two rival criminals, there's no telling what will happen.\", 'runtime': 116, 'tagline': 'Pro and cons.', 'title': ''}}, {'iso_3166_1': 'ES', 'iso_639_1': 'es', 'name': 'Español', 'english_name': 'Spanish', 'data': {'homepage': 'https://www.netflix.com/title/81161626', 'overview': 'Cuando la Interpol envía una \"Alerta roja\", significa que los departamentos de Policía de todo el mundo deben estar alerta para capturar a los criminales más buscados. Todas las alarmas saltan cuando un temerario robo une al mejor agente del FBI (Johnson) con dos criminales rivales entre sí (Gadot & Reynolds). Una coincidencia que hará que suceda lo impredecible.', 'runtime': 115, 'tagline': 'Estrellas de la estafa.', 'title': 'Alerta roja'}}, {'iso_3166_1': 'MX', 'iso_639_1': 'es', 'name': 'Español', 'english_name': 'Spanish', 'data': {'homepage': '', 'overview': 'Un agente de la Interpol, la Organización Internacional de Policía Criminal, tiene como misión encontrar y capturar al ladrón de piezas de arte más buscado del mundo.', 'runtime': 0, 'tagline': 'Pros y Contras', 'title': 'Alerta roja'}}, {'iso_3166_1': 'FI', 'iso_639_1': 'fi', 'name': 'suomi', 'english_name': 'Finnish', 'data': {'homepage': '', 'overview': 'FBI-agentti John Hartley astuu Interpolin hiekkalaatikolle jahdatessaan kuuluisaa taidevarasta, Nolan Boothia. Hän nimittäin epäilee, että Boothin tähtäimessä on ryövätä kallisarvoiset Kleopatran munat, joita on kaikkiaan kolme, mutta joista kolmas on kateissa. Hartleyn onnistuu napata Booth, ja sattumusten kautta he päätyvät tekemään yhteistyötä napatakseen toisen kuuluisan, arvokkaiden munien perässä olevan taidevarkaan, Bishopin.', 'runtime': 0, 'tagline': '', 'title': ''}}, {'iso_3166_1': 'CA', 'iso_639_1': 'fr', 'name': 'Français', 'english_name': 'French', 'data': {'homepage': 'https://www.netflix.com/title/81161626', 'overview': \"Cet expert du FBI traque le voleur d'œuvres d'art le plus recherché au monde, mais il devra s'associer à ce dernier pour déjouer une menace insaisissable et ingénieuse.\", 'runtime': 0, 'tagline': '', 'title': 'Notice Rouge'}}, {'iso_3166_1': 'FR', 'iso_639_1': 'fr', 'name': 'Français', 'english_name': 'French', 'data': {'homepage': 'https://www.netflix.com/title/81161626', 'overview': \"Un agent du FBI est forcé de faire équipe avec le voleur d'art le plus recherché de la planète pour coincer une insaisissable criminelle qui a toujours un coup d'avance.\", 'runtime': 116, 'tagline': 'Un expert, des escrocs.', 'title': ''}}, {'iso_3166_1': 'IL', 'iso_639_1': 'he', 'name': 'עִבְרִית', 'english_name': 'Hebrew', 'data': {'homepage': '', 'overview': '\\u200fפרופילאי של ה-FBI שמנסה ללכוד את גנב האומנות המבוקש ביותר בעולם נאלץ לחבור אליו בניסיון לתפוס נוכלת חמקמקה וערמומית שנמצאת תמיד צעד אחד לפניו.', 'runtime': 0, 'tagline': 'הטוב, הרע והנערה', 'title': '\\u200fהודעה אדומה'}}, {'iso_3166_1': 'HR', 'iso_639_1': 'hr', 'name': 'Hrvatski', 'english_name': 'Croatian', 'data': {'homepage': '', 'overview': 'Kad odvažna pljačka poveže FBI-jeva najboljeg stručnjaka za profiliranje (Dwayne Johnson) i dvoje suparničkih kriminalaca (Gal Gadot i Ryan Reynolds), sve je moguće.', 'runtime': 0, 'tagline': '', 'title': 'Crvena tjeralica'}}, {'iso_3166_1': 'HU', 'iso_639_1': 'hu', 'name': 'Magyar', 'english_name': 'Hungarian', 'data': {'homepage': 'https://www.netflix.com/title/81161626', 'overview': 'John Hartley az FBI egyik legprofibb ügynöke, kézre keríti a világ második leghírhedtebb műkincstolvaját, Nolan Booth-t. A világ leghírhedtebb műkincstolvaja, Sarah Black azonban beleköp mindkettejük levesébe. Hartley-nak és Booth-nak ezért össze kell fogniuk, bár kezdetben mindketten ódzkodnak a csapatmunkától, viszont az ügynök mindenképpen tisztára akarja mosni a nevét, a szélhámos pedig ismét a világ első számú tolvaja szeretne lenni. Sarah azonban mindig egy lépéssel a két férfi előtt jár, és ahol csak tud, keresztbe tesz nekik a kontinenseken átívelő hajsza során, melynek célja az, hogy megkaparintsák Kleopátra harmadik aranytojását.', 'runtime': 0, 'tagline': 'A profi és a szélhámosok.', 'title': 'Különösen veszélyes bűnözők'}}, {'iso_3166_1': 'ID', 'iso_639_1': 'id', 'name': 'Bahasa indonesia', 'english_name': 'Indonesian', 'data': {'homepage': '', 'overview': 'Demi menangkap penjahat licin yang selalu selangkah di depan, penganalisis FBI terpaksa bersekutu dengan pencuri karya seni paling dicari yang selama ini dikejarnya.', 'runtime': 115, 'tagline': '', 'title': ''}}, {'iso_3166_1': 'IT', 'iso_639_1': 'it', 'name': 'Italiano', 'english_name': 'Italian', 'data': {'homepage': '', 'overview': 'Red Notice è il codice che l\\'Interpol assegna ai criminali più ricercati al mondo. In seguito a un\\'audace rapina, il miglior profiler dell\\'FBI, John Hartley, si ritrova a lavorare in coppia con il più prolifico ladro d\\'arte al mondo, Nolan Booth, per catturare la migliore e più sfuggente criminale del mondo, soprannominata \"L\\'Alfiere\".', 'runtime': 0, 'tagline': '', 'title': ''}}, {'iso_3166_1': 'JP', 'iso_639_1': 'ja', 'name': '日本語', 'english_name': 'Japanese', 'data': {'homepage': '', 'overview': '最重要指名手配犯である美術品泥棒とFBIプロファイラー。敵対する2人が、出し抜かれてばかりの共通の宿敵を捕まえるために、仕方なく手を組むことに。', 'runtime': 0, 'tagline': '', 'title': 'レッド・ノーティス'}}, {'iso_3166_1': 'KR', 'iso_639_1': 'ko', 'name': '한국어/조선말', 'english_name': 'Korean', 'data': {'homepage': '', 'overview': '인터폴이 중범죄 피의자를 대상으로 내리는 전 세계적 경보인 레드 노티스. 세계 곳곳에서 지명 수배범을 추적하고 체포하는 것이 그 목적이다. 어느 날 초유의 도난 사건이 발생하고, 그로 인해 FBI 최고의 프로파일러(드웨인 존슨)가 라이벌 관계의 두 범죄자(갤 가돗, 라이언 레이놀즈)와 만나면서 모든 게 엇나가기 시작한다. 늘 한발 앞서 도망치는 사기꾼을 잡기 위해 그들은 어쩔 수 없이 싫어도 이를 악물고 힘을 합쳐야 한다. 이제 무슨 일이 일어날지 그 누구도 장담할 수 없다.', 'runtime': 0, 'tagline': '누가 최고의 도둑일까', 'title': '레드 노티스'}}, {'iso_3166_1': 'LT', 'iso_639_1': 'lt', 'name': 'Lietuvių', 'english_name': 'Lithuanian', 'data': {'homepage': '', 'overview': 'Interpolo agentas seka pasaulyje labiausiai ieškomą meno dirbinių vagilę. Kai Interpolas išduoda Raudonąjį pranešimą, aukščiausio lygio orderį ją sumedžioti ir sulaikyti, FTB geriausias profiliuotojas Džonas Hartlis imasi bylos. Jo pasaulinė paieška palieka jį vidury pavojingo apiplėšimo, kurio metu jis priverstas bendradarbiauti su geriausiu meno dirbinių vagiu, Nolanu Būtu, kad sulaikytų vagilę pravarde „Vyskupas“. Didelių siekių nuotykis verčia trijulę apkeliauti pasaulį per šokių aikštelę, atskirtą kalėjimą, džiungles su, jų nelaimei, vienas kito kompanija.', 'runtime': 0, 'tagline': '', 'title': 'Raudonasis pranešimas'}}, {'iso_3166_1': 'LV', 'iso_639_1': 'lv', 'name': 'Latviešu', 'english_name': 'Latvian', 'data': {'homepage': '', 'overview': '', 'runtime': 0, 'tagline': '', 'title': 'Sarkanais brīdinājums'}}, {'iso_3166_1': 'NL', 'iso_639_1': 'nl', 'name': 'Nederlands', 'english_name': 'Dutch', 'data': {'homepage': '', 'overview': 'Een Interpol-agent krijgt de taak de meest gezochte kunstdief ter wereld op te sporen. Tijdens zijn zoektocht naar de vrouwelijke crimineel kruist zijn pad dat van een beruchte zwendelaar. Noodgedwongen slaan ze de handen in elkaar.', 'runtime': 0, 'tagline': '', 'title': ''}}, {'iso_3166_1': 'PL', 'iso_639_1': 'pl', 'name': 'Polski', 'english_name': 'Polish', 'data': {'homepage': '', 'overview': 'Gdy Interpol wystawia czerwoną notę - globalny list gończy za najbardziej poszukiwanymi przestępcami na świecie - do akcji wkracza najlepszy behawiorysta z FBI John Hartley. W czasie pościgu przypadkiem trafia w sam środek brawurowego skoku. Aby złapać najgroźniejszego złodzieja dzieł sztuki na świecie znanego jako \"The Bishop\", musi współpracować z jego rywalem Nolanem Boothem. Szalona przygoda rzuci to - ku niezadowoleniu niektórych - nierozłączne trio w najdalsze zakątki świata, na parkiet taneczny, do więzienia i do dżungli. \"Czerwona nota\" to stylowa, brawurowa gra w kotka i myszkę (i kotka).', 'runtime': 0, 'tagline': '', 'title': 'Czerwona nota'}}, {'iso_3166_1': 'BR', 'iso_639_1': 'pt', 'name': 'Português', 'english_name': 'Portuguese', 'data': {'homepage': '', 'overview': 'No mundo do crime internacional, a INTERPOL lança um Alerta Vermelho, o que inicia uma caçada para capturar a mais notória ladra de artes do globo.', 'runtime': 108, 'tagline': 'Roubar é uma arte.', 'title': 'Alerta Vermelho'}}, {'iso_3166_1': 'PT', 'iso_639_1': 'pt', 'name': 'Português', 'english_name': 'Portuguese', 'data': {'homepage': 'https://www.netflix.com/pt/title/81161626', 'overview': 'Um analista comportamental do FBI acaba por unir esforços com o ladrão de arte mais procurado do mundo para apanhar uma criminosa que parece estar sempre em vantagem.', 'runtime': 118, 'tagline': 'Roubar é uma arte.', 'title': 'Aviso Vermelho'}}, {'iso_3166_1': 'RO', 'iso_639_1': 'ro', 'name': 'Română', 'english_name': 'Romanian', 'data': {'homepage': '', 'overview': 'Un expert în profilare al FBI-ului devine vrând-nevrând partenerul celui mai mare hoț de opere de artă pentru a prinde o infractoare ce îi scapă mereu printre degete.', 'runtime': 117, 'tagline': '', 'title': ''}}, {'iso_3166_1': 'RU', 'iso_639_1': 'ru', 'name': 'Pусский', 'english_name': 'Russian', 'data': {'homepage': 'https://www.netflix.com/ru/title/81161626', 'overview': 'Действие фильма начинает своё развитие в тот момент, когда подходит к своему завершению выпущенное Интерполом «Красное уведомление». Оно предполагает высший ордер, требующий активизировать охоту и поимку самых разыскиваемых в мире людей.  В центре истории оказывается опытный сотрудник ФБР по имени Джон Хартли. За свою карьеру он провёл немало задержаний. И в этот раз ему кажется, что всё пройдёт гладко. Но Хартли ошибается.', 'runtime': 115, 'tagline': '\"За и против\"', 'title': 'Красное уведомление'}}, {'iso_3166_1': 'SK', 'iso_639_1': 'sk', 'name': 'Slovenčina', 'english_name': 'Slovak', 'data': {'homepage': '', 'overview': '', 'runtime': 0, 'tagline': '', 'title': 'Červený oznam'}}, {'iso_3166_1': 'RS', 'iso_639_1': 'sr', 'name': 'Srpski', 'english_name': 'Serbian', 'data': {'homepage': '', 'overview': 'Интерпол је објавио „црвену потерницу“ за лов и хватање највећег крадљивца уметничких дела. Међутим, када случај велике пљачке повеже врхунског ФБИ профајлера и два криминалца-ривала, десиће се незамисливе ствари...', 'runtime': 0, 'tagline': '', 'title': 'Црвена потерница'}}, {'iso_3166_1': 'SE', 'iso_639_1': 'sv', 'name': 'svenska', 'english_name': 'Swedish', 'data': {'homepage': '', 'overview': 'En FBI-agent tvingas samarbeta med världens mest efterspanade konsttjuv för att fånga en brottsling som alltid ligger steget före.', 'runtime': 0, 'tagline': '', 'title': ''}}, {'iso_3166_1': 'TH', 'iso_639_1': 'th', 'name': 'ภาษาไทย', 'english_name': 'Thai', 'data': {'homepage': '', 'overview': '', 'runtime': 0, 'tagline': '', 'title': 'หมายแดง'}}, {'iso_3166_1': 'TR', 'iso_639_1': 'tr', 'name': 'Türkçe', 'english_name': 'Turkish', 'data': {'homepage': '', 'overview': 'Dünyanın en çok aranan sanat eseri hırsızı ve onun peşindeki FBI profil uzmanı, daima bir adım önde olan kurnaz bir soyguncuyu yakalamak için gönülsüzce suç ortağı olur.', 'runtime': 117, 'tagline': 'Artıları ve eksileri.', 'title': ''}}, {'iso_3166_1': 'UA', 'iso_639_1': 'uk', 'name': 'Український', 'english_name': 'Ukrainian', 'data': {'homepage': '', 'overview': 'Переслідуючи найвідомішого злодія у світі мистецтва, профайлер ФБР змушений стати його спільником, щоб схопити невловну шахрайку, яка завжди на крок попереду.', 'runtime': 117, 'tagline': '', 'title': 'Червоне повідомлення'}}, {'iso_3166_1': 'VN', 'iso_639_1': 'vi', 'name': 'Tiếng Việt', 'english_name': 'Vietnamese', 'data': {'homepage': '', 'overview': 'Chuyên gia FBI đang tìm bắt kẻ trộm tranh bị truy nã gắt gao nhất thế giới thì trở thành cộng sự bất đắc dĩ của hắn để tóm tên tội phạm luôn đi trước họ một bước.', 'runtime': 0, 'tagline': '', 'title': 'Lệnh Truy Nã Đỏ'}}, {'iso_3166_1': 'CN', 'iso_639_1': 'zh', 'name': '普通话', 'english_name': 'Mandarin', 'data': {'homepage': 'https://www.netflix.com/title/81161626', 'overview': '一名联邦调查局侧写员奉命追踪世界头号艺术品窃贼，殊不知窃贼却变为了他的同伴。不情不愿的他要与之联手逮捕一个总是领先一步且神出鬼没的诈骗犯。', 'runtime': 0, 'tagline': '', 'title': '红色通缉令'}}, {'iso_3166_1': 'HK', 'iso_639_1': 'zh', 'name': '普通话', 'english_name': 'Mandarin', 'data': {'homepage': '', 'overview': '劇情講述紅色通緝令是由國際刑警組織發佈、象徵全球範圍的最高通緝。但當一場大膽的劫案將組織的菁英探員和兩名敵對的罪犯湊在一塊時，一切無從談起。', 'runtime': 0, 'tagline': '', 'title': '紅色通緝令'}}, {'iso_3166_1': 'TW', 'iso_639_1': 'zh', 'name': '普通话', 'english_name': 'Mandarin', 'data': {'homepage': '', 'overview': '一名負責緝捕全球頭號要犯的聯邦調查局犯罪側寫員，竟被迫成了這位藝術品大盜的搭檔。兩人必須聯手逮到一位難以捉摸、老是捷足先登的壞蛋。', 'runtime': 1, 'tagline': '', 'title': '紅色通緝令'}}]}, 'keywords': {'keywords': [{'id': 1812, 'name': 'fbi'}, {'id': 6710, 'name': 'interpol'}, {'id': 10051, 'name': 'heist'}, {'id': 14789, 'name': 'art thief'}]}, 'release_dates': {'results': [{'iso_3166_1': 'GB', 'release_dates': [{'certification': '12A', 'iso_639_1': '', 'note': '', 'release_date': '2021-11-05T00:00:00.000Z', 'type': 2}, {'certification': '12', 'iso_639_1': '', 'note': 'Netflix', 'release_date': '2021-11-12T00:00:00.000Z', 'type': 4}]}, {'iso_3166_1': 'BR', 'release_dates': [{'certification': '12', 'iso_639_1': '', 'note': 'Netflix', 'release_date': '2021-11-12T00:00:00.000Z', 'type': 4}]}, {'iso_3166_1': 'PT', 'release_dates': [{'certification': 'M/14', 'iso_639_1': '', 'note': 'Netflix', 'release_date': '2021-11-12T00:00:00.000Z', 'type': 4}]}, {'iso_3166_1': 'CA', 'release_dates': [{'certification': '', 'iso_639_1': '', 'note': '', 'release_date': '2021-11-05T00:00:00.000Z', 'type': 3}, {'certification': '', 'iso_639_1': '', 'note': 'Netflix', 'release_date': '2021-11-12T00:00:00.000Z', 'type': 4}]}, {'iso_3166_1': 'FR', 'release_dates': [{'certification': '12', 'iso_639_1': '', 'note': 'Netflix', 'release_date': '2021-11-12T00:00:00.000Z', 'type': 4}]}, {'iso_3166_1': 'DE', 'release_dates': [{'certification': '12', 'iso_639_1': '', 'note': 'Netflix', 'release_date': '2021-11-12T00:00:00.000Z', 'type': 4}]}, {'iso_3166_1': 'UA', 'release_dates': [{'certification': '', 'iso_639_1': '', 'note': 'Netflix', 'release_date': '2021-11-12T00:00:00.000Z', 'type': 4}]}, {'iso_3166_1': 'US', 'release_dates': [{'certification': 'PG-13', 'iso_639_1': '', 'note': '', 'release_date': '2021-11-05T00:00:00.000Z', 'type': 3}, {'certification': 'PG-13', 'iso_639_1': '', 'note': 'Netflix', 'release_date': '2021-11-12T00:00:00.000Z', 'type': 4}]}, {'iso_3166_1': 'IT', 'release_dates': [{'certification': '', 'iso_639_1': 'it', 'note': '', 'release_date': '2021-11-12T00:00:00.000Z', 'type': 4}]}, {'iso_3166_1': 'NL', 'release_dates': [{'certification': '12', 'iso_639_1': '', 'note': 'Netflix', 'release_date': '2021-11-12T00:00:00.000Z', 'type': 4}]}, {'iso_3166_1': 'SG', 'release_dates': [{'certification': 'NC16', 'iso_639_1': '', 'note': 'Netflix', 'release_date': '2021-11-12T00:00:00.000Z', 'type': 4}]}, {'iso_3166_1': 'AU', 'release_dates': [{'certification': 'M', 'iso_639_1': '', 'note': '', 'release_date': '2021-11-04T00:00:00.000Z', 'type': 3}, {'certification': 'M', 'iso_639_1': '', 'note': '', 'release_date': '2021-11-12T00:00:00.000Z', 'type': 4}]}, {'iso_3166_1': 'IE', 'release_dates': [{'certification': '12A', 'iso_639_1': '', 'note': 'Netflix', 'release_date': '2021-11-12T00:00:00.000Z', 'type': 4}]}, {'iso_3166_1': 'ES', 'release_dates': [{'certification': '12', 'iso_639_1': 'es', 'note': 'Netflix', 'release_date': '2021-11-12T00:00:00.000Z', 'type': 4}]}]}}"
      ]
     },
     "execution_count": 11,
     "metadata": {},
     "output_type": "execute_result"
    }
   ],
   "source": [
    "detail = movie.details(512195)\n",
    "detail"
   ]
  },
  {
   "cell_type": "code",
   "execution_count": 4,
   "id": "5e6f9ee7",
   "metadata": {},
   "outputs": [
    {
     "data": {
      "text/plain": [
       "[{'author': 'markavrelii', 'author_details': {'name': '', 'username': 'markavrelii', 'avatar_path': '/mJ3eKjQwDO6ENhdOhHDM8Gpk51s.png', 'rating': 3.0}, 'content': \"i realize that this movie was not set to be a cinematographic masterpiece, but this is way too primitive of a plot, actor's performance, and overall impression.\", 'created_at': '2021-11-15T18:15:21.555Z', 'id': '6192a3b9dbf1440092832291', 'updated_at': '2021-12-03T21:50:12.618Z', 'url': 'https://www.themoviedb.org/review/6192a3b9dbf1440092832291'},\n",
       " {'author': 'UK Film Review', 'author_details': {'name': 'UK Film Review', 'username': 'UKFilmReview', 'avatar_path': '/v1dVe4Xho3N1f2dRAHhnPPplxDH.jpg', 'rating': 4.0}, 'content': 'Heist Movie? Gal Gadot? I’m in.\\r\\n\\r\\nPlus Dwayne Johnson and Ryan Reynolds.\\r\\n\\r\\nI said I’m in! Sounds like a bunch of fun.\\r\\n\\r\\nBut somehow, it’s just not.\\r\\n\\r\\nJohnson is FBI agent John Hartley, and he’s on the trail of Nolan Booth (Reynolds), the 2nd most wanted art thief in the world.\\r\\n\\r\\nWho’s number 1? That would be The Bishop (Gadot), a mysterious criminal who always seems one step ahead of Booth in the quest to reunite three priceless jeweled eggs that Marc Antony once gave to Cleopatra. Yes, Cleopatra.\\r\\n\\r\\nAfter a snappy, parkour-heavy chase to open the film, Hartley offers Booth the chance to move up to the top spot on Interpol’s Red Notice (highest level arrest warrant) list. All he has to do is help Hartley and the Feds nab The Bishop.\\r\\n\\r\\nAnd the game is on!\\r\\n\\r\\nRead the full review on our website. https://www.ukfilmreview.co.uk/reviews/red-notice', 'created_at': '2021-11-23T16:28:53.825Z', 'id': '619d16c569d28000298f8b68', 'updated_at': '2021-12-03T21:56:34.308Z', 'url': 'https://www.themoviedb.org/review/619d16c569d28000298f8b68'}]"
      ]
     },
     "execution_count": 4,
     "metadata": {},
     "output_type": "execute_result"
    }
   ],
   "source": [
    "reviews = movie.reviews(512195)\n",
    "reviews"
   ]
  },
  {
   "cell_type": "code",
   "execution_count": 5,
   "id": "03666112",
   "metadata": {},
   "outputs": [],
   "source": [
    "from imdb import IMDb"
   ]
  },
  {
   "cell_type": "code",
   "execution_count": 6,
   "id": "b2456a65",
   "metadata": {},
   "outputs": [
    {
     "data": {
      "text/plain": [
       "[<Movie id:7991608[http] title:_Red Notice (2021)_>,\n",
       " <Movie id:2011746[http] title:_\"Red Notice\" (2011)_>,\n",
       " <Movie id:15944472[http] title:_\"Burning Questions\" Red Notice (2021)_>,\n",
       " <Movie id:16088512[http] title:_Red Notice: Bach Ke Rehna (2021)_>,\n",
       " <Movie id:7555608[http] title:_\"48 Hours\" Red Notice for Murder (2017)_>,\n",
       " <Movie id:16234514[http] title:_\"Screen Rant Pitch Meetings\" Red Notice (2021)_>,\n",
       " <Movie id:4479380[http] title:_SAS: Red Notice (2021)_>,\n",
       " <Movie id:13248590[http] title:_Burn, Noticed Noticed (2019)_>,\n",
       " <Movie id:14228218[http] title:_\"Made in Hollywood\" Trust/Son/SAS: Red Notice (2021)_>,\n",
       " <Movie id:16301272[http] title:_Aline, Eastwood, Red Notice & Pandora (2021) (Podcast Episode)  - Season 1 | Episode 81  - Pardon le cinéma (2020)_>,\n",
       " <Movie id:13249260[http] title:_Burn, Noticed ft. Burn, Noticed Noticed (2020) (Podcast Episode)  - Season 2 | Episode 1  - Burn, Noticed Noticed (2019)_>,\n",
       " <Movie id:0152058[http] title:_Station Master (1941)_>,\n",
       " <Movie id:7181606[http] title:_\"Trops\" Notice Me Wednesday (2017)_>,\n",
       " <Movie id:4704016[http] title:_Grigi: Jednom shvatices (2015)_>,\n",
       " <Movie id:1732672[http] title:_La montre dénonciatrice (1908)_>,\n",
       " <Movie id:16377268[http] title:_\"Pop Culture Crisis\" Netflix's New Movie RED NOTICE Becomes Their MOST WATCHED MOVIE! (2021)_>,\n",
       " <Movie id:8056164[http] title:_How the Moon Fell from the Sky and No One Even Noticed (2018)_>,\n",
       " <Movie id:5851892[http] title:_\"What's Happening\" Red Nose Day - Seat Filler Tickets (2016)_>,\n",
       " <Movie id:9346754[http] title:_Tour Edge Golf: Exotics (2012) (V)_>,\n",
       " <Movie id:15825242[http] title:_\"Fox News: Clips\" Tucker: You're Being Instructed Not to Notice This (2021)_>]"
      ]
     },
     "execution_count": 6,
     "metadata": {},
     "output_type": "execute_result"
    }
   ],
   "source": [
    "ia = IMDb()\n",
    "movies = ia.search_movie('red notice')\n",
    "movies"
   ]
  },
  {
   "cell_type": "code",
   "execution_count": 7,
   "id": "669cc2a8",
   "metadata": {},
   "outputs": [
    {
     "data": {
      "text/plain": [
       "'7991608'"
      ]
     },
     "execution_count": 7,
     "metadata": {},
     "output_type": "execute_result"
    }
   ],
   "source": [
    "movies[0].movieID"
   ]
  },
  {
   "cell_type": "code",
   "execution_count": 8,
   "id": "cf6060ef",
   "metadata": {},
   "outputs": [],
   "source": [
    "rn = ia.get_movie('7991608', ['reviews'])"
   ]
  },
  {
   "cell_type": "code",
   "execution_count": 9,
   "id": "e720ad30",
   "metadata": {},
   "outputs": [
    {
     "data": {
      "text/plain": [
       "['reviews']"
      ]
     },
     "execution_count": 9,
     "metadata": {},
     "output_type": "execute_result"
    }
   ],
   "source": [
    "rn.current_info"
   ]
  },
  {
   "cell_type": "code",
   "execution_count": 10,
   "id": "bc15251c",
   "metadata": {},
   "outputs": [
    {
     "data": {
      "text/plain": [
       "[{'content': \"Mark Antony gave Cleopatra three bejeweled eggs as a wedding gift. One of them has been lost to history. FBI agent John Hartley (Dwayne Johnson) is working with Interpol to catch jewel thieves trying to steal all the eggs. He catches Nolan Booth (Ryan Reynolds) but a tip from the mysterious Bishop (Gal Gadot) has Hartley entangled with the crime.This film costs Netflix $200 million. Maybe it's worthwhile for its streaming purposes. For me, it's not worthwhile for its cinematic purposes. There is no doubt that this has plenty of star power. On its face, this trio should make a fun slick action comedy but it struggles to build chemistry. Right from the start, there is something unreal about this more than its ridiculous superhero action structure. There is something wrong with the character Hartley being imprisoned by the Russians. It doesn't make sense. It may not matter to some but it's hella annoying to me. I started to expect The Rock to turn. In fact, I suspected a full heel turn during the fight in the gunrunner's vault. Even after the turn, this movie still doesn't make sense. Again, most people could not care less but it is very annoying to me.The bigger issue may be a need for better chemistry between Ryan Reynolds and The Rock. It should be the easiest thing in the world but Hartley's character is hounded by my suspicions. That prevents the chemistry to truly take hold. I'd rather they do it straight like 48 Hrs. I would also put Gal Gadot into the Inspector Urvashi Das role. I make The Bishop as the ubervillain and the trio can team up to take him down. This one feels very desperate to be slick fun rather than actually being that. I'm guessing that they expect to do more of these movies but I don't see how.\",\n",
       "  'helpful': 0,\n",
       "  'title': '',\n",
       "  'author': 'ur2898520',\n",
       "  'date': '17 November 2021',\n",
       "  'rating': None,\n",
       "  'not_helpful': 0},\n",
       " {'content': \"Director and writer Rawson Marshall Thurber makes a late bid to direct an Indiana Jones movie. A character even whistles the Indy theme.With the Rock in the cast, it even pays homage to James Cameron's True Lies. There is even sultry Tango dance scene.Red Notice is a caper movie. John Hartley (Dwayne Johnson) is a profiler who is after art thief Nolan Booth (Ryan Reynolds) over three ancient fabled jewelled eggs given to Cleopatra.Getting in their way is the world's most wanted art thief called The Bishop (Gal Gadot) who always seems to be one step ahead.After being framed, Hartley needs to team up with Booth to clear his name.This is a mismatched buddy movie. Reynolds is untrustworthy and quick with the wisecracks. The Rock is there for the action scenes although you might raise an eyebrow when he gets a beating from Gadot.It is high octane and a lot of mindless fun. I rather enjoyed it. The Nazi vehicle car chase is on the silly side. It does have plenty of CGI, mainly due to a lack of international location shooting because of Covid.\",\n",
       "  'helpful': 0,\n",
       "  'title': '',\n",
       "  'author': 'ur4569900',\n",
       "  'date': '20 November 2021',\n",
       "  'rating': None,\n",
       "  'not_helpful': 0},\n",
       " {'content': \"John Hartley (Dwayne Johnson) is an FBI agent working with INTERPOL attempting to locate Nolan Booth (Ryan Reynolds) a thief who is after Cleopatra's eggs. The Bishop (Gal Gadot) enters later as someone also after the eggs.The film is an action-comedy. It is twisty. Very twisty. There is an element of Indian Jones in the feature. Hard not to enjoy.Guide: F-word. No sex or nudity.\",\n",
       "  'helpful': 0,\n",
       "  'title': '',\n",
       "  'author': 'ur77881167',\n",
       "  'date': '7 December 2021',\n",
       "  'rating': None,\n",
       "  'not_helpful': 0},\n",
       " {'content': 'Or is it fifth wheel? I forget the saying - but it doesn\\'t really matter because you only have three main characters here. If you don\\'t count the woman chasing after Ryan Reynolds character. The movie overall seems quite straightforward. Odd choices by characters that don\\'t make sense included - like things they do. I understand they are there to build suspense and tension, but they don\\'t actually make sense.You\\'ll understand once you\\'ve seen the movie. It is the type of movie that is overall \"forgettable\". In the sense that you probably won\\'t think about it much - neither during watching it nor after having seen it. But the actors make it quite an enjoyable ride to take part of. Even Gal Gadot who I like and find quite attractive in general, but have not enjoyed acting wise as much, is quite fitting overall.Ryan Reynolds is his usual funny self - stealing the show if you allow the pun. Even though he wasn\\'t a producer on this and only \"acting\" in this one. He said in interviews that it was quite freeing (a Free guy at last, sorry had to) - experience wise. Any fan of his will be more than excited watching the movie. Add the Rock as a spice and you can not do wrong. Lower your expectations and just go with the flow.',\n",
       "  'helpful': 0,\n",
       "  'title': '',\n",
       "  'author': 'ur5876717',\n",
       "  'date': '17 November 2021',\n",
       "  'rating': None,\n",
       "  'not_helpful': 0},\n",
       " {'content': \"This isn't the greatest caper film by a long shot, but I thought it was pretty entertaining, with lots of humorous dialog between FBI profiler John Hartley (Dwayne Johnson) and world class art thief Nolan Booth (Ryan Reynolds). Throw in Gal Gadot as The Bishop and a foil for both men, and you've got a fast paced flick that darts around the world with the trio pulling off their various antics. With the three of them turning up all over the place these days, I guess it was a natural that they wind up in a film together. The plot makes me wonder though, how long film makers will continue to resort to Nazi treasures from World War II; there can't be too many of those still hanging around by now. In any event, the fairly clichéd story is livened up by the sudden change of locales, the brisk pace, and the effective chemistry between the principal players, even when they find themselves on opposite sides of the plot. Nice work too from Ritu Arya as Inspector Urvashi Das; I'd like to see her turn up in the sequel.\",\n",
       "  'helpful': 0,\n",
       "  'title': '',\n",
       "  'author': 'ur2707735',\n",
       "  'date': '18 November 2021',\n",
       "  'rating': None,\n",
       "  'not_helpful': 0},\n",
       " {'content': \"In the opening prologue we are told that Mark Anthony gave Cleopatra three jewel encrusted eggs as a wedding present. After their deaths the eggs were lost until two were discovered in 1907. One is in a Rome museum, one is owned by Sotto Voce, an arms dealer, and the other is still lost.After a tip off from an art thief known as 'The Bishop, 'FBI Profiler Special Agent John Hartley believes that rival art thief Nolan Booth is planning to steal the first egg so heads to Rome with Interpol agent Urvashi Das and a team of police to arrest him. The operation appears to go well but the egg disappears; Hartley is accused of being involved and finds himself in the same Russian jail cell as Booth. Hartley wants to clear his name and arrest the thieves but to do that he will have to form an unlikely alliance with Booth and seek the eggs. Before the adventure is over they will have visited several countries and faced various dangers. There will also be further twists.It must be stated that this is a fairly silly film that requires the viewer to suspend disbelief and enjoy the ride; if one can do that it is rather fun. There is a lot of action in a series of exciting set pieces; fights; chases, shooting and explosions but nobody is seen to be killed. There are plenty of laughs to be had; usually provided by the banter between Booth and Hartley. The three leads; Dwayne Johnson, Ryan Reynolds and Gal Godot put in solid and enjoyable performances as Hartley, Booth and The Bishop; other notable performances come from Ritu Arya as Urvashi Das and Chris Diamantopoulos as Sotto Voce. Overall I'd say this is well worth watching if you want a brain-in-neutral thrill ride with excitement and laughs but not much to cause offence.\",\n",
       "  'helpful': 0,\n",
       "  'title': '',\n",
       "  'author': 'ur13977076',\n",
       "  'date': '17 November 2021',\n",
       "  'rating': None,\n",
       "  'not_helpful': 0},\n",
       " {'content': 'Of course I had to sit down to watch the 2021 action crime comedy titled \"Red Notice\" given the three leading performers that starred in this movie. Had I heard about the movie prior to finding it on Netflix? Nope. But then again, I don\\'t really bother keeping up with trailers and forthcoming releases.Writer and director Rawson Marshall Thurber definitely managed to put together a very entertaining and wholesome storyline and plot for \"Red Notice\". And it was a story that contains a good amount of action, comedy, thrills and plot twists. So yeah, I was certainly entertained from the very beginning and up to the end. And I must also admit that some of the plot twists were rather enjoyable and some that I hadn\\'t foreseen coming.Needless to say that with a cast that includes Ryan Reynolds, Gal Gadot and Dwayne Johnson, then of course you are in for a stellar time with great performances. And the three lead performers definitely delivered. It should be noted that the performance from Chris Diamantopoulos and Daniel Bernhardt were also good, just wish that the latter had a bigger part to play in the movie.\"Red Notice\" takes you all across the world in a wonderful heist adventure with interesting characters, fast paced action, good comedy and also good dialogue. And the fact that the movie was very dynamic in its cinematography definitely helped to sell the movie.You should certainly sit down to watch \"Red Notice\" if you get the chance.My rating of \"Red Notice\" lands on a very well-deserved eight out of ten stars.',\n",
       "  'helpful': 0,\n",
       "  'title': '',\n",
       "  'author': 'ur22654354',\n",
       "  'date': '12 November 2021',\n",
       "  'rating': None,\n",
       "  'not_helpful': 0},\n",
       " {'content': 'Dwayne Johnson stars with Ryan Reynolds and Gal Gadot in \"Red Notice\" from 2021.Mark Antony gave Cleopatra three bejeweled eggs as a wedding gift. Think Faberge eggs on steroids. Johnson plays John Hartley, who works for the FBI, trying to catch a notorious jewel thief, Nolan Booth (Ryan Reynolds) before he manages to steal them.I\\'ve never seen a Dwayne Johnson movie. For me, this was a lot of fun, with great characters and dialogue, particularly Reynolds. \"This is farm to table, right?\" he asks a prison chef as slop is slapped into a bowl. He and Johnson are very funny together, and the action is non-stop. Gadot is gorgeous.I enjoyed all the clever escapes, the banter, the fights, the parties, the dancing, even the derivative Indiana Jones feel of the movie.Mindless fun - and sometimes that\\'s just what the doctor ordered.',\n",
       "  'helpful': 0,\n",
       "  'title': '',\n",
       "  'author': 'ur0342623',\n",
       "  'date': '24 November 2021',\n",
       "  'rating': None,\n",
       "  'not_helpful': 0},\n",
       " {'content': 'Not as good as I was anticipating. A few good jokes and fight scenes, but the script was bland and the visuals looked fake. An all star cast but no substance to the story or characters.',\n",
       "  'helpful': 0,\n",
       "  'title': '',\n",
       "  'author': 'ur29385135',\n",
       "  'date': '14 November 2021',\n",
       "  'rating': None,\n",
       "  'not_helpful': 0},\n",
       " {'content': 'This film begins with a story about three jewel-encrusted, golden eggs presented to Cleopatra from Mark Antony before their deaths. Needless to say, they are quite valuable with the first being displayed at the Museo Nazionale di Castel Sant\\'Angelo in Rome, the second one owned by a private collector and the third having never been found. So, when the word goes out that a rich Egyptian billionaire will pay $300 million for all three of these eggs to present at his daughter\\'s upcoming wedding, \"Special Agent John Hartley\" of the FBI immediately heads to Rome in anticipation of a heist. However, when he and Interpol agent \"Urvashi Das\" (Ritu Arya) arrive at the museum they discover that the egg has been stolen only minutes before by an infamous jewel thief named \"Nolan Booth\" (Ryan Reynolds). Naturally, a manhunt is immediately ordered but complicating matters is the fact than an even more notorious jewel thief by the name of \"The Bishop\" (Gal Gadot) also wants all three eggs and she is even better at this business than Nolan Booth. Now rather than reveal any more I will just say this was an enjoyable action film for the most part with some good comedy thrown into the mix as well. Admittedly, some of the action scenarios were a bit too far-fetched in my opinion, but all things being considered I found this to be an entertaining movie all the same and I have rated it accordingly. Slightly above average.',\n",
       "  'helpful': 0,\n",
       "  'title': '',\n",
       "  'author': 'ur36357573',\n",
       "  'date': '5 December 2021',\n",
       "  'rating': None,\n",
       "  'not_helpful': 0},\n",
       " {'content': \"Weird flick, even as it has a lot of action and funny moments still it wasn't really my thing.Dis I laugh yes sure I did especially with the car/motorbike chase and in some situations but the problem I had, the acting was well, how do I say. The main leads were all doing what they do best, and espescially with the Ryan jokes it reminded me a lot of Deadpool.It's not that the acting was bad, guess it's the script.So overall a family flick...typical netflixGore 0/5 Nudity 0/5 Effects 4/5 Story 2;5/5 Comedy 1,5/5.\",\n",
       "  'helpful': 0,\n",
       "  'title': '',\n",
       "  'author': 'ur12844960',\n",
       "  'date': '24 November 2021',\n",
       "  'rating': None,\n",
       "  'not_helpful': 0},\n",
       " {'content': 'The title of the movie comes from Interpol\\'s \"most wanted\" list, but in it it\\'s not about the Russian, South American and Muslim folks in the real list, but about art thieves, conning and stealing from everybody and each other. You got Ryan Reynolds with his usual charm and jokes, you get The Rock with his bulk and shiny smile and you get Gal Gadot with her beauty and... overwhelming competence? In movie speak, it\\'s a match made in heaven, and the film is not that bad. So win, win. If you check your brain at the door you will enjoy the movie.The problem is that you\\'ve seen it all before. Ryan Reynolds does the same jokes, The Rock rocks the same way, Gal Gadot is relatively new, but she might as well have been Wonder Woman and you wouldn\\'t have noticed (heh) the difference. Also, the Red Notice thing (already used in another Reynolds film), The Rock in a team of daring thieves that are good at heart (also done), the team of reluctant heroes, the cardboard cops and villains, the formulaic escapes and heist plans that can\\'t work in the real life. Absolutely NOTHING new.And you know at the end there\\'s going to be the mother of all twists, and you wait for it, even if it\\'s a bit obvious. And you enjoy the action, even if it feels like The Rock is the playing character in a video game and he just goes along with the cinematics in order to do the daring feats without dying, even if he has save games. And you like the characters because the actors are so charismatic. But the story and the plot... those get sacrificed yet again.Bottom line: a completely standard film that you\\'ve seen dozens of times before, just with more fashionable stars.',\n",
       "  'helpful': 0,\n",
       "  'title': '',\n",
       "  'author': 'ur3146136',\n",
       "  'date': '12 November 2021',\n",
       "  'rating': None,\n",
       "  'not_helpful': 0},\n",
       " {'content': \"Red Notice is an interesting experiment to see what happens when you put three attractive and charismatic lead actors in a movie with a cookie-cutter plot. As it turns out, it's pretty enjoyable. And while the twists and turns don't really make sense, I still found myself smirking at the jokes and allowing ridiculousness because I was having a good time. Red Notice doesn't break any new ground, but it's a safe bet if you're looking for an action comedy to pass the time.\",\n",
       "  'helpful': 0,\n",
       "  'title': '',\n",
       "  'author': 'ur6201371',\n",
       "  'date': '26 November 2021',\n",
       "  'rating': None,\n",
       "  'not_helpful': 0},\n",
       " {'content': \"Often times people in the house will watch movies like RN. I've seen the trailers and had 0 interest. It looked like another filth movie. So since the movie is playing I might as well watch it and write an honest review.It stars the so called Peoples Champ, horrible Deadpool guy and umm... What looks like that lady who stars as Groot I mean Wonder Man.RN is just another one of those waste of time movies. The CGI looks garbage and Ryan doesn't know how to act like anyone else but Deadpool. Those movies were garbage. Don't worry I'll be reviewing that Free Guy movie very soon.It's an adventure film about 3 guys searching for an egg. Yes. I just watched a 2 hour movie about 3 guys looking for an egg.The movie has those boring shoot outs where the camera man needs to do those annoying cut aways. Then those obnoxious car chase scenes.The movie has the most obvious twists. Even The best car chase scene I've ever seen was in Civil War when the Black Panta was chasing the Winter Soldier.This was my first Rock movie since Rampage and he has gotten better. When I see him in those Kevin Hart movies I question his skills. In this movie they seem on par.It's like the Rock has been in the same adventure, treasure hunt movies.Wonder Man actor still as wooden as ever. How does he or she even get work?Yeah this movie was a waste of time. I Thank the movie God's for not allowing me to spend a dime on Netflix to watch this filthy product just so I can tell the movie saints how bad this movie was.Don't watch this movie.\",\n",
       "  'helpful': 0,\n",
       "  'title': '',\n",
       "  'author': 'ur71305899',\n",
       "  'date': '23 November 2021',\n",
       "  'rating': None,\n",
       "  'not_helpful': 0},\n",
       " {'content': \"Is my main stigmata to this story of highbrow thefts of artifacts of ancient times. Its a globetrotting race in 70 miles per step speed, fetching t-water to the princess, or just for the convinience of it. Its also a hymn to convenient connections among thieves , 3 magpies vs the world eg forza italia and the fbi. Its also a test of the moral code in the criminal underworld, and it seems that the clue to solve all the problems is based on ''the doupt of a lie''its a nonstop action film mixed with loads of special effects and vfx, not all of them are perfect, but in the blur of speed any sidevision dissapear so it works anyway.the main male cast does a fine job, the rest is at an average and not so into the yolk-business as mr reynolds and mr johnson, cause joking around is a great part of the entertainment, and without it it wouldnt have been the same.Some glorious looking lightsetting work in the sunshine, and an editor that hasnt got the best load of shoots to digitize together do give some clue why some of the criticism to this film has risen. Also mr thurbers might and title appearances on the cac-list, gives you the feeling of a onemans egotrip tohit his the burnmark on the sphere of silverscreen horizon.But its high on show, and moves unbelievable fast, it has some adult comments that may not suit the youngest of the juvenile (not infants)viewers, otherwise low on blood and gore factor that may gain my wifes attention, the grumpy old man recommends...\",\n",
       "  'helpful': 0,\n",
       "  'title': '',\n",
       "  'author': 'ur79950921',\n",
       "  'date': '13 November 2021',\n",
       "  'rating': None,\n",
       "  'not_helpful': 0},\n",
       " {'content': \"This is basically a cross between a heist film and an Indiana Jones film namely because the main character is a professional thief who is out to locate three artifacts known as Cleopatra's Eggs. It is also one of those buddy comedy films, though of course with these films the buddies tend to go together like chalk and cheese. Actually, one of the characters is an FBI agent who is trying to track down one of these thieves, while the other is a professional thief, apparently the best in the world, that his until his main rival steps in a manages to outsmart him.I have found heist films to be a little dull and boring of late, namely because a lot of them simply boil down to them basically pulling off a major heist, and then going off and living a life of luxury. This film changes track by mixing a lot of elements that you would expect from an Indiana Jones film, which is why I actually really liked it. Actually, come to think of it, I felt that the chemistry between Dwayne Johnson and Ryan Reynolds was pretty good as well, especially since they team up to try and take down the other thief.The concept of the Red Notice is that it is a notice that is issued by Interpol that the person on the notice is wanted by one of the member state's authorities. It isn't an arrest warrant, it is just a notice, and the authorities can act on it or not. Of course, our heroes happen to be international criminals, which is basically why Interpol is involved - they are really only interested in trans-national crimes, and this is because the thieves that we are interested in are somewhat experts at getting into and out of places that they aren't supposed to.Okay, it does lack the mysticism that the Indiana Jones' films are famous for, and rather it tends to focus mostly on treasures and artwork, and of course the thieves making plans to attempt to break into places that are basically impossible to break into. However, it is actually a pretty cool, and quite an enjoyable film, but then again a lot of Dwayne Johnson's films are like that. Oh, and the other thing is that there are some pretty interesting twists in this film as well. Yeah, it's pretty enjoyable, and certainly does work quite well. Sure, it may not be one of the best films out there, but it is till quite worth watching.\",\n",
       "  'helpful': 0,\n",
       "  'title': '',\n",
       "  'author': 'ur27175177',\n",
       "  'date': '21 November 2021',\n",
       "  'rating': None,\n",
       "  'not_helpful': 0},\n",
       " {'content': '\"Red Notice\" is one of those all-out fun movie that one never gets tired of watching, well, from time to time and in the right mood. The remuneration of the three leads likely took a hurting bite from the total budget. There is another one though, playing the stereotyped law enforcer that has been taken for a ride, right from the beginning, all the way to the end. This is played by lovely Ritu Arya (\"The Umbrella Academy\" TV series), together with her music-like British diction.The main plotline is about stealing three \"Cleopatra\\'s eggs\", the first one from a museum, the second from a private and the third from a location not yet known. We have an odd couple alliance between the two male leads, which they emphasize is not a partnership but a \"marriage of convenience\" in which each wants \"to get a divorce, keeping the kids\".Among many things in this \"Raider genre\", this movie has the must-have round-the-world tour setup. Starting in Rome, no time is lost in introducing the audience to a pair of law enforcers, FBI John Hartley (Dwayne Johnson) and Interpol (Ritu Arya) catch Nolan Booth (Ryan Reynolds), the second best thief in the world, hot in the act of stealing the \"egg\", only to lose him again. Sweeping though Bali, Rome (again) London and Russia, the plotline is firmed up as the abovementioned \"marriage\" between Booth and Hartley (allegedly framed), to steal the second egg for the world\\'s best thief The Bishop (Gal Gadot), who plays them like two puppets on a string.For the rest of the movie, I would just say: enjoy the roller coaster ride. One more thing to mention is that this movie is not shy in referencing, making tribute to other movies/shows. The theme from Raider of the Lost Ark is used, with characters actually mentioning that movie. Ed Sheeran appears in person and make reference to his cameo appearance in Game of Thrones. These are just two of many examples.',\n",
       "  'helpful': 0,\n",
       "  'title': '',\n",
       "  'author': 'ur1606763',\n",
       "  'date': '9 December 2021',\n",
       "  'rating': None,\n",
       "  'not_helpful': 0},\n",
       " {'content': '\"Red Notice\" is an Action - Comedy movie in which we watch an Interpol agent trying to track down the most notorious thief. Everything falls apart due to the occurrence of some unexpected events and something has to be done to change it.I enjoyed this movie because it had an interesting plot, filled with plenty of action scenes and much of suspense. The combination of comedy with action was very good and created a nice atmosphere in the movie. The interpretations of Ryan Reynolds\\' who played as Nolan Booth, Gal Gadot\\'s who played as The Bishop and Dwayne Johnson\\'s who played as John Hartley were very good. The direction which was made by Rawson Marshall Thurber was equally good with the interpretations of the cast, and he presented very well both the plot and his main characters. Finally, I have to say that \"Red Notice\" is a nice, entertaining movie and I recommend you to watch it because you will laugh and you will have a great time.',\n",
       "  'helpful': 0,\n",
       "  'title': '',\n",
       "  'author': 'ur33907744',\n",
       "  'date': '7 December 2021',\n",
       "  'rating': None,\n",
       "  'not_helpful': 0},\n",
       " {'content': \"5 out of 5 stars.Red Notice is an awesome action comedy that brings the fun talent with Dwayne Johnson, Ryan Reynolds, and Gal Gadot. Taking these characters into an action packed ride with a side of laughs.I actually enjoyed the film more than I thought I would. Lots of action and humor. A story about a FBI profiler John (Dwayne Johnson) joining an Interpol agent Das (Ritu Arya) to help track down one of the highest skilled thief con artist Nolan (Ryan Reynolds). Who is on a track of trying to steal three of Cleopatra's golden eggs. When Nolan is caught and John is set up by another skilled con artist known as the Bishop (Gal Gadot). Nolan and John in a Russian prison. They both try to join forces to escape and chase down the Bishop before she can get her hands on the eggs. And John clearing his name.The film is action packed. And a lot of fun seeing Ryan Reynolds and Dwayne Johnson banter at each other throughout. Johnson being a brute and Reynolds being the wise cracking talker. And Gal being a skilled fighter. The film is fast paced. Lots of fun set pieces. And humor.Director Rawson Marshall Thurber knows how to handle the action sequences. Taking these characters into a fun Indiana Jones mixed with a bit of National Treasure ride. Great cast ensemble. The film does have a twist that is fun and entertaining. Which leaves you wanting more after it ends. I would love to see a sequel.Overall, Red Notice is a lot of fun, fast, action packed with some humor.\",\n",
       "  'helpful': 0,\n",
       "  'title': '',\n",
       "  'author': 'ur57691865',\n",
       "  'date': '15 November 2021',\n",
       "  'rating': 1,\n",
       "  'not_helpful': 0},\n",
       " {'content': \"It's been a few days since I sat down and watched Red Notice, yet despite only mere hours passing in time I find myself struggling to recall anything of note in a film that fails to create a spark of imagination or excitement.Costing $200 million to make and starring some of the entertainment industries most well-liked stars, Notice is a flashy Netflix exclusive that recently became the streaming services biggest day one hit but despite its high quality coat of paint, Rawson Marshall Thurber's lifeless and charmless action/comedy romp is an instantly forgettable and an incessantly bland blockbuster that is merely coasting along at all times.Spanning a global collection of locales, that often are infused with a seriously distracting amount of poorly done green screen due to the film having to shoot through the Covid-19 pandemic, Notice should be a fun and frantic jaunt across the globe as we follow Dwayne Johnson's Interpol agent John Hartley (proving once more he loves a dress up more than anyone), Ryan Reynolds (wouldn't have guessed it) smart mouthed thief Nolan Booth and Wonder Woman herself Gal Gadot as the mysterious Bishop as the trio hunt down some priceless egg artefacts and try outsmart each other along the way.Utilising a well-trodden path that was experienced by cinema fans with the likes of the Indiana Jones and early The Mummy franchises, Notice sadly lacks any of the smarts or style those type of entertaining romps possessed as Thurber struggles to bring much to the table when it comes to the action stakes, with many set pieces looking like a glorified video game rather than a top notch cinematic production, while his cast can't salvage the film from the boredom it will induce with fairly pedestrian turns that do nothing to enhance their reputations as Hollywood heavyweights.Recently announcing his break from Hollywood for the foreseeable future after a number of years plying away busily in a number of productions, Notice marks a new low for the career trajectory of Ryan Reynolds in particular who has become a walking and talking caricature of his real life persona mixed with Deadpool's initially charming boundary pushing and wisecracks.Trying little too do anything he hasn't done in his last handful of big films, Reynolds seems content to sleepwalk through his roles of recent times and his lethargy in bringing the potentially entertaining Booth to life here is a key example of just how tiresome and unenthusiastic this heist/adventure is, with Reynolds lame turn but one component of a film that does nothing too distinguish itself from the pack and seems content with merely existing rather than finding a reason to make us care or wish for more of where this came from.Final Say -A sadly typical Netflix waste of money, Red Notice should be a mindlessly entertaining and exciting ride but it's nothing more than a tiresome and trite example of modern day blockbuster film-making, the type of film-making that may get nice numbers to report on in regards to streaming performances but does nothing else worth remembering.1 1/2 Vin Diesel audition tapes out of 5.\",\n",
       "  'helpful': 0,\n",
       "  'title': '',\n",
       "  'author': 'ur8462477',\n",
       "  'date': '21 November 2021',\n",
       "  'rating': None,\n",
       "  'not_helpful': 0},\n",
       " {'content': 'Was this story anything we haven\\'t seen before? Absolutely not. Was it mindless entertainment watching three of Hollywood\\'s top actors having fun? Absolutely yes.This was Netflix\\'s most expensive investment to date (200M, 60M being just the 3 leads salary), and I\\'m sure they will still make a profit, regardless of the negativity from the critics. I mean who the heck won\\'t pay to see any of these three actors individually, let alone all three together.The writing could\\'ve been slicker, instead of pretty much boilerplate cliched for this overused genre, but it was still a fun ride. There were some surprising twists and turns, and Ed Sheeran\\'s cameo appearance was priceless. All three A-listers had excellent chemistry, but Reynolds tipped the scales, as usual, in the laughter department. Reynolds is Hollywood\\'s \"Golden Boy of Humorous Entertainment\", and a gift to the rest of the world. On his own, or paired up with any actor, any film he is in, is fun as hell.The film was incredibly shot with amazing sets and landscapes, excellent cinematography and score, well directed and entertainingly written. The two-hour runtime flew by, I actually wanted more. I\\'m glad they closed out the film ready for a sequel, because I\\'d give anything to see these three together again. Ignore the picky critics; grab your favorite snacks and beverages, sit back and enjoy the fun ride. It\\'s a well deserved 8/10 from me.',\n",
       "  'helpful': 0,\n",
       "  'title': '',\n",
       "  'author': 'ur64798417',\n",
       "  'date': '13 November 2021',\n",
       "  'rating': None,\n",
       "  'not_helpful': 0},\n",
       " {'content': \"It would have been acceptable if they didn't use cliches, fallacious logic and Deus ex machina in almost every scene.The casting is good but I am tired of Dwayne Johnson and Ryan Reynolds.Ryan Reynolds is great as Deadpool but he plays Deadpool in every character. Dwayne Johnson is actually very good in this movie.The movie isn't acceptable. It is actually terrible on every level. It isn't all that funny. It isn't at all logical and it isn't at all realistic.\",\n",
       "  'helpful': 0,\n",
       "  'title': '',\n",
       "  'author': 'ur2582239',\n",
       "  'date': '14 November 2021',\n",
       "  'rating': None,\n",
       "  'not_helpful': 0},\n",
       " {'content': \"Red Notice (2021) : Movie Review -Looking back at heist thrillers made in Hollywood, one can easily pick out best from recent franchise movies. Red Notice is a new attempt to glamorize those typical cliches and it definitely delivers what it promises from the trailer. It is not 'Mission Impossible' or 'Fast And Furious' Franchise Film but it makes a good combination of action packed entertainer and heist-thriller by altering many segments out of them. By the time we are going ahead with other franchise films and digital releases, Red Notice surely makes a fine popcorn entertainer for the weekend.An Interpol-issued red notice is a global alert to hunt and capture the world's most wanted. But when a daring heist brings together the FBI's top profiler John Hartley (Dwayne Johnson) and two rival criminals Nolan and Sarah (Ryan Reynolds and Gal Gadot), there's no telling what will happen. John is on the hunt while Nolan and Sarah are fighting to top each other. All this is just nothing in front of what film has to tell afterwards. Spoilers are strictly condemned here! Mouth shut. There are plenty of twists coming one after another, there's breathtaking action and then there is gripping screenplay. Those 90 minutes never look boring and that's the biggest triumph for Red Notice.When it comes to acting, these commercial potboilers aren't supposed to be tidy. Most of the people don't even care as far as they are enjoying explosive stuff. Red Notice is still decent there as Johnson looks pretty convincing as he carries his best suited macho image. Gadot sizzles in her Red Hot Avatar and in some scenes she beats out both the male forces. Compared to that, Reynold is quite a break as he succeeds to keep the humour alive. Talking about the action scenes and visuals, Red Notice gets a Green Signal. However, it is still red when it comes to using those old clinches. For instance, that smart heist in the beginning. You know how it's gonna happen and how it's gonna end cause all of it has been used hundreds of times before. We should be thankful to the action choreographer for literally taking away our breath a few times as well as the cameraman for those jittering close-up frames and superfast zooms.There isn't much to bash in this film but still if there's in anything, then it's stereotypes. Visually, it's a grand film and the production value is lavish too. Watching this film on Big-Screen will snatch away lot of shortcomings so it should be viewed accordingly. Action lovers have became used to all the tricks by now so, they won't be too harsh on Rawson Marshall Thurber, as a director. As a writer, he could have done better though. Summing up everything in short, Red Notice packs a solid punch of Action, Twists and Suprises in an old healthy heist drama.RATING - 6/10*\",\n",
       "  'helpful': 0,\n",
       "  'title': '',\n",
       "  'author': 'ur50463365',\n",
       "  'date': '4 November 2021',\n",
       "  'rating': None,\n",
       "  'not_helpful': 0},\n",
       " {'content': \"When the jokes are good, you wont hear me complaining!The good: excellent jokes, excellent timing and great actors performing at their comical best. Tons of action. Lighthearted, fastpaced, riveting story. Great dialogues. This is comedy at it's best.Not any bad? It's completely silly and that is how it is suppose to be. It's a mix of James Bond and Mission Impossible, but then way more SILLIER.I loved it. Entertainment for the entire family. Young and old could love this. A perfect holiday movie blockbuster.\",\n",
       "  'helpful': 0,\n",
       "  'title': '',\n",
       "  'author': 'ur84924605',\n",
       "  'date': '26 November 2021',\n",
       "  'rating': None,\n",
       "  'not_helpful': 0},\n",
       " {'content': \"Red Notice is a 2021 Netflix comedy starring Dwanye Johnson,Ryan Reynolds and Gal Gadot. Directed by the man that brought us Central Intelligence the movie is as follows.An FBI agent named John Hartley(Johnson)teams up with a former art theif(Reynolds) to find Cleopatra's egg. But when another theif known as the Bishop (Gadot)is also finding the egg,will John get his name cleared and find the egg before The Bishop gets it?.The story is decent and the actors are great as I love Ryan Reynolds,Dwanye Johnson and Gal Gadot(from Wonder Woman).If you love heist films than check it out. Ed Sheeran makes a surprise cameo near the end of the film.C.\",\n",
       "  'helpful': 0,\n",
       "  'title': '',\n",
       "  'author': 'ur23566468',\n",
       "  'date': '18 November 2021',\n",
       "  'rating': None,\n",
       "  'not_helpful': 0}]"
      ]
     },
     "execution_count": 10,
     "metadata": {},
     "output_type": "execute_result"
    }
   ],
   "source": [
    "rn['reviews']"
   ]
  },
  {
   "cell_type": "code",
   "execution_count": 12,
   "id": "6b67c0c8",
   "metadata": {},
   "outputs": [
    {
     "data": {
      "text/plain": [
       "25"
      ]
     },
     "execution_count": 12,
     "metadata": {},
     "output_type": "execute_result"
    }
   ],
   "source": [
    "len(rn['reviews'])"
   ]
  },
  {
   "cell_type": "markdown",
   "id": "4cebf3db",
   "metadata": {},
   "source": [
    "## sentiment"
   ]
  },
  {
   "cell_type": "code",
   "execution_count": 11,
   "id": "94e46734",
   "metadata": {},
   "outputs": [],
   "source": [
    "import nltk"
   ]
  },
  {
   "cell_type": "code",
   "execution_count": 14,
   "id": "4d432f22",
   "metadata": {},
   "outputs": [
    {
     "data": {
      "text/plain": [
       "[{'neg': 0.143, 'neu': 0.746, 'pos': 0.111, 'compound': -0.8864},\n",
       " {'neg': 0.097, 'neu': 0.836, 'pos': 0.067, 'compound': -0.7184},\n",
       " {'neg': 0.103, 'neu': 0.897, 'pos': 0.0, 'compound': -0.7184},\n",
       " {'neg': 0.098, 'neu': 0.739, 'pos': 0.162, 'compound': 0.9633},\n",
       " {'neg': 0.057, 'neu': 0.796, 'pos': 0.147, 'compound': 0.9605},\n",
       " {'neg': 0.117, 'neu': 0.737, 'pos': 0.146, 'compound': 0.872},\n",
       " {'neg': 0.007, 'neu': 0.701, 'pos': 0.292, 'compound': 0.9982},\n",
       " {'neg': 0.094, 'neu': 0.714, 'pos': 0.192, 'compound': 0.9359},\n",
       " {'neg': 0.292, 'neu': 0.672, 'pos': 0.036, 'compound': -0.8643},\n",
       " {'neg': 0.053, 'neu': 0.817, 'pos': 0.13, 'compound': 0.9559},\n",
       " {'neg': 0.09, 'neu': 0.705, 'pos': 0.205, 'compound': 0.8868},\n",
       " {'neg': 0.07, 'neu': 0.725, 'pos': 0.206, 'compound': 0.9943},\n",
       " {'neg': 0.017, 'neu': 0.776, 'pos': 0.207, 'compound': 0.9306},\n",
       " {'neg': 0.104, 'neu': 0.735, 'pos': 0.161, 'compound': 0.9304},\n",
       " {'neg': 0.058, 'neu': 0.813, 'pos': 0.129, 'compound': 0.9678},\n",
       " {'neg': 0.039, 'neu': 0.804, 'pos': 0.157, 'compound': 0.9942},\n",
       " {'neg': 0.104, 'neu': 0.802, 'pos': 0.094, 'compound': -0.6795},\n",
       " {'neg': 0.034, 'neu': 0.71, 'pos': 0.256, 'compound': 0.9907},\n",
       " {'neg': 0.033, 'neu': 0.76, 'pos': 0.207, 'compound': 0.9934},\n",
       " {'neg': 0.093, 'neu': 0.767, 'pos': 0.14, 'compound': 0.9848},\n",
       " {'neg': 0.039, 'neu': 0.672, 'pos': 0.289, 'compound': 0.9972},\n",
       " {'neg': 0.111, 'neu': 0.702, 'pos': 0.186, 'compound': 0.7537},\n",
       " {'neg': 0.04, 'neu': 0.758, 'pos': 0.202, 'compound': 0.9982},\n",
       " {'neg': 0.019, 'neu': 0.525, 'pos': 0.456, 'compound': 0.9941},\n",
       " {'neg': 0.0, 'neu': 0.795, 'pos': 0.205, 'compound': 0.9783}]"
      ]
     },
     "execution_count": 14,
     "metadata": {},
     "output_type": "execute_result"
    }
   ],
   "source": [
    "from nltk.sentiment import SentimentIntensityAnalyzer\n",
    "sia = SentimentIntensityAnalyzer()\n",
    "[sia.polarity_scores(reviews['content']) for reviews in rn['reviews']]"
   ]
  },
  {
   "cell_type": "code",
   "execution_count": null,
   "id": "6c5e6cd1",
   "metadata": {},
   "outputs": [],
   "source": [
    "sia.polarity_scores('\\n'.join([r['content'] for r in rn['reviews']]))"
   ]
  },
  {
   "cell_type": "markdown",
   "id": "6cf358a2",
   "metadata": {},
   "source": [
    "## lda"
   ]
  },
  {
   "cell_type": "code",
   "execution_count": null,
   "id": "d88e1094",
   "metadata": {},
   "outputs": [],
   "source": [
    "# importing some libraries\n",
    "import pandas as pd\n",
    "import pyspark\n",
    "from pyspark.sql import SQLContext\n",
    "\n",
    "sc = pyspark.SparkContext()\n",
    "sqlContext = SQLContext(sc)"
   ]
  },
  {
   "cell_type": "code",
   "execution_count": null,
   "id": "c784b9aa",
   "metadata": {},
   "outputs": [
    {
     "name": "stderr",
     "output_type": "stream",
     "text": [
      "[nltk_data] Downloading package stopwords to\n",
      "[nltk_data]     /Users/harrypotter/nltk_data...\n",
      "[nltk_data]   Unzipping corpora/stopwords.zip.\n"
     ]
    },
    {
     "data": {
      "text/plain": [
       "True"
      ]
     },
     "metadata": {},
     "output_type": "display_data"
    }
   ],
   "source": [
    "import nltk\n",
    "nltk.download('stopwords')"
   ]
  },
  {
   "cell_type": "code",
   "execution_count": null,
   "id": "81e09d15",
   "metadata": {},
   "outputs": [],
   "source": [
    "# stuff we'll need for text processing\n",
    "from nltk.corpus import stopwords\n",
    "import re as re\n",
    "from pyspark.ml.feature import CountVectorizer , IDF\n",
    "# stuff we'll need for building the model\n",
    "\n",
    "#from pyspark.mllib.linalg import Vector, Vectors\n",
    "from pyspark.ml.clustering import LDA\n",
    "# reading the data"
   ]
  },
  {
   "cell_type": "code",
   "execution_count": null,
   "id": "a4f77f46",
   "metadata": {},
   "outputs": [],
   "source": [
    "data = sc.textFile('./Output-1118.txt')\n",
    "\n",
    "stopWords = stopwords.words(\"english\")\n",
    "tokens = data.map(lambda document: document.strip().lower()) \\\n",
    "    .map(lambda document: re.split(\" \", document)) \\\n",
    "    .map(lambda word: [x for x in word if x.isalpha()]) \\\n",
    "    .map(lambda word: [x for x in word if len(x) > 3] ) \\\n",
    "    .map(lambda word: [x for x in word if x not in stopWords]) \\\n",
    "    .zipWithIndex()"
   ]
  },
  {
   "cell_type": "code",
   "execution_count": null,
   "id": "f1855c7c",
   "metadata": {},
   "outputs": [
    {
     "name": "stderr",
     "output_type": "stream",
     "text": []
    }
   ],
   "source": [
    "df_txts = sqlContext.createDataFrame(tokens, [\"list_of_words\",'index'])\n",
    "\n",
    "# TF\n",
    "cv = CountVectorizer(inputCol=\"list_of_words\", outputCol=\"raw_features\", vocabSize=5000, minDF=10.0)\n",
    "cvmodel = cv.fit(df_txts)\n",
    "result_cv = cvmodel.transform(df_txts)\n",
    "\n",
    "# IDF\n",
    "idf = IDF(inputCol=\"raw_features\", outputCol=\"features\")\n",
    "idfModel = idf.fit(result_cv)\n",
    "result_tfidf = idfModel.transform(result_cv)"
   ]
  },
  {
   "cell_type": "code",
   "execution_count": null,
   "id": "b6aec826",
   "metadata": {},
   "outputs": [
    {
     "name": "stderr",
     "output_type": "stream",
     "text": [
      "21/11/19 16:03:52 WARN BLAS: Failed to load implementation from: com.github.fommil.netlib.NativeSystemBLAS\n",
      "21/11/19 16:03:52 WARN BLAS: Failed to load implementation from: com.github.fommil.netlib.NativeRefBLAS\n"
     ]
    }
   ],
   "source": [
    "num_topics = 10\n",
    "max_iterations = 10\n",
    "lda_model = LDA(k=num_topics)\n",
    "lda_model.setMaxIter(max_iterations)\n",
    "model = lda_model.fit(result_tfidf)"
   ]
  },
  {
   "cell_type": "code",
   "execution_count": null,
   "id": "b0652763",
   "metadata": {},
   "outputs": [],
   "source": [
    "wordNumbers = 5  \n",
    "topicIndices = model.describeTopics(maxTermsPerTopic = wordNumbers)"
   ]
  },
  {
   "cell_type": "code",
   "execution_count": null,
   "id": "31a3810c",
   "metadata": {},
   "outputs": [],
   "source": [
    "topics_final = topicIndices.select('termIndices').rdd.map(\n",
    "    lambda topic: [i for i in topic.termIndices]\n",
    ").collect()"
   ]
  },
  {
   "cell_type": "code",
   "execution_count": null,
   "id": "696a8b4b",
   "metadata": {},
   "outputs": [
    {
     "data": {
      "text/plain": [
       "[[0, 3, 176, 31, 51],\n",
       " [0, 23, 229, 285, 272],\n",
       " [0, 75, 111, 94, 1],\n",
       " [0, 27, 1, 5, 6],\n",
       " [0, 160, 200, 201, 297],\n",
       " [45, 28, 67, 4, 137],\n",
       " [16, 56, 82, 73, 85],\n",
       " [7, 97, 0, 6, 2],\n",
       " [0, 37, 52, 29, 212],\n",
       " [1, 2, 0, 64, 93]]"
      ]
     },
     "metadata": {},
     "output_type": "display_data"
    }
   ],
   "source": [
    "topics_final"
   ]
  },
  {
   "cell_type": "code",
   "execution_count": null,
   "id": "a7c98054",
   "metadata": {},
   "outputs": [
    {
     "name": "stdout",
     "output_type": "stream",
     "text": [
      "Topic0: movie dans falar essa question \n",
      "Topic1: movie minha indo teen beach \n",
      "Topic2: movie click gather chance mais \n",
      "Topic3: movie full mais plus vous \n",
      "Topic4: movie follow retweet voltar high \n",
      "Topic5: going elle cause like kinda \n",
      "Topic6: juste dieu centre rater protéger \n",
      "Topic7: fait hashtag movie vous pour \n",
      "Topic8: movie trailer next vraiment doctor \n",
      "Topic9: mais pour movie photo national \n"
     ]
    }
   ],
   "source": [
    "for i in range(len(topics_final)):\n",
    "    print(\"Topic\" + str(i) + \":\", end=' ')\n",
    "    for id in topics_final[i]:\n",
    "        print(cvmodel.vocabulary[id], end=' ')\n",
    "    print()"
   ]
  },
  {
   "cell_type": "code",
   "execution_count": null,
   "id": "fc3bfe27",
   "metadata": {},
   "outputs": [
    {
     "data": {
      "text/plain": [
       "[Row(list_of_words=['veux', 'raconte', 'comment', 'deux', 'mois', 'failli', 'mourir', 'parce', 'mange', 'assez', 'drop', 'dmrt', 'yeah', 'love', 'movie', 'already', 'refusal', 'media', 'actually', 'showcase', 'center', 'black', 'characters', 'freely', 'lost'], index=0, raw_features=SparseVector(3037, {0: 1.0, 22: 1.0, 151: 1.0, 211: 1.0, 240: 1.0, 250: 1.0, 290: 1.0, 339: 1.0, 341: 1.0, 374: 1.0, 486: 1.0, 728: 1.0, 845: 1.0, 1002: 1.0, 1140: 1.0, 1322: 1.0, 1495: 1.0, 1497: 1.0, 1613: 1.0, 2296: 1.0}), features=SparseVector(3037, {0: 1.8978, 22: 4.2842, 151: 5.3256, 211: 5.5468, 240: 5.6186, 250: 5.6846, 290: 5.7675, 339: 5.8579, 341: 5.8715, 374: 5.9424, 486: 6.1189, 728: 6.4243, 845: 6.5784, 1002: 6.6962, 1140: 6.8297, 1322: 7.0709, 1495: 7.0709, 1497: 7.0709, 1613: 7.1662, 2296: 7.5229}))]"
      ]
     },
     "metadata": {},
     "output_type": "display_data"
    }
   ],
   "source": [
    "result_tfidf.take(1)"
   ]
  }
 ],
 "metadata": {
  "interpreter": {
   "hash": "fad867cfa03ebbbf80421dcd380638e027a5b963f86cdc02858bf6d5a7f81183"
  },
  "kernelspec": {
   "display_name": "Python 3.9.7 64-bit ('bd': conda)",
   "language": "python",
   "name": "python3"
  },
  "language_info": {
   "codemirror_mode": {
    "name": "ipython",
    "version": 3
   },
   "file_extension": ".py",
   "mimetype": "text/x-python",
   "name": "python",
   "nbconvert_exporter": "python",
   "pygments_lexer": "ipython3",
   "version": "3.9.7"
  }
 },
 "nbformat": 4,
 "nbformat_minor": 5
}
