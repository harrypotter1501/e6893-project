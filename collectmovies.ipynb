{
 "cells": [
  {
   "cell_type": "code",
   "execution_count": null,
   "metadata": {},
   "outputs": [],
   "source": [
    "# 只要把wishlist那一段用这部分代码替代就行\n",
    "from tmdbv3api import TMDb, Discover\n",
    "from utils.movies import search\n",
    "from config import *\n",
    "\n",
    "\n",
    "tmdb = TMDb()\n",
    "tmdb.api_key = api_key\n",
    "discover = Discover()\n",
    "\n",
    "movietitles = []\n",
    "\n",
    "\n",
    "# 按照years导入电影\n",
    "for years in range(2020, 2022):\n",
    "    # 按照pages导入电影\n",
    "    for pages in range(1,3):\n",
    "        results = discover.discover_movies({\n",
    "            'year': years,\n",
    "            'page': pages\n",
    "        })\n",
    "        for result in results:\n",
    "            movietitles.append(result.title)\n",
    "\n",
    "print(movietitles)\n",
    "#print(len(movietitles))\n"
   ]
  }
 ],
 "metadata": {
  "language_info": {
   "name": "python"
  },
  "orig_nbformat": 4
 },
 "nbformat": 4,
 "nbformat_minor": 2
}
